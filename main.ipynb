{
 "cells": [
  {
   "cell_type": "code",
   "execution_count": 3,
   "metadata": {},
   "outputs": [
    {
     "name": "stdout",
     "output_type": "stream",
     "text": [
      "b:\\Documenten\\TU_Delft\\Master\\Module_1\\Python\\Assignment\\TIL6022\\dashboard.py\n"
     ]
    },
    {
     "ename": "AttributeError",
     "evalue": "'str' object has no attribute 'type'",
     "output_type": "error",
     "traceback": [
      "\u001b[1;31m---------------------------------------------------------------------------\u001b[0m",
      "\u001b[1;31mAttributeError\u001b[0m                            Traceback (most recent call last)",
      "Cell \u001b[1;32mIn [3], line 9\u001b[0m\n\u001b[0;32m      7\u001b[0m \u001b[39mprint\u001b[39m(cdw_str)\n\u001b[0;32m      8\u001b[0m pth \u001b[39m=\u001b[39m os\u001b[39m.\u001b[39mpath\u001b[39m.\u001b[39mnormpath(cdw_str)\n\u001b[1;32m----> 9\u001b[0m pth\u001b[39m.\u001b[39;49mtype\n\u001b[0;32m     10\u001b[0m get_ipython()\u001b[39m.\u001b[39msystem(\u001b[39m'\u001b[39m\u001b[39mPowershell.exe -Command \u001b[39m\u001b[39m\"\u001b[39m\u001b[39mstreamlit run os.path.normpath(cdw_str)\u001b[39m\u001b[39m\"\u001b[39m\u001b[39m'\u001b[39m)\n",
      "\u001b[1;31mAttributeError\u001b[0m: 'str' object has no attribute 'type'"
     ]
    }
   ],
   "source": [
    "import streamlit as st\n",
    "import json\n",
    "import plotly.express as px\n",
    "import os\n",
    "!Powershell.exe -Command \"streamlit run b:\\Documenten\\TU_Delft\\Master\\Module_1\\Python\\Assignment\\TIL6022\\dashboard.py\"\n",
    "#https://daniellewisdl-streamlit-cheat-sheet-app-ytm9sg.streamlitapp.com/\n",
    "\n"
   ]
  },
  {
   "cell_type": "code",
   "execution_count": null,
   "metadata": {},
   "outputs": [],
   "source": [
    "\n"
   ]
  }
 ],
 "metadata": {
  "kernelspec": {
   "display_name": "Python 3.10.6 ('TIL6022')",
   "language": "python",
   "name": "python3"
  },
  "language_info": {
   "codemirror_mode": {
    "name": "ipython",
    "version": 3
   },
   "file_extension": ".py",
   "mimetype": "text/x-python",
   "name": "python",
   "nbconvert_exporter": "python",
   "pygments_lexer": "ipython3",
   "version": "3.10.6"
  },
  "orig_nbformat": 4,
  "vscode": {
   "interpreter": {
    "hash": "912e563e9dcba4627191cc3d93bbeccfd6aeff90cb759bc69d8ed01eba93c0fe"
   }
  }
 },
 "nbformat": 4,
 "nbformat_minor": 2
}
