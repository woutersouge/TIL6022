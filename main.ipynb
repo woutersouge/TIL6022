{
 "cells": [
  {
   "cell_type": "code",
   "execution_count": 2,
   "metadata": {},
   "outputs": [
    {
     "name": "stdout",
     "output_type": "stream",
     "text": [
      "^C\n"
     ]
    }
   ],
   "source": [
    "import streamlit as st\n",
    "import json\n",
    "import plotly.express as px\n",
    "import os\n",
    "!Powershell.exe -Command \"streamlit run b:\\Documenten\\TU_Delft\\Master\\Module_1\\Python\\Assignment\\TIL6022\\dashboard.py\"\n",
    "#https://daniellewisdl-streamlit-cheat-sheet-app-ytm9sg.streamlitapp.com/\n",
    "\n"
   ]
  },
  {
   "cell_type": "code",
   "execution_count": null,
   "metadata": {},
   "outputs": [],
   "source": [
    "\n"
   ]
  }
 ],
 "metadata": {
  "kernelspec": {
   "display_name": "Python 3.10.6 ('TIL6022')",
   "language": "python",
   "name": "python3"
  },
  "language_info": {
   "codemirror_mode": {
    "name": "ipython",
    "version": 3
   },
   "file_extension": ".py",
   "mimetype": "text/x-python",
   "name": "python",
   "nbconvert_exporter": "python",
   "pygments_lexer": "ipython3",
   "version": "3.10.6"
  },
  "orig_nbformat": 4,
  "vscode": {
   "interpreter": {
    "hash": "912e563e9dcba4627191cc3d93bbeccfd6aeff90cb759bc69d8ed01eba93c0fe"
   }
  }
 },
 "nbformat": 4,
 "nbformat_minor": 2
}
