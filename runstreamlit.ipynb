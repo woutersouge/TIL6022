{
 "cells": [
  {
   "cell_type": "code",
   "execution_count": 1,
   "metadata": {},
   "outputs": [
    {
     "name": "stdout",
     "output_type": "stream",
     "text": [
      "zsh:1: command not found: Powershell.exe\n"
     ]
    }
   ],
   "source": [
    "!Powershell.exe -Command \"streamlit run b:\\Documenten\\TU_Delft\\Master\\Module_1\\Python\\Assignment\\TIL6022\\dashboard.py\"\n",
    "#https://daniellewisdl-streamlit-cheat-sheet-app-ytm9sg.streamlitapp.com/\n",
    "\n"
   ]
  },
  {
   "cell_type": "code",
   "execution_count": null,
   "metadata": {},
   "outputs": [],
   "source": [
    "\n"
   ]
  }
 ],
 "metadata": {
  "kernelspec": {
   "display_name": "Python 3.10.6 ('TIL6022')",
   "language": "python",
   "name": "python3"
  },
  "language_info": {
   "codemirror_mode": {
    "name": "ipython",
    "version": 3
   },
   "file_extension": ".py",
   "mimetype": "text/x-python",
   "name": "python",
   "nbconvert_exporter": "python",
   "pygments_lexer": "ipython3",
   "version": "3.10.6"
  },
  "orig_nbformat": 4,
  "vscode": {
   "interpreter": {
    "hash": "d3d338b7fb9c886030ebbbe803d7f6b1aa32e3dde6a6cb8a2233600fe72de6a3"
   }
  }
 },
 "nbformat": 4,
 "nbformat_minor": 2
}
