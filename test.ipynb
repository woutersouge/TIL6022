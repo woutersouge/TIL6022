{
 "cells": [
  {
   "cell_type": "code",
   "execution_count": null,
   "metadata": {},
   "outputs": [],
   "source": [
    "print('Hello World')"
   ]
  }
 ],
 "metadata": {
  "kernelspec": {
   "display_name": "Python 3.10.6 ('TIL6022')",
   "language": "python",
   "name": "python3"
  },
  "language_info": {
   "name": "python",
   "version": "3.10.6"
  },
  "orig_nbformat": 4,
  "vscode": {
   "interpreter": {
    "hash": "d3d338b7fb9c886030ebbbe803d7f6b1aa32e3dde6a6cb8a2233600fe72de6a3"
   }
  }
 },
 "nbformat": 4,
 "nbformat_minor": 2
}
