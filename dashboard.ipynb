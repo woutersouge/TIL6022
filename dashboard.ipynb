{
 "cells": [
  {
   "cell_type": "code",
   "execution_count": 4,
   "metadata": {},
   "outputs": [
    {
     "data": {
      "text/html": [
       "<div>\n",
       "<style scoped>\n",
       "    .dataframe tbody tr th:only-of-type {\n",
       "        vertical-align: middle;\n",
       "    }\n",
       "\n",
       "    .dataframe tbody tr th {\n",
       "        vertical-align: top;\n",
       "    }\n",
       "\n",
       "    .dataframe thead th {\n",
       "        text-align: right;\n",
       "    }\n",
       "</style>\n",
       "<table border=\"1\" class=\"dataframe\">\n",
       "  <thead>\n",
       "    <tr style=\"text-align: right;\">\n",
       "      <th></th>\n",
       "      <th>country</th>\n",
       "      <th>sector</th>\n",
       "      <th>date</th>\n",
       "      <th>co2</th>\n",
       "    </tr>\n",
       "  </thead>\n",
       "  <tbody>\n",
       "    <tr>\n",
       "      <th>574</th>\n",
       "      <td>EU27 &amp; UK</td>\n",
       "      <td>Domestic Aviation</td>\n",
       "      <td>2019-01-01</td>\n",
       "      <td>1242.040164</td>\n",
       "    </tr>\n",
       "    <tr>\n",
       "      <th>575</th>\n",
       "      <td>EU27 &amp; UK</td>\n",
       "      <td>Domestic Aviation</td>\n",
       "      <td>2019-02-01</td>\n",
       "      <td>1176.891994</td>\n",
       "    </tr>\n",
       "    <tr>\n",
       "      <th>576</th>\n",
       "      <td>EU27 &amp; UK</td>\n",
       "      <td>Domestic Aviation</td>\n",
       "      <td>2019-03-01</td>\n",
       "      <td>1337.273622</td>\n",
       "    </tr>\n",
       "    <tr>\n",
       "      <th>577</th>\n",
       "      <td>EU27 &amp; UK</td>\n",
       "      <td>Domestic Aviation</td>\n",
       "      <td>2019-04-01</td>\n",
       "      <td>1368.893036</td>\n",
       "    </tr>\n",
       "    <tr>\n",
       "      <th>578</th>\n",
       "      <td>EU27 &amp; UK</td>\n",
       "      <td>Domestic Aviation</td>\n",
       "      <td>2019-05-01</td>\n",
       "      <td>1456.900692</td>\n",
       "    </tr>\n",
       "    <tr>\n",
       "      <th>...</th>\n",
       "      <td>...</td>\n",
       "      <td>...</td>\n",
       "      <td>...</td>\n",
       "      <td>...</td>\n",
       "    </tr>\n",
       "    <tr>\n",
       "      <th>856</th>\n",
       "      <td>EU27 &amp; UK</td>\n",
       "      <td>Total</td>\n",
       "      <td>2022-01-01</td>\n",
       "      <td>303709.090297</td>\n",
       "    </tr>\n",
       "    <tr>\n",
       "      <th>857</th>\n",
       "      <td>EU27 &amp; UK</td>\n",
       "      <td>Total</td>\n",
       "      <td>2022-02-01</td>\n",
       "      <td>264902.114454</td>\n",
       "    </tr>\n",
       "    <tr>\n",
       "      <th>858</th>\n",
       "      <td>EU27 &amp; UK</td>\n",
       "      <td>Total</td>\n",
       "      <td>2022-03-01</td>\n",
       "      <td>293708.139097</td>\n",
       "    </tr>\n",
       "    <tr>\n",
       "      <th>859</th>\n",
       "      <td>EU27 &amp; UK</td>\n",
       "      <td>Total</td>\n",
       "      <td>2022-04-01</td>\n",
       "      <td>251137.399223</td>\n",
       "    </tr>\n",
       "    <tr>\n",
       "      <th>860</th>\n",
       "      <td>EU27 &amp; UK</td>\n",
       "      <td>Total</td>\n",
       "      <td>2022-05-01</td>\n",
       "      <td>229430.905313</td>\n",
       "    </tr>\n",
       "  </tbody>\n",
       "</table>\n",
       "<p>287 rows × 4 columns</p>\n",
       "</div>"
      ],
      "text/plain": [
       "       country             sector        date            co2\n",
       "574  EU27 & UK  Domestic Aviation  2019-01-01    1242.040164\n",
       "575  EU27 & UK  Domestic Aviation  2019-02-01    1176.891994\n",
       "576  EU27 & UK  Domestic Aviation  2019-03-01    1337.273622\n",
       "577  EU27 & UK  Domestic Aviation  2019-04-01    1368.893036\n",
       "578  EU27 & UK  Domestic Aviation  2019-05-01    1456.900692\n",
       "..         ...                ...         ...            ...\n",
       "856  EU27 & UK              Total  2022-01-01  303709.090297\n",
       "857  EU27 & UK              Total  2022-02-01  264902.114454\n",
       "858  EU27 & UK              Total  2022-03-01  293708.139097\n",
       "859  EU27 & UK              Total  2022-04-01  251137.399223\n",
       "860  EU27 & UK              Total  2022-05-01  229430.905313\n",
       "\n",
       "[287 rows x 4 columns]"
      ]
     },
     "execution_count": 4,
     "metadata": {},
     "output_type": "execute_result"
    }
   ],
   "source": [
    "import streamlit as st\n",
    "import json\n",
    "import plotly.express as px\n",
    "import plotly.graph_objects as go\n",
    "from plotly.subplots import make_subplots\n",
    "import pandas as pd\n",
    "import geopandas as gpd\n",
    "import geojson\n",
    "import folium\n",
    "import numpy as np\n",
    "import datetime\n",
    "from shapely.geometry import Polygon, mapping\n",
    "from calendar import month\n",
    "from calendar import month_name as mn\n",
    "from matplotlib import animation\n",
    "import seaborn as sns\n",
    "\n",
    "\n",
    "\n",
    "dataset = 'TILL6022_Emission_Dataset.csv'\n",
    "df = pd.read_csv(dataset, delimiter=',', encoding='ISO-8859-1') #,parse_dates = ['date']\n",
    "country_bb = pd.read_csv('country_bb.csv', delimiter=',', encoding='ISO-8859-1')\n",
    "# country_bb.set_index('country', inplace=True)\n",
    "#df.set_index('country', inplace=True)\n",
    "#sf = df[df.date == '2019-01-01']\n",
    "# vf = df[df.sector == 'Total']\n",
    "\n",
    "\n"
   ]
  },
  {
   "cell_type": "markdown",
   "metadata": {},
   "source": [
    "Useful commands for geopandas\n",
    "#ar = gdf[gdf.ADMIN == 'Aruba'] #To find the country Aruba\n",
    "#print(ar.area)                 #Print area of country Aruba\n",
    "# gdf.ADMIN['Aruba']\n",
    "#counties['features'][3]['geometry'] access coordinates and type"
   ]
  },
  {
   "cell_type": "code",
   "execution_count": 54,
   "metadata": {},
   "outputs": [
    {
     "ename": "TypeError",
     "evalue": "list indices must be integers or slices, not str",
     "output_type": "error",
     "traceback": [
      "\u001b[1;31m---------------------------------------------------------------------------\u001b[0m",
      "\u001b[1;31mTypeError\u001b[0m                                 Traceback (most recent call last)",
      "Cell \u001b[1;32mIn [54], line 10\u001b[0m\n\u001b[0;32m      1\u001b[0m \u001b[39m# with open(\"B:\\Documenten\\TU_Delft\\Master\\Module_1\\Python\\Assignment\\TIL6022\\countries.geojson\") as f:\u001b[39;00m\n\u001b[0;32m      2\u001b[0m \u001b[39m#     counties = geojson.load(f)\u001b[39;00m\n\u001b[0;32m      3\u001b[0m \u001b[39m# gdf = gpd.GeoDataFrame.from_features(counties[\"features\"], crs=4326)\u001b[39;00m\n\u001b[1;32m   (...)\u001b[0m\n\u001b[0;32m      8\u001b[0m \n\u001b[0;32m      9\u001b[0m \u001b[39m#counties['features'][3]['geometry'] access coordinates and type\u001b[39;00m\n\u001b[1;32m---> 10\u001b[0m counties[\u001b[39m'\u001b[39;49m\u001b[39mfeatures\u001b[39;49m\u001b[39m'\u001b[39;49m][\u001b[39m'\u001b[39;49m\u001b[39mproperties\u001b[39;49m\u001b[39m'\u001b[39;49m]\n\u001b[0;32m     11\u001b[0m \u001b[39mwith\u001b[39;00m \u001b[39mopen\u001b[39m(\u001b[39m\"\u001b[39m\u001b[39mB:\u001b[39m\u001b[39m\\\u001b[39m\u001b[39mDocumenten\u001b[39m\u001b[39m\\\u001b[39m\u001b[39mTU_Delft\u001b[39m\u001b[39m\\\u001b[39m\u001b[39mMaster\u001b[39m\u001b[39m\\\u001b[39m\u001b[39mModule_1\u001b[39m\u001b[39m\\\u001b[39m\u001b[39mPython\u001b[39m\u001b[39m\\\u001b[39m\u001b[39mAssignment\u001b[39m\u001b[39m\\\u001b[39m\u001b[39mTIL6022\u001b[39m\u001b[39m\\\u001b[39m\u001b[39mcountries_simp.geojson\u001b[39m\u001b[39m\"\u001b[39m) \u001b[39mas\u001b[39;00m f:\n\u001b[0;32m     12\u001b[0m     counties \u001b[39m=\u001b[39m json\u001b[39m.\u001b[39mload(f)\n",
      "\u001b[1;31mTypeError\u001b[0m: list indices must be integers or slices, not str"
     ]
    }
   ],
   "source": [
    "# with open(\"B:\\Documenten\\TU_Delft\\Master\\Module_1\\Python\\Assignment\\TIL6022\\countries.geojson\") as f:\n",
    "#     counties = geojson.load(f)\n",
    "# gdf = gpd.GeoDataFrame.from_features(counties[\"features\"], crs=4326)\n",
    "# mask = gdf.area >2    # Function to remove smaller countries to speed up \n",
    "# gdf_selec = gdf.loc[mask]\n",
    "# gdf_selec.head()\n",
    "# ar = gdf[gdf.ADMIN == 'China']['geometry'] # access geometry data of China\n",
    "\n",
    "#counties['features'][3]['geometry'] access coordinates and type\n",
    "# counties['features']['properties']\n",
    "# with open(\"B:\\Documenten\\TU_Delft\\Master\\Module_1\\Python\\Assignment\\TIL6022\\countries_simp.geojson\") as f:\n",
    "#     counties = json.load(f)\n",
    "# with open(\"B:\\Documenten\\TU_Delft\\Master\\Module_1\\Python\\Assignment\\TIL6022\\countries_simp.geojson\") as f:\n",
    "#     counties = json.load(f)\n",
    "# gdf = gpd.GeoDataFrame.from_features(counties[\"features\"], crs=4326)\n",
    "# counties['features'][2]['properties']\n"
   ]
  },
  {
   "cell_type": "code",
   "execution_count": 55,
   "metadata": {},
   "outputs": [
    {
     "data": {
      "text/plain": [
       "{'type': 'Feature',\n",
       " 'geometry': None,\n",
       " 'properties': {'ADMIN': 'Aruba', 'ISO_A3': 'ABW'}}"
      ]
     },
     "execution_count": 55,
     "metadata": {},
     "output_type": "execute_result"
    }
   ],
   "source": [
    "# dept_geo = [0]*len(counties['features'])\n",
    "\n",
    "# Get data from dataset (using json.loads to transform string into dict for geoshape column)\n",
    "# cd_depts = gdf.ADMIN.tolist()\n",
    "# dept_geo[0] = counties['features'][0]['geometry']['coordinates']\n",
    "#counties['features'][0]"
   ]
  },
  {
   "cell_type": "code",
   "execution_count": 40,
   "metadata": {},
   "outputs": [],
   "source": [
    "# shapes = [0]*len(counties['features'])\n",
    "# for feature in range(len(counties['features'])):\n",
    "#   shapes[feature] = counties['features'][feature]['geometry']['coordinates']\n",
    "#   # for cood in range(len(feature['geometry']['coordinates'])):\n",
    "#     # shapes[cood] = feature['geometry'][cood]['coordinates']\n",
    "# cd_depts = gdf.ADMIN.tolist()\n",
    "# for cd_dept, shape in zip(cd_depts, shapes):\n",
    "    \n",
    "#     # Mapping information from data to GeoJSON file\n",
    "#     dept_geo.append({\n",
    "#         'type': 'Feature',\n",
    "#         'geometry': shape,\n",
    "#         'id':cd_dept\n",
    "#     })\n",
    "\n",
    "# # Encapsulate dept_geo in a real GeoJSON formatted file\n",
    "# dept_geo_ok = {'type': 'FeatureCollection', 'features': dept_geo}"
   ]
  },
  {
   "cell_type": "code",
   "execution_count": 2,
   "metadata": {},
   "outputs": [
    {
     "data": {
      "text/plain": [
       "array(['Brazil', 'China', 'EU27 & UK', 'France', 'Germany', 'India',\n",
       "       'Italy', 'Japan', 'ROW', 'Russia', 'Spain', 'UK', 'US', 'WORLD'],\n",
       "      dtype=object)"
      ]
     },
     "execution_count": 2,
     "metadata": {},
     "output_type": "execute_result"
    }
   ],
   "source": [
    "# import pandas as pd\n",
    "# import plotly\n",
    "# import numpy as np\n",
    "\n",
    "\n",
    "# from urllib.request import urlopen\n",
    "# import json\n",
    "# with urlopen('https://opendata.arcgis.com/datasets/c572ffec290b42768f80e43d31ac53a6_0.geojson') as response:\n",
    "#     counties = json.load(response)\n",
    "    \n",
    "# df = pd.read_excel('testdata.xlsx',dtype={\"cty19cd\": str})\n",
    "# df.columns=['CODE','NAME','VALUE']\n",
    "\n",
    "# import plotly.express as px\n",
    "\n",
    "# fig = px.choropleth(df, geojson=counties, locations='CODE', featureidkey=\"properties.cty19cd\", color='VALUE',\n",
    "#                            color_continuous_scale=\"Inferno\",\n",
    "#                             scope=\"europe\")\n",
    "\n",
    "# fig.update_geos( fitbounds=\"locations\", visible=True)\n",
    "# fig.write_html('maptest.html',auto_open=True)\n",
    "missing_EU = ['Belgium','Finland','Estonia','Austria','Luxembourg','Greece','Malta','Netherlands', ,'Hungary','Bulgaria','Latvia','Lithuania','Slovenia','Croatia','Ireland','Portugal','Slovakia','Denmark','Polan']"
   ]
  },
  {
   "cell_type": "code",
   "execution_count": 25,
   "metadata": {},
   "outputs": [
    {
     "ename": "NameError",
     "evalue": "name 'gdf' is not defined",
     "output_type": "error",
     "traceback": [
      "\u001b[1;31m---------------------------------------------------------------------------\u001b[0m",
      "\u001b[1;31mNameError\u001b[0m                                 Traceback (most recent call last)",
      "Cell \u001b[1;32mIn [25], line 18\u001b[0m\n\u001b[0;32m     15\u001b[0m dept_geo \u001b[39m=\u001b[39m []\n\u001b[0;32m     17\u001b[0m \u001b[39m# Get data from dataset (using json.loads to transform string into dict for geoshape column)\u001b[39;00m\n\u001b[1;32m---> 18\u001b[0m cd_depts \u001b[39m=\u001b[39m gdf\u001b[39m.\u001b[39mADMIN\u001b[39m.\u001b[39mtolist()\n\u001b[0;32m     19\u001b[0m shapes \u001b[39m=\u001b[39m gdf\u001b[39m.\u001b[39mgeometry\n\u001b[0;32m     20\u001b[0m cd \u001b[39m=\u001b[39m mapping(shapes)\n",
      "\u001b[1;31mNameError\u001b[0m: name 'gdf' is not defined"
     ]
    }
   ],
   "source": [
    "# map = folium.Map(\n",
    "#     location=[\n",
    "#         gdf_selec.geometry.bounds.miny.mean(),\n",
    "#         gdf_selec.geometry.bounds.minx.mean()\n",
    "#     ],\n",
    "#     zoom_start=1\n",
    "# )\n",
    "\n",
    "# gjson = folium.features.GeoJson(\n",
    "#     gdf_selec,\n",
    "# ).add_to(map)\n",
    "# map\n",
    "\n",
    "# Encapsulate dept_geo in a real GeoJSON formatted file\n",
    "dept_geo = []\n",
    "\n",
    "# Get data from dataset (using json.loads to transform string into dict for geoshape column)\n",
    "cd_depts = gdf.ADMIN.tolist()\n",
    "shapes = gdf.geometry\n",
    "cd = mapping(shapes)\n",
    "# # Iterate over lines\n",
    "for cd_dept, shape in zip(cd_depts, shapes):\n",
    "    \n",
    "    # Mapping information from data to GeoJSON file\n",
    "    dept_geo.append({\n",
    "        'type': 'Feature',\n",
    "        'geometry': shape,\n",
    "        'id':cd_dept\n",
    "    })\n",
    "\n",
    "# Encapsulate dept_geo in a real GeoJSON formatted file\n",
    "dept_geo_ok = {'type': 'FeatureCollection', 'features': dept_geo}\n"
   ]
  },
  {
   "cell_type": "code",
   "execution_count": 5,
   "metadata": {},
   "outputs": [
    {
     "name": "stderr",
     "output_type": "stream",
     "text": [
      "2022-10-18 15:12:10.687 \n",
      "  \u001b[33m\u001b[1mWarning:\u001b[0m to view this Streamlit app on a browser, run it with the following\n",
      "  command:\n",
      "\n",
      "    streamlit run c:\\Users\\timtr\\anaconda3\\envs\\TIL6022\\lib\\site-packages\\ipykernel_launcher.py [ARGUMENTS]\n"
     ]
    }
   ],
   "source": [
    "# fig = px.choropleth(vf, geojson=gdf_selec, color=\"co2\",\n",
    "#                     locations=\"ISO-A3\", featureidkey=\"properties.district\",\n",
    "#                     projection=\"mercator\"\n",
    "#                    )\n",
    "# fig.update_geos(fitbounds=\"locations\", visible=False)\n",
    "# fig.update_layout(margin={\"r\":0,\"t\":0,\"l\":0,\"b\":0})\n",
    "# fig.show()\n",
    "given_time = st.selectbox('Select time period to visualise', ['Day','Month','Quartile','Year'])\n",
    "if given_time == 'Day':\n",
    "    date_filt = 'D'\n",
    "elif given_time == 'Month':\n",
    "    date_filt = 'MS'\n",
    "elif given_time == 'Quartile':\n",
    "    date_filt = 'QS'\n",
    "elif given_time == 'Year':\n",
    "    date_filt = 'Y'\n",
    "\n",
    "given_sector = st.selectbox('Select sector to visualise', df_filt.sector.unique())\n",
    "\n",
    "default_country = int(np.where(df['country'].unique() == 'WORLD')[0])\n",
    "given_country = st.selectbox('Select country to visualise', df_filt.country.unique(), index = default_country)\n",
    "default_sector = int(np.where(df['sector'].unique() == 'Total')[0])\n",
    "given_sector = st.selectbox('Select sector to visualise', df_filt.sector.unique(), index = default_sector)\n",
    "# given_country = \"China\"\n",
    "# country_bb.country.index(given_country)\n",
    "# country_bb.country[(country_bb.country.values==given_country).any(0)]\n",
    "\n",
    "given_sector = 'International Shipping'\n",
    "given_country = 'US'\n",
    "if (given_country == 'WORLD' or given_country == 'ROW' or given_country == 'EU27 & UK'):\n",
    "    latrange = [-90,90]\n",
    "    lonrange = [-180,180]\n",
    "elif given_country == 'US':\n",
    "    given_country = 'United States'\n",
    "    given_country_bb = country_bb[country_bb.country == given_country]\n",
    "    latrange = [float(given_country_bb['latmin']),float(given_country_bb['latmax'])]\n",
    "    lonrange = [float(given_country_bb['lonmin']),float(given_country_bb['lonmax'])]\n",
    "else:\n",
    "    given_country_bb = country_bb[country_bb.country == given_country]\n",
    "    latrange = [float(given_country_bb['latmin']),float(given_country_bb['latmax'])]\n",
    "    lonrange = [float(given_country_bb['lonmin']),float(given_country_bb['lonmax'])]\n",
    "\n",
    "data_sector = df_filt[df_filt.sector == given_sector]\n",
    "if given_country == 'WORLD':\n",
    "    leg_min = float(data_sector[data_sector.country != 'WORLD']['co2'].min())\n",
    "    leg_max = float(data_sector[data_sector.country != 'WORLD']['co2'].max())\n",
    "elif len(df_filt[df_filt.sector == given_sector].country.unique())>1:\n",
    "    leg_min = float(data_sector[data_sector.country == given_country]['co2'].min())\n",
    "    leg_max = float(data_sector[data_sector.country == given_country]['co2'].max())\n"
   ]
  },
  {
   "cell_type": "markdown",
   "metadata": {},
   "source": [
    "Write something about the zoom function and the implemenetation of geojson files and why they are not used."
   ]
  },
  {
   "cell_type": "code",
   "execution_count": 7,
   "metadata": {},
   "outputs": [
    {
     "data": {
      "text/html": [
       "<div>\n",
       "<style scoped>\n",
       "    .dataframe tbody tr th:only-of-type {\n",
       "        vertical-align: middle;\n",
       "    }\n",
       "\n",
       "    .dataframe tbody tr th {\n",
       "        vertical-align: top;\n",
       "    }\n",
       "\n",
       "    .dataframe thead th {\n",
       "        text-align: right;\n",
       "    }\n",
       "</style>\n",
       "<table border=\"1\" class=\"dataframe\">\n",
       "  <thead>\n",
       "    <tr style=\"text-align: right;\">\n",
       "      <th></th>\n",
       "      <th>country</th>\n",
       "      <th>sector</th>\n",
       "      <th>date</th>\n",
       "      <th>co2</th>\n",
       "    </tr>\n",
       "  </thead>\n",
       "  <tbody>\n",
       "    <tr>\n",
       "      <th>574</th>\n",
       "      <td>EU27 &amp; UK</td>\n",
       "      <td>Domestic Aviation</td>\n",
       "      <td>2019-01-01</td>\n",
       "      <td>1242.040164</td>\n",
       "    </tr>\n",
       "    <tr>\n",
       "      <th>575</th>\n",
       "      <td>EU27 &amp; UK</td>\n",
       "      <td>Domestic Aviation</td>\n",
       "      <td>2019-02-01</td>\n",
       "      <td>1176.891994</td>\n",
       "    </tr>\n",
       "    <tr>\n",
       "      <th>576</th>\n",
       "      <td>EU27 &amp; UK</td>\n",
       "      <td>Domestic Aviation</td>\n",
       "      <td>2019-03-01</td>\n",
       "      <td>1337.273622</td>\n",
       "    </tr>\n",
       "    <tr>\n",
       "      <th>577</th>\n",
       "      <td>EU27 &amp; UK</td>\n",
       "      <td>Domestic Aviation</td>\n",
       "      <td>2019-04-01</td>\n",
       "      <td>1368.893036</td>\n",
       "    </tr>\n",
       "    <tr>\n",
       "      <th>578</th>\n",
       "      <td>EU27 &amp; UK</td>\n",
       "      <td>Domestic Aviation</td>\n",
       "      <td>2019-05-01</td>\n",
       "      <td>1456.900692</td>\n",
       "    </tr>\n",
       "    <tr>\n",
       "      <th>...</th>\n",
       "      <td>...</td>\n",
       "      <td>...</td>\n",
       "      <td>...</td>\n",
       "      <td>...</td>\n",
       "    </tr>\n",
       "    <tr>\n",
       "      <th>856</th>\n",
       "      <td>EU27 &amp; UK</td>\n",
       "      <td>Total</td>\n",
       "      <td>2022-01-01</td>\n",
       "      <td>303709.090297</td>\n",
       "    </tr>\n",
       "    <tr>\n",
       "      <th>857</th>\n",
       "      <td>EU27 &amp; UK</td>\n",
       "      <td>Total</td>\n",
       "      <td>2022-02-01</td>\n",
       "      <td>264902.114454</td>\n",
       "    </tr>\n",
       "    <tr>\n",
       "      <th>858</th>\n",
       "      <td>EU27 &amp; UK</td>\n",
       "      <td>Total</td>\n",
       "      <td>2022-03-01</td>\n",
       "      <td>293708.139097</td>\n",
       "    </tr>\n",
       "    <tr>\n",
       "      <th>859</th>\n",
       "      <td>EU27 &amp; UK</td>\n",
       "      <td>Total</td>\n",
       "      <td>2022-04-01</td>\n",
       "      <td>251137.399223</td>\n",
       "    </tr>\n",
       "    <tr>\n",
       "      <th>860</th>\n",
       "      <td>EU27 &amp; UK</td>\n",
       "      <td>Total</td>\n",
       "      <td>2022-05-01</td>\n",
       "      <td>229430.905313</td>\n",
       "    </tr>\n",
       "  </tbody>\n",
       "</table>\n",
       "<p>287 rows × 4 columns</p>\n",
       "</div>"
      ],
      "text/plain": [
       "       country             sector        date            co2\n",
       "574  EU27 & UK  Domestic Aviation  2019-01-01    1242.040164\n",
       "575  EU27 & UK  Domestic Aviation  2019-02-01    1176.891994\n",
       "576  EU27 & UK  Domestic Aviation  2019-03-01    1337.273622\n",
       "577  EU27 & UK  Domestic Aviation  2019-04-01    1368.893036\n",
       "578  EU27 & UK  Domestic Aviation  2019-05-01    1456.900692\n",
       "..         ...                ...         ...            ...\n",
       "856  EU27 & UK              Total  2022-01-01  303709.090297\n",
       "857  EU27 & UK              Total  2022-02-01  264902.114454\n",
       "858  EU27 & UK              Total  2022-03-01  293708.139097\n",
       "859  EU27 & UK              Total  2022-04-01  251137.399223\n",
       "860  EU27 & UK              Total  2022-05-01  229430.905313\n",
       "\n",
       "[287 rows x 4 columns]"
      ]
     },
     "execution_count": 7,
     "metadata": {},
     "output_type": "execute_result"
    }
   ],
   "source": [
    "given_time = 'MS'\n",
    "df.date = pd.to_datetime(df.date)\n",
    "df_filt = df.groupby(['country','sector']).resample(given_time,on='date').sum()    #D for Day, MS for month, QS to quarter, Y for year\n",
    "df_filt = df_filt.reset_index()\n",
    "df_filt.date = np.datetime_as_string(df_filt.date, unit='D')\n",
    "df_filt.dtypes\n",
    "# df_filtdf_filt[df_filt.country=='EU27 & UK'] "
   ]
  },
  {
   "cell_type": "code",
   "execution_count": 26,
   "metadata": {},
   "outputs": [
    {
     "data": {
      "application/vnd.plotly.v1+json": {
       "config": {
        "plotlyServerURL": "https://plot.ly"
       },
       "data": [
        {
         "coloraxis": "coloraxis",
         "geo": "geo",
         "hovertemplate": "date=2019-01-01<br>country=%{location}<br>co2=%{z}<extra></extra>",
         "locationmode": "country names",
         "locations": [
          "WORLD"
         ],
         "name": "",
         "type": "choropleth",
         "z": [
          59596.009891337446
         ]
        }
       ],
       "frames": [
        {
         "data": [
          {
           "coloraxis": "coloraxis",
           "geo": "geo",
           "hovertemplate": "date=2019-01-01<br>country=%{location}<br>co2=%{z}<extra></extra>",
           "locationmode": "country names",
           "locations": [
            "WORLD"
           ],
           "name": "",
           "type": "choropleth",
           "z": [
            59596.009891337446
           ]
          }
         ],
         "name": "2019-01-01"
        },
        {
         "data": [
          {
           "coloraxis": "coloraxis",
           "geo": "geo",
           "hovertemplate": "date=2019-02-01<br>country=%{location}<br>co2=%{z}<extra></extra>",
           "locationmode": "country names",
           "locations": [
            "WORLD"
           ],
           "name": "",
           "type": "choropleth",
           "z": [
            52616.34755567576
           ]
          }
         ],
         "name": "2019-02-01"
        },
        {
         "data": [
          {
           "coloraxis": "coloraxis",
           "geo": "geo",
           "hovertemplate": "date=2019-03-01<br>country=%{location}<br>co2=%{z}<extra></extra>",
           "locationmode": "country names",
           "locations": [
            "WORLD"
           ],
           "name": "",
           "type": "choropleth",
           "z": [
            59861.63222334533
           ]
          }
         ],
         "name": "2019-03-01"
        },
        {
         "data": [
          {
           "coloraxis": "coloraxis",
           "geo": "geo",
           "hovertemplate": "date=2019-04-01<br>country=%{location}<br>co2=%{z}<extra></extra>",
           "locationmode": "country names",
           "locations": [
            "WORLD"
           ],
           "name": "",
           "type": "choropleth",
           "z": [
            60064.32966564143
           ]
          }
         ],
         "name": "2019-04-01"
        },
        {
         "data": [
          {
           "coloraxis": "coloraxis",
           "geo": "geo",
           "hovertemplate": "date=2019-05-01<br>country=%{location}<br>co2=%{z}<extra></extra>",
           "locationmode": "country names",
           "locations": [
            "WORLD"
           ],
           "name": "",
           "type": "choropleth",
           "z": [
            63357.26882705323
           ]
          }
         ],
         "name": "2019-05-01"
        },
        {
         "data": [
          {
           "coloraxis": "coloraxis",
           "geo": "geo",
           "hovertemplate": "date=2019-06-01<br>country=%{location}<br>co2=%{z}<extra></extra>",
           "locationmode": "country names",
           "locations": [
            "WORLD"
           ],
           "name": "",
           "type": "choropleth",
           "z": [
            61670.540843987386
           ]
          }
         ],
         "name": "2019-06-01"
        },
        {
         "data": [
          {
           "coloraxis": "coloraxis",
           "geo": "geo",
           "hovertemplate": "date=2019-07-01<br>country=%{location}<br>co2=%{z}<extra></extra>",
           "locationmode": "country names",
           "locations": [
            "WORLD"
           ],
           "name": "",
           "type": "choropleth",
           "z": [
            62831.00364077353
           ]
          }
         ],
         "name": "2019-07-01"
        },
        {
         "data": [
          {
           "coloraxis": "coloraxis",
           "geo": "geo",
           "hovertemplate": "date=2019-08-01<br>country=%{location}<br>co2=%{z}<extra></extra>",
           "locationmode": "country names",
           "locations": [
            "WORLD"
           ],
           "name": "",
           "type": "choropleth",
           "z": [
            62861.07469380119
           ]
          }
         ],
         "name": "2019-08-01"
        },
        {
         "data": [
          {
           "coloraxis": "coloraxis",
           "geo": "geo",
           "hovertemplate": "date=2019-09-01<br>country=%{location}<br>co2=%{z}<extra></extra>",
           "locationmode": "country names",
           "locations": [
            "WORLD"
           ],
           "name": "",
           "type": "choropleth",
           "z": [
            60853.82999870151
           ]
          }
         ],
         "name": "2019-09-01"
        },
        {
         "data": [
          {
           "coloraxis": "coloraxis",
           "geo": "geo",
           "hovertemplate": "date=2019-10-01<br>country=%{location}<br>co2=%{z}<extra></extra>",
           "locationmode": "country names",
           "locations": [
            "WORLD"
           ],
           "name": "",
           "type": "choropleth",
           "z": [
            63696.470423061575
           ]
          }
         ],
         "name": "2019-10-01"
        },
        {
         "data": [
          {
           "coloraxis": "coloraxis",
           "geo": "geo",
           "hovertemplate": "date=2019-11-01<br>country=%{location}<br>co2=%{z}<extra></extra>",
           "locationmode": "country names",
           "locations": [
            "WORLD"
           ],
           "name": "",
           "type": "choropleth",
           "z": [
            60252.50177304911
           ]
          }
         ],
         "name": "2019-11-01"
        },
        {
         "data": [
          {
           "coloraxis": "coloraxis",
           "geo": "geo",
           "hovertemplate": "date=2019-12-01<br>country=%{location}<br>co2=%{z}<extra></extra>",
           "locationmode": "country names",
           "locations": [
            "WORLD"
           ],
           "name": "",
           "type": "choropleth",
           "z": [
            62601.54536357241
           ]
          }
         ],
         "name": "2019-12-01"
        },
        {
         "data": [
          {
           "coloraxis": "coloraxis",
           "geo": "geo",
           "hovertemplate": "date=2020-01-01<br>country=%{location}<br>co2=%{z}<extra></extra>",
           "locationmode": "country names",
           "locations": [
            "WORLD"
           ],
           "name": "",
           "type": "choropleth",
           "z": [
            61003.2924818825
           ]
          }
         ],
         "name": "2020-01-01"
        },
        {
         "data": [
          {
           "coloraxis": "coloraxis",
           "geo": "geo",
           "hovertemplate": "date=2020-02-01<br>country=%{location}<br>co2=%{z}<extra></extra>",
           "locationmode": "country names",
           "locations": [
            "WORLD"
           ],
           "name": "",
           "type": "choropleth",
           "z": [
            54403.71287248086
           ]
          }
         ],
         "name": "2020-02-01"
        },
        {
         "data": [
          {
           "coloraxis": "coloraxis",
           "geo": "geo",
           "hovertemplate": "date=2020-03-01<br>country=%{location}<br>co2=%{z}<extra></extra>",
           "locationmode": "country names",
           "locations": [
            "WORLD"
           ],
           "name": "",
           "type": "choropleth",
           "z": [
            61234.394475771565
           ]
          }
         ],
         "name": "2020-03-01"
        },
        {
         "data": [
          {
           "coloraxis": "coloraxis",
           "geo": "geo",
           "hovertemplate": "date=2020-04-01<br>country=%{location}<br>co2=%{z}<extra></extra>",
           "locationmode": "country names",
           "locations": [
            "WORLD"
           ],
           "name": "",
           "type": "choropleth",
           "z": [
            58452.22132486204
           ]
          }
         ],
         "name": "2020-04-01"
        },
        {
         "data": [
          {
           "coloraxis": "coloraxis",
           "geo": "geo",
           "hovertemplate": "date=2020-05-01<br>country=%{location}<br>co2=%{z}<extra></extra>",
           "locationmode": "country names",
           "locations": [
            "WORLD"
           ],
           "name": "",
           "type": "choropleth",
           "z": [
            57096.36644492117
           ]
          }
         ],
         "name": "2020-05-01"
        },
        {
         "data": [
          {
           "coloraxis": "coloraxis",
           "geo": "geo",
           "hovertemplate": "date=2020-06-01<br>country=%{location}<br>co2=%{z}<extra></extra>",
           "locationmode": "country names",
           "locations": [
            "WORLD"
           ],
           "name": "",
           "type": "choropleth",
           "z": [
            56878.07604126665
           ]
          }
         ],
         "name": "2020-06-01"
        },
        {
         "data": [
          {
           "coloraxis": "coloraxis",
           "geo": "geo",
           "hovertemplate": "date=2020-07-01<br>country=%{location}<br>co2=%{z}<extra></extra>",
           "locationmode": "country names",
           "locations": [
            "WORLD"
           ],
           "name": "",
           "type": "choropleth",
           "z": [
            60149.282413797955
           ]
          }
         ],
         "name": "2020-07-01"
        },
        {
         "data": [
          {
           "coloraxis": "coloraxis",
           "geo": "geo",
           "hovertemplate": "date=2020-08-01<br>country=%{location}<br>co2=%{z}<extra></extra>",
           "locationmode": "country names",
           "locations": [
            "WORLD"
           ],
           "name": "",
           "type": "choropleth",
           "z": [
            60835.20324271009
           ]
          }
         ],
         "name": "2020-08-01"
        },
        {
         "data": [
          {
           "coloraxis": "coloraxis",
           "geo": "geo",
           "hovertemplate": "date=2020-09-01<br>country=%{location}<br>co2=%{z}<extra></extra>",
           "locationmode": "country names",
           "locations": [
            "WORLD"
           ],
           "name": "",
           "type": "choropleth",
           "z": [
            58320.167462437385
           ]
          }
         ],
         "name": "2020-09-01"
        },
        {
         "data": [
          {
           "coloraxis": "coloraxis",
           "geo": "geo",
           "hovertemplate": "date=2020-10-01<br>country=%{location}<br>co2=%{z}<extra></extra>",
           "locationmode": "country names",
           "locations": [
            "WORLD"
           ],
           "name": "",
           "type": "choropleth",
           "z": [
            59781.29260259776
           ]
          }
         ],
         "name": "2020-10-01"
        },
        {
         "data": [
          {
           "coloraxis": "coloraxis",
           "geo": "geo",
           "hovertemplate": "date=2020-11-01<br>country=%{location}<br>co2=%{z}<extra></extra>",
           "locationmode": "country names",
           "locations": [
            "WORLD"
           ],
           "name": "",
           "type": "choropleth",
           "z": [
            61145.98246380449
           ]
          }
         ],
         "name": "2020-11-01"
        },
        {
         "data": [
          {
           "coloraxis": "coloraxis",
           "geo": "geo",
           "hovertemplate": "date=2020-12-01<br>country=%{location}<br>co2=%{z}<extra></extra>",
           "locationmode": "country names",
           "locations": [
            "WORLD"
           ],
           "name": "",
           "type": "choropleth",
           "z": [
            57962.189111399515
           ]
          }
         ],
         "name": "2020-12-01"
        },
        {
         "data": [
          {
           "coloraxis": "coloraxis",
           "geo": "geo",
           "hovertemplate": "date=2021-01-01<br>country=%{location}<br>co2=%{z}<extra></extra>",
           "locationmode": "country names",
           "locations": [
            "WORLD"
           ],
           "name": "",
           "type": "choropleth",
           "z": [
            53714.830281514885
           ]
          }
         ],
         "name": "2021-01-01"
        },
        {
         "data": [
          {
           "coloraxis": "coloraxis",
           "geo": "geo",
           "hovertemplate": "date=2021-02-01<br>country=%{location}<br>co2=%{z}<extra></extra>",
           "locationmode": "country names",
           "locations": [
            "WORLD"
           ],
           "name": "",
           "type": "choropleth",
           "z": [
            48969.43622105682
           ]
          }
         ],
         "name": "2021-02-01"
        },
        {
         "data": [
          {
           "coloraxis": "coloraxis",
           "geo": "geo",
           "hovertemplate": "date=2021-03-01<br>country=%{location}<br>co2=%{z}<extra></extra>",
           "locationmode": "country names",
           "locations": [
            "WORLD"
           ],
           "name": "",
           "type": "choropleth",
           "z": [
            56900.49713460529
           ]
          }
         ],
         "name": "2021-03-01"
        },
        {
         "data": [
          {
           "coloraxis": "coloraxis",
           "geo": "geo",
           "hovertemplate": "date=2021-04-01<br>country=%{location}<br>co2=%{z}<extra></extra>",
           "locationmode": "country names",
           "locations": [
            "WORLD"
           ],
           "name": "",
           "type": "choropleth",
           "z": [
            57743.78054448005
           ]
          }
         ],
         "name": "2021-04-01"
        },
        {
         "data": [
          {
           "coloraxis": "coloraxis",
           "geo": "geo",
           "hovertemplate": "date=2021-05-01<br>country=%{location}<br>co2=%{z}<extra></extra>",
           "locationmode": "country names",
           "locations": [
            "WORLD"
           ],
           "name": "",
           "type": "choropleth",
           "z": [
            59209.21423397955
           ]
          }
         ],
         "name": "2021-05-01"
        },
        {
         "data": [
          {
           "coloraxis": "coloraxis",
           "geo": "geo",
           "hovertemplate": "date=2021-06-01<br>country=%{location}<br>co2=%{z}<extra></extra>",
           "locationmode": "country names",
           "locations": [
            "WORLD"
           ],
           "name": "",
           "type": "choropleth",
           "z": [
            55555.89406358109
           ]
          }
         ],
         "name": "2021-06-01"
        },
        {
         "data": [
          {
           "coloraxis": "coloraxis",
           "geo": "geo",
           "hovertemplate": "date=2021-07-01<br>country=%{location}<br>co2=%{z}<extra></extra>",
           "locationmode": "country names",
           "locations": [
            "WORLD"
           ],
           "name": "",
           "type": "choropleth",
           "z": [
            54691.120597445355
           ]
          }
         ],
         "name": "2021-07-01"
        },
        {
         "data": [
          {
           "coloraxis": "coloraxis",
           "geo": "geo",
           "hovertemplate": "date=2021-08-01<br>country=%{location}<br>co2=%{z}<extra></extra>",
           "locationmode": "country names",
           "locations": [
            "WORLD"
           ],
           "name": "",
           "type": "choropleth",
           "z": [
            55241.280167241304
           ]
          }
         ],
         "name": "2021-08-01"
        },
        {
         "data": [
          {
           "coloraxis": "coloraxis",
           "geo": "geo",
           "hovertemplate": "date=2021-09-01<br>country=%{location}<br>co2=%{z}<extra></extra>",
           "locationmode": "country names",
           "locations": [
            "WORLD"
           ],
           "name": "",
           "type": "choropleth",
           "z": [
            53649.21000591324
           ]
          }
         ],
         "name": "2021-09-01"
        },
        {
         "data": [
          {
           "coloraxis": "coloraxis",
           "geo": "geo",
           "hovertemplate": "date=2021-10-01<br>country=%{location}<br>co2=%{z}<extra></extra>",
           "locationmode": "country names",
           "locations": [
            "WORLD"
           ],
           "name": "",
           "type": "choropleth",
           "z": [
            54799.406572110915
           ]
          }
         ],
         "name": "2021-10-01"
        },
        {
         "data": [
          {
           "coloraxis": "coloraxis",
           "geo": "geo",
           "hovertemplate": "date=2021-11-01<br>country=%{location}<br>co2=%{z}<extra></extra>",
           "locationmode": "country names",
           "locations": [
            "WORLD"
           ],
           "name": "",
           "type": "choropleth",
           "z": [
            53472.19000154129
           ]
          }
         ],
         "name": "2021-11-01"
        },
        {
         "data": [
          {
           "coloraxis": "coloraxis",
           "geo": "geo",
           "hovertemplate": "date=2021-12-01<br>country=%{location}<br>co2=%{z}<extra></extra>",
           "locationmode": "country names",
           "locations": [
            "WORLD"
           ],
           "name": "",
           "type": "choropleth",
           "z": [
            53819.94834778132
           ]
          }
         ],
         "name": "2021-12-01"
        },
        {
         "data": [
          {
           "coloraxis": "coloraxis",
           "geo": "geo",
           "hovertemplate": "date=2022-01-01<br>country=%{location}<br>co2=%{z}<extra></extra>",
           "locationmode": "country names",
           "locations": [
            "WORLD"
           ],
           "name": "",
           "type": "choropleth",
           "z": [
            53895.261979549534
           ]
          }
         ],
         "name": "2022-01-01"
        },
        {
         "data": [
          {
           "coloraxis": "coloraxis",
           "geo": "geo",
           "hovertemplate": "date=2022-02-01<br>country=%{location}<br>co2=%{z}<extra></extra>",
           "locationmode": "country names",
           "locations": [
            "WORLD"
           ],
           "name": "",
           "type": "choropleth",
           "z": [
            48001.835712705375
           ]
          }
         ],
         "name": "2022-02-01"
        },
        {
         "data": [
          {
           "coloraxis": "coloraxis",
           "geo": "geo",
           "hovertemplate": "date=2022-03-01<br>country=%{location}<br>co2=%{z}<extra></extra>",
           "locationmode": "country names",
           "locations": [
            "WORLD"
           ],
           "name": "",
           "type": "choropleth",
           "z": [
            55028.43336666311
           ]
          }
         ],
         "name": "2022-03-01"
        },
        {
         "data": [
          {
           "coloraxis": "coloraxis",
           "geo": "geo",
           "hovertemplate": "date=2022-04-01<br>country=%{location}<br>co2=%{z}<extra></extra>",
           "locationmode": "country names",
           "locations": [
            "WORLD"
           ],
           "name": "",
           "type": "choropleth",
           "z": [
            54294.3793183521
           ]
          }
         ],
         "name": "2022-04-01"
        },
        {
         "data": [
          {
           "coloraxis": "coloraxis",
           "geo": "geo",
           "hovertemplate": "date=2022-05-01<br>country=%{location}<br>co2=%{z}<extra></extra>",
           "locationmode": "country names",
           "locations": [
            "WORLD"
           ],
           "name": "",
           "type": "choropleth",
           "z": [
            59062.371023116866
           ]
          }
         ],
         "name": "2022-05-01"
        }
       ],
       "layout": {
        "coloraxis": {
         "cmax": 63696.470423061575,
         "cmin": 48001.835712705375,
         "colorbar": {
          "title": {
           "text": "co2"
          }
         },
         "colorscale": [
          [
           0,
           "#0d0887"
          ],
          [
           0.1111111111111111,
           "#46039f"
          ],
          [
           0.2222222222222222,
           "#7201a8"
          ],
          [
           0.3333333333333333,
           "#9c179e"
          ],
          [
           0.4444444444444444,
           "#bd3786"
          ],
          [
           0.5555555555555556,
           "#d8576b"
          ],
          [
           0.6666666666666666,
           "#ed7953"
          ],
          [
           0.7777777777777778,
           "#fb9f3a"
          ],
          [
           0.8888888888888888,
           "#fdca26"
          ],
          [
           1,
           "#f0f921"
          ]
         ]
        },
        "geo": {
         "center": {},
         "domain": {
          "x": [
           0,
           1
          ],
          "y": [
           0,
           1
          ]
         },
         "lataxis": {
          "range": [
           18.91619,
           71.3577635769
          ]
         },
         "lonaxis": {
          "range": [
           -171.791110603,
           -66.96466
          ]
         },
         "projection": {
          "type": "equirectangular"
         },
         "showcoastlines": true,
         "showframe": false
        },
        "height": 1000,
        "legend": {
         "tracegroupgap": 0
        },
        "margin": {
         "t": 60
        },
        "sliders": [
         {
          "active": 0,
          "currentvalue": {
           "prefix": "date="
          },
          "len": 0.9,
          "pad": {
           "b": 10,
           "t": 60
          },
          "steps": [
           {
            "args": [
             [
              "2019-01-01"
             ],
             {
              "frame": {
               "duration": 0,
               "redraw": true
              },
              "fromcurrent": true,
              "mode": "immediate",
              "transition": {
               "duration": 0,
               "easing": "linear"
              }
             }
            ],
            "label": "2019-01-01",
            "method": "animate"
           },
           {
            "args": [
             [
              "2019-02-01"
             ],
             {
              "frame": {
               "duration": 0,
               "redraw": true
              },
              "fromcurrent": true,
              "mode": "immediate",
              "transition": {
               "duration": 0,
               "easing": "linear"
              }
             }
            ],
            "label": "2019-02-01",
            "method": "animate"
           },
           {
            "args": [
             [
              "2019-03-01"
             ],
             {
              "frame": {
               "duration": 0,
               "redraw": true
              },
              "fromcurrent": true,
              "mode": "immediate",
              "transition": {
               "duration": 0,
               "easing": "linear"
              }
             }
            ],
            "label": "2019-03-01",
            "method": "animate"
           },
           {
            "args": [
             [
              "2019-04-01"
             ],
             {
              "frame": {
               "duration": 0,
               "redraw": true
              },
              "fromcurrent": true,
              "mode": "immediate",
              "transition": {
               "duration": 0,
               "easing": "linear"
              }
             }
            ],
            "label": "2019-04-01",
            "method": "animate"
           },
           {
            "args": [
             [
              "2019-05-01"
             ],
             {
              "frame": {
               "duration": 0,
               "redraw": true
              },
              "fromcurrent": true,
              "mode": "immediate",
              "transition": {
               "duration": 0,
               "easing": "linear"
              }
             }
            ],
            "label": "2019-05-01",
            "method": "animate"
           },
           {
            "args": [
             [
              "2019-06-01"
             ],
             {
              "frame": {
               "duration": 0,
               "redraw": true
              },
              "fromcurrent": true,
              "mode": "immediate",
              "transition": {
               "duration": 0,
               "easing": "linear"
              }
             }
            ],
            "label": "2019-06-01",
            "method": "animate"
           },
           {
            "args": [
             [
              "2019-07-01"
             ],
             {
              "frame": {
               "duration": 0,
               "redraw": true
              },
              "fromcurrent": true,
              "mode": "immediate",
              "transition": {
               "duration": 0,
               "easing": "linear"
              }
             }
            ],
            "label": "2019-07-01",
            "method": "animate"
           },
           {
            "args": [
             [
              "2019-08-01"
             ],
             {
              "frame": {
               "duration": 0,
               "redraw": true
              },
              "fromcurrent": true,
              "mode": "immediate",
              "transition": {
               "duration": 0,
               "easing": "linear"
              }
             }
            ],
            "label": "2019-08-01",
            "method": "animate"
           },
           {
            "args": [
             [
              "2019-09-01"
             ],
             {
              "frame": {
               "duration": 0,
               "redraw": true
              },
              "fromcurrent": true,
              "mode": "immediate",
              "transition": {
               "duration": 0,
               "easing": "linear"
              }
             }
            ],
            "label": "2019-09-01",
            "method": "animate"
           },
           {
            "args": [
             [
              "2019-10-01"
             ],
             {
              "frame": {
               "duration": 0,
               "redraw": true
              },
              "fromcurrent": true,
              "mode": "immediate",
              "transition": {
               "duration": 0,
               "easing": "linear"
              }
             }
            ],
            "label": "2019-10-01",
            "method": "animate"
           },
           {
            "args": [
             [
              "2019-11-01"
             ],
             {
              "frame": {
               "duration": 0,
               "redraw": true
              },
              "fromcurrent": true,
              "mode": "immediate",
              "transition": {
               "duration": 0,
               "easing": "linear"
              }
             }
            ],
            "label": "2019-11-01",
            "method": "animate"
           },
           {
            "args": [
             [
              "2019-12-01"
             ],
             {
              "frame": {
               "duration": 0,
               "redraw": true
              },
              "fromcurrent": true,
              "mode": "immediate",
              "transition": {
               "duration": 0,
               "easing": "linear"
              }
             }
            ],
            "label": "2019-12-01",
            "method": "animate"
           },
           {
            "args": [
             [
              "2020-01-01"
             ],
             {
              "frame": {
               "duration": 0,
               "redraw": true
              },
              "fromcurrent": true,
              "mode": "immediate",
              "transition": {
               "duration": 0,
               "easing": "linear"
              }
             }
            ],
            "label": "2020-01-01",
            "method": "animate"
           },
           {
            "args": [
             [
              "2020-02-01"
             ],
             {
              "frame": {
               "duration": 0,
               "redraw": true
              },
              "fromcurrent": true,
              "mode": "immediate",
              "transition": {
               "duration": 0,
               "easing": "linear"
              }
             }
            ],
            "label": "2020-02-01",
            "method": "animate"
           },
           {
            "args": [
             [
              "2020-03-01"
             ],
             {
              "frame": {
               "duration": 0,
               "redraw": true
              },
              "fromcurrent": true,
              "mode": "immediate",
              "transition": {
               "duration": 0,
               "easing": "linear"
              }
             }
            ],
            "label": "2020-03-01",
            "method": "animate"
           },
           {
            "args": [
             [
              "2020-04-01"
             ],
             {
              "frame": {
               "duration": 0,
               "redraw": true
              },
              "fromcurrent": true,
              "mode": "immediate",
              "transition": {
               "duration": 0,
               "easing": "linear"
              }
             }
            ],
            "label": "2020-04-01",
            "method": "animate"
           },
           {
            "args": [
             [
              "2020-05-01"
             ],
             {
              "frame": {
               "duration": 0,
               "redraw": true
              },
              "fromcurrent": true,
              "mode": "immediate",
              "transition": {
               "duration": 0,
               "easing": "linear"
              }
             }
            ],
            "label": "2020-05-01",
            "method": "animate"
           },
           {
            "args": [
             [
              "2020-06-01"
             ],
             {
              "frame": {
               "duration": 0,
               "redraw": true
              },
              "fromcurrent": true,
              "mode": "immediate",
              "transition": {
               "duration": 0,
               "easing": "linear"
              }
             }
            ],
            "label": "2020-06-01",
            "method": "animate"
           },
           {
            "args": [
             [
              "2020-07-01"
             ],
             {
              "frame": {
               "duration": 0,
               "redraw": true
              },
              "fromcurrent": true,
              "mode": "immediate",
              "transition": {
               "duration": 0,
               "easing": "linear"
              }
             }
            ],
            "label": "2020-07-01",
            "method": "animate"
           },
           {
            "args": [
             [
              "2020-08-01"
             ],
             {
              "frame": {
               "duration": 0,
               "redraw": true
              },
              "fromcurrent": true,
              "mode": "immediate",
              "transition": {
               "duration": 0,
               "easing": "linear"
              }
             }
            ],
            "label": "2020-08-01",
            "method": "animate"
           },
           {
            "args": [
             [
              "2020-09-01"
             ],
             {
              "frame": {
               "duration": 0,
               "redraw": true
              },
              "fromcurrent": true,
              "mode": "immediate",
              "transition": {
               "duration": 0,
               "easing": "linear"
              }
             }
            ],
            "label": "2020-09-01",
            "method": "animate"
           },
           {
            "args": [
             [
              "2020-10-01"
             ],
             {
              "frame": {
               "duration": 0,
               "redraw": true
              },
              "fromcurrent": true,
              "mode": "immediate",
              "transition": {
               "duration": 0,
               "easing": "linear"
              }
             }
            ],
            "label": "2020-10-01",
            "method": "animate"
           },
           {
            "args": [
             [
              "2020-11-01"
             ],
             {
              "frame": {
               "duration": 0,
               "redraw": true
              },
              "fromcurrent": true,
              "mode": "immediate",
              "transition": {
               "duration": 0,
               "easing": "linear"
              }
             }
            ],
            "label": "2020-11-01",
            "method": "animate"
           },
           {
            "args": [
             [
              "2020-12-01"
             ],
             {
              "frame": {
               "duration": 0,
               "redraw": true
              },
              "fromcurrent": true,
              "mode": "immediate",
              "transition": {
               "duration": 0,
               "easing": "linear"
              }
             }
            ],
            "label": "2020-12-01",
            "method": "animate"
           },
           {
            "args": [
             [
              "2021-01-01"
             ],
             {
              "frame": {
               "duration": 0,
               "redraw": true
              },
              "fromcurrent": true,
              "mode": "immediate",
              "transition": {
               "duration": 0,
               "easing": "linear"
              }
             }
            ],
            "label": "2021-01-01",
            "method": "animate"
           },
           {
            "args": [
             [
              "2021-02-01"
             ],
             {
              "frame": {
               "duration": 0,
               "redraw": true
              },
              "fromcurrent": true,
              "mode": "immediate",
              "transition": {
               "duration": 0,
               "easing": "linear"
              }
             }
            ],
            "label": "2021-02-01",
            "method": "animate"
           },
           {
            "args": [
             [
              "2021-03-01"
             ],
             {
              "frame": {
               "duration": 0,
               "redraw": true
              },
              "fromcurrent": true,
              "mode": "immediate",
              "transition": {
               "duration": 0,
               "easing": "linear"
              }
             }
            ],
            "label": "2021-03-01",
            "method": "animate"
           },
           {
            "args": [
             [
              "2021-04-01"
             ],
             {
              "frame": {
               "duration": 0,
               "redraw": true
              },
              "fromcurrent": true,
              "mode": "immediate",
              "transition": {
               "duration": 0,
               "easing": "linear"
              }
             }
            ],
            "label": "2021-04-01",
            "method": "animate"
           },
           {
            "args": [
             [
              "2021-05-01"
             ],
             {
              "frame": {
               "duration": 0,
               "redraw": true
              },
              "fromcurrent": true,
              "mode": "immediate",
              "transition": {
               "duration": 0,
               "easing": "linear"
              }
             }
            ],
            "label": "2021-05-01",
            "method": "animate"
           },
           {
            "args": [
             [
              "2021-06-01"
             ],
             {
              "frame": {
               "duration": 0,
               "redraw": true
              },
              "fromcurrent": true,
              "mode": "immediate",
              "transition": {
               "duration": 0,
               "easing": "linear"
              }
             }
            ],
            "label": "2021-06-01",
            "method": "animate"
           },
           {
            "args": [
             [
              "2021-07-01"
             ],
             {
              "frame": {
               "duration": 0,
               "redraw": true
              },
              "fromcurrent": true,
              "mode": "immediate",
              "transition": {
               "duration": 0,
               "easing": "linear"
              }
             }
            ],
            "label": "2021-07-01",
            "method": "animate"
           },
           {
            "args": [
             [
              "2021-08-01"
             ],
             {
              "frame": {
               "duration": 0,
               "redraw": true
              },
              "fromcurrent": true,
              "mode": "immediate",
              "transition": {
               "duration": 0,
               "easing": "linear"
              }
             }
            ],
            "label": "2021-08-01",
            "method": "animate"
           },
           {
            "args": [
             [
              "2021-09-01"
             ],
             {
              "frame": {
               "duration": 0,
               "redraw": true
              },
              "fromcurrent": true,
              "mode": "immediate",
              "transition": {
               "duration": 0,
               "easing": "linear"
              }
             }
            ],
            "label": "2021-09-01",
            "method": "animate"
           },
           {
            "args": [
             [
              "2021-10-01"
             ],
             {
              "frame": {
               "duration": 0,
               "redraw": true
              },
              "fromcurrent": true,
              "mode": "immediate",
              "transition": {
               "duration": 0,
               "easing": "linear"
              }
             }
            ],
            "label": "2021-10-01",
            "method": "animate"
           },
           {
            "args": [
             [
              "2021-11-01"
             ],
             {
              "frame": {
               "duration": 0,
               "redraw": true
              },
              "fromcurrent": true,
              "mode": "immediate",
              "transition": {
               "duration": 0,
               "easing": "linear"
              }
             }
            ],
            "label": "2021-11-01",
            "method": "animate"
           },
           {
            "args": [
             [
              "2021-12-01"
             ],
             {
              "frame": {
               "duration": 0,
               "redraw": true
              },
              "fromcurrent": true,
              "mode": "immediate",
              "transition": {
               "duration": 0,
               "easing": "linear"
              }
             }
            ],
            "label": "2021-12-01",
            "method": "animate"
           },
           {
            "args": [
             [
              "2022-01-01"
             ],
             {
              "frame": {
               "duration": 0,
               "redraw": true
              },
              "fromcurrent": true,
              "mode": "immediate",
              "transition": {
               "duration": 0,
               "easing": "linear"
              }
             }
            ],
            "label": "2022-01-01",
            "method": "animate"
           },
           {
            "args": [
             [
              "2022-02-01"
             ],
             {
              "frame": {
               "duration": 0,
               "redraw": true
              },
              "fromcurrent": true,
              "mode": "immediate",
              "transition": {
               "duration": 0,
               "easing": "linear"
              }
             }
            ],
            "label": "2022-02-01",
            "method": "animate"
           },
           {
            "args": [
             [
              "2022-03-01"
             ],
             {
              "frame": {
               "duration": 0,
               "redraw": true
              },
              "fromcurrent": true,
              "mode": "immediate",
              "transition": {
               "duration": 0,
               "easing": "linear"
              }
             }
            ],
            "label": "2022-03-01",
            "method": "animate"
           },
           {
            "args": [
             [
              "2022-04-01"
             ],
             {
              "frame": {
               "duration": 0,
               "redraw": true
              },
              "fromcurrent": true,
              "mode": "immediate",
              "transition": {
               "duration": 0,
               "easing": "linear"
              }
             }
            ],
            "label": "2022-04-01",
            "method": "animate"
           },
           {
            "args": [
             [
              "2022-05-01"
             ],
             {
              "frame": {
               "duration": 0,
               "redraw": true
              },
              "fromcurrent": true,
              "mode": "immediate",
              "transition": {
               "duration": 0,
               "easing": "linear"
              }
             }
            ],
            "label": "2022-05-01",
            "method": "animate"
           }
          ],
          "x": 0.1,
          "xanchor": "left",
          "y": 0,
          "yanchor": "top"
         }
        ],
        "template": {
         "data": {
          "bar": [
           {
            "error_x": {
             "color": "#2a3f5f"
            },
            "error_y": {
             "color": "#2a3f5f"
            },
            "marker": {
             "line": {
              "color": "#E5ECF6",
              "width": 0.5
             },
             "pattern": {
              "fillmode": "overlay",
              "size": 10,
              "solidity": 0.2
             }
            },
            "type": "bar"
           }
          ],
          "barpolar": [
           {
            "marker": {
             "line": {
              "color": "#E5ECF6",
              "width": 0.5
             },
             "pattern": {
              "fillmode": "overlay",
              "size": 10,
              "solidity": 0.2
             }
            },
            "type": "barpolar"
           }
          ],
          "carpet": [
           {
            "aaxis": {
             "endlinecolor": "#2a3f5f",
             "gridcolor": "white",
             "linecolor": "white",
             "minorgridcolor": "white",
             "startlinecolor": "#2a3f5f"
            },
            "baxis": {
             "endlinecolor": "#2a3f5f",
             "gridcolor": "white",
             "linecolor": "white",
             "minorgridcolor": "white",
             "startlinecolor": "#2a3f5f"
            },
            "type": "carpet"
           }
          ],
          "choropleth": [
           {
            "colorbar": {
             "outlinewidth": 0,
             "ticks": ""
            },
            "type": "choropleth"
           }
          ],
          "contour": [
           {
            "colorbar": {
             "outlinewidth": 0,
             "ticks": ""
            },
            "colorscale": [
             [
              0,
              "#0d0887"
             ],
             [
              0.1111111111111111,
              "#46039f"
             ],
             [
              0.2222222222222222,
              "#7201a8"
             ],
             [
              0.3333333333333333,
              "#9c179e"
             ],
             [
              0.4444444444444444,
              "#bd3786"
             ],
             [
              0.5555555555555556,
              "#d8576b"
             ],
             [
              0.6666666666666666,
              "#ed7953"
             ],
             [
              0.7777777777777778,
              "#fb9f3a"
             ],
             [
              0.8888888888888888,
              "#fdca26"
             ],
             [
              1,
              "#f0f921"
             ]
            ],
            "type": "contour"
           }
          ],
          "contourcarpet": [
           {
            "colorbar": {
             "outlinewidth": 0,
             "ticks": ""
            },
            "type": "contourcarpet"
           }
          ],
          "heatmap": [
           {
            "colorbar": {
             "outlinewidth": 0,
             "ticks": ""
            },
            "colorscale": [
             [
              0,
              "#0d0887"
             ],
             [
              0.1111111111111111,
              "#46039f"
             ],
             [
              0.2222222222222222,
              "#7201a8"
             ],
             [
              0.3333333333333333,
              "#9c179e"
             ],
             [
              0.4444444444444444,
              "#bd3786"
             ],
             [
              0.5555555555555556,
              "#d8576b"
             ],
             [
              0.6666666666666666,
              "#ed7953"
             ],
             [
              0.7777777777777778,
              "#fb9f3a"
             ],
             [
              0.8888888888888888,
              "#fdca26"
             ],
             [
              1,
              "#f0f921"
             ]
            ],
            "type": "heatmap"
           }
          ],
          "heatmapgl": [
           {
            "colorbar": {
             "outlinewidth": 0,
             "ticks": ""
            },
            "colorscale": [
             [
              0,
              "#0d0887"
             ],
             [
              0.1111111111111111,
              "#46039f"
             ],
             [
              0.2222222222222222,
              "#7201a8"
             ],
             [
              0.3333333333333333,
              "#9c179e"
             ],
             [
              0.4444444444444444,
              "#bd3786"
             ],
             [
              0.5555555555555556,
              "#d8576b"
             ],
             [
              0.6666666666666666,
              "#ed7953"
             ],
             [
              0.7777777777777778,
              "#fb9f3a"
             ],
             [
              0.8888888888888888,
              "#fdca26"
             ],
             [
              1,
              "#f0f921"
             ]
            ],
            "type": "heatmapgl"
           }
          ],
          "histogram": [
           {
            "marker": {
             "pattern": {
              "fillmode": "overlay",
              "size": 10,
              "solidity": 0.2
             }
            },
            "type": "histogram"
           }
          ],
          "histogram2d": [
           {
            "colorbar": {
             "outlinewidth": 0,
             "ticks": ""
            },
            "colorscale": [
             [
              0,
              "#0d0887"
             ],
             [
              0.1111111111111111,
              "#46039f"
             ],
             [
              0.2222222222222222,
              "#7201a8"
             ],
             [
              0.3333333333333333,
              "#9c179e"
             ],
             [
              0.4444444444444444,
              "#bd3786"
             ],
             [
              0.5555555555555556,
              "#d8576b"
             ],
             [
              0.6666666666666666,
              "#ed7953"
             ],
             [
              0.7777777777777778,
              "#fb9f3a"
             ],
             [
              0.8888888888888888,
              "#fdca26"
             ],
             [
              1,
              "#f0f921"
             ]
            ],
            "type": "histogram2d"
           }
          ],
          "histogram2dcontour": [
           {
            "colorbar": {
             "outlinewidth": 0,
             "ticks": ""
            },
            "colorscale": [
             [
              0,
              "#0d0887"
             ],
             [
              0.1111111111111111,
              "#46039f"
             ],
             [
              0.2222222222222222,
              "#7201a8"
             ],
             [
              0.3333333333333333,
              "#9c179e"
             ],
             [
              0.4444444444444444,
              "#bd3786"
             ],
             [
              0.5555555555555556,
              "#d8576b"
             ],
             [
              0.6666666666666666,
              "#ed7953"
             ],
             [
              0.7777777777777778,
              "#fb9f3a"
             ],
             [
              0.8888888888888888,
              "#fdca26"
             ],
             [
              1,
              "#f0f921"
             ]
            ],
            "type": "histogram2dcontour"
           }
          ],
          "mesh3d": [
           {
            "colorbar": {
             "outlinewidth": 0,
             "ticks": ""
            },
            "type": "mesh3d"
           }
          ],
          "parcoords": [
           {
            "line": {
             "colorbar": {
              "outlinewidth": 0,
              "ticks": ""
             }
            },
            "type": "parcoords"
           }
          ],
          "pie": [
           {
            "automargin": true,
            "type": "pie"
           }
          ],
          "scatter": [
           {
            "fillpattern": {
             "fillmode": "overlay",
             "size": 10,
             "solidity": 0.2
            },
            "type": "scatter"
           }
          ],
          "scatter3d": [
           {
            "line": {
             "colorbar": {
              "outlinewidth": 0,
              "ticks": ""
             }
            },
            "marker": {
             "colorbar": {
              "outlinewidth": 0,
              "ticks": ""
             }
            },
            "type": "scatter3d"
           }
          ],
          "scattercarpet": [
           {
            "marker": {
             "colorbar": {
              "outlinewidth": 0,
              "ticks": ""
             }
            },
            "type": "scattercarpet"
           }
          ],
          "scattergeo": [
           {
            "marker": {
             "colorbar": {
              "outlinewidth": 0,
              "ticks": ""
             }
            },
            "type": "scattergeo"
           }
          ],
          "scattergl": [
           {
            "marker": {
             "colorbar": {
              "outlinewidth": 0,
              "ticks": ""
             }
            },
            "type": "scattergl"
           }
          ],
          "scattermapbox": [
           {
            "marker": {
             "colorbar": {
              "outlinewidth": 0,
              "ticks": ""
             }
            },
            "type": "scattermapbox"
           }
          ],
          "scatterpolar": [
           {
            "marker": {
             "colorbar": {
              "outlinewidth": 0,
              "ticks": ""
             }
            },
            "type": "scatterpolar"
           }
          ],
          "scatterpolargl": [
           {
            "marker": {
             "colorbar": {
              "outlinewidth": 0,
              "ticks": ""
             }
            },
            "type": "scatterpolargl"
           }
          ],
          "scatterternary": [
           {
            "marker": {
             "colorbar": {
              "outlinewidth": 0,
              "ticks": ""
             }
            },
            "type": "scatterternary"
           }
          ],
          "surface": [
           {
            "colorbar": {
             "outlinewidth": 0,
             "ticks": ""
            },
            "colorscale": [
             [
              0,
              "#0d0887"
             ],
             [
              0.1111111111111111,
              "#46039f"
             ],
             [
              0.2222222222222222,
              "#7201a8"
             ],
             [
              0.3333333333333333,
              "#9c179e"
             ],
             [
              0.4444444444444444,
              "#bd3786"
             ],
             [
              0.5555555555555556,
              "#d8576b"
             ],
             [
              0.6666666666666666,
              "#ed7953"
             ],
             [
              0.7777777777777778,
              "#fb9f3a"
             ],
             [
              0.8888888888888888,
              "#fdca26"
             ],
             [
              1,
              "#f0f921"
             ]
            ],
            "type": "surface"
           }
          ],
          "table": [
           {
            "cells": {
             "fill": {
              "color": "#EBF0F8"
             },
             "line": {
              "color": "white"
             }
            },
            "header": {
             "fill": {
              "color": "#C8D4E3"
             },
             "line": {
              "color": "white"
             }
            },
            "type": "table"
           }
          ]
         },
         "layout": {
          "annotationdefaults": {
           "arrowcolor": "#2a3f5f",
           "arrowhead": 0,
           "arrowwidth": 1
          },
          "autotypenumbers": "strict",
          "coloraxis": {
           "colorbar": {
            "outlinewidth": 0,
            "ticks": ""
           }
          },
          "colorscale": {
           "diverging": [
            [
             0,
             "#8e0152"
            ],
            [
             0.1,
             "#c51b7d"
            ],
            [
             0.2,
             "#de77ae"
            ],
            [
             0.3,
             "#f1b6da"
            ],
            [
             0.4,
             "#fde0ef"
            ],
            [
             0.5,
             "#f7f7f7"
            ],
            [
             0.6,
             "#e6f5d0"
            ],
            [
             0.7,
             "#b8e186"
            ],
            [
             0.8,
             "#7fbc41"
            ],
            [
             0.9,
             "#4d9221"
            ],
            [
             1,
             "#276419"
            ]
           ],
           "sequential": [
            [
             0,
             "#0d0887"
            ],
            [
             0.1111111111111111,
             "#46039f"
            ],
            [
             0.2222222222222222,
             "#7201a8"
            ],
            [
             0.3333333333333333,
             "#9c179e"
            ],
            [
             0.4444444444444444,
             "#bd3786"
            ],
            [
             0.5555555555555556,
             "#d8576b"
            ],
            [
             0.6666666666666666,
             "#ed7953"
            ],
            [
             0.7777777777777778,
             "#fb9f3a"
            ],
            [
             0.8888888888888888,
             "#fdca26"
            ],
            [
             1,
             "#f0f921"
            ]
           ],
           "sequentialminus": [
            [
             0,
             "#0d0887"
            ],
            [
             0.1111111111111111,
             "#46039f"
            ],
            [
             0.2222222222222222,
             "#7201a8"
            ],
            [
             0.3333333333333333,
             "#9c179e"
            ],
            [
             0.4444444444444444,
             "#bd3786"
            ],
            [
             0.5555555555555556,
             "#d8576b"
            ],
            [
             0.6666666666666666,
             "#ed7953"
            ],
            [
             0.7777777777777778,
             "#fb9f3a"
            ],
            [
             0.8888888888888888,
             "#fdca26"
            ],
            [
             1,
             "#f0f921"
            ]
           ]
          },
          "colorway": [
           "#636efa",
           "#EF553B",
           "#00cc96",
           "#ab63fa",
           "#FFA15A",
           "#19d3f3",
           "#FF6692",
           "#B6E880",
           "#FF97FF",
           "#FECB52"
          ],
          "font": {
           "color": "#2a3f5f"
          },
          "geo": {
           "bgcolor": "white",
           "lakecolor": "white",
           "landcolor": "#E5ECF6",
           "showlakes": true,
           "showland": true,
           "subunitcolor": "white"
          },
          "hoverlabel": {
           "align": "left"
          },
          "hovermode": "closest",
          "mapbox": {
           "style": "light"
          },
          "paper_bgcolor": "white",
          "plot_bgcolor": "#E5ECF6",
          "polar": {
           "angularaxis": {
            "gridcolor": "white",
            "linecolor": "white",
            "ticks": ""
           },
           "bgcolor": "#E5ECF6",
           "radialaxis": {
            "gridcolor": "white",
            "linecolor": "white",
            "ticks": ""
           }
          },
          "scene": {
           "xaxis": {
            "backgroundcolor": "#E5ECF6",
            "gridcolor": "white",
            "gridwidth": 2,
            "linecolor": "white",
            "showbackground": true,
            "ticks": "",
            "zerolinecolor": "white"
           },
           "yaxis": {
            "backgroundcolor": "#E5ECF6",
            "gridcolor": "white",
            "gridwidth": 2,
            "linecolor": "white",
            "showbackground": true,
            "ticks": "",
            "zerolinecolor": "white"
           },
           "zaxis": {
            "backgroundcolor": "#E5ECF6",
            "gridcolor": "white",
            "gridwidth": 2,
            "linecolor": "white",
            "showbackground": true,
            "ticks": "",
            "zerolinecolor": "white"
           }
          },
          "shapedefaults": {
           "line": {
            "color": "#2a3f5f"
           }
          },
          "ternary": {
           "aaxis": {
            "gridcolor": "white",
            "linecolor": "white",
            "ticks": ""
           },
           "baxis": {
            "gridcolor": "white",
            "linecolor": "white",
            "ticks": ""
           },
           "bgcolor": "#E5ECF6",
           "caxis": {
            "gridcolor": "white",
            "linecolor": "white",
            "ticks": ""
           }
          },
          "title": {
           "x": 0.05
          },
          "xaxis": {
           "automargin": true,
           "gridcolor": "white",
           "linecolor": "white",
           "ticks": "",
           "title": {
            "standoff": 15
           },
           "zerolinecolor": "white",
           "zerolinewidth": 2
          },
          "yaxis": {
           "automargin": true,
           "gridcolor": "white",
           "linecolor": "white",
           "ticks": "",
           "title": {
            "standoff": 15
           },
           "zerolinecolor": "white",
           "zerolinewidth": 2
          }
         }
        },
        "title": {
         "text": "CO2 emmissions transport sector"
        },
        "updatemenus": [
         {
          "buttons": [
           {
            "args": [
             null,
             {
              "frame": {
               "duration": 500,
               "redraw": true
              },
              "fromcurrent": true,
              "mode": "immediate",
              "transition": {
               "duration": 500,
               "easing": "linear"
              }
             }
            ],
            "label": "&#9654;",
            "method": "animate"
           },
           {
            "args": [
             [
              null
             ],
             {
              "frame": {
               "duration": 0,
               "redraw": true
              },
              "fromcurrent": true,
              "mode": "immediate",
              "transition": {
               "duration": 0,
               "easing": "linear"
              }
             }
            ],
            "label": "&#9724;",
            "method": "animate"
           }
          ],
          "direction": "left",
          "pad": {
           "r": 10,
           "t": 70
          },
          "showactive": false,
          "type": "buttons",
          "x": 0.1,
          "xanchor": "right",
          "y": 0,
          "yanchor": "top"
         }
        ],
        "width": 1080
       }
      }
     },
     "metadata": {},
     "output_type": "display_data"
    }
   ],
   "source": [
    "\n",
    "fig = px.choropleth(df_filt[df_filt.sector == given_sector], \n",
    "                    # geojson= counties,\n",
    "                    # featureidkey='ISO_A3',\n",
    "                    locations= 'country',\n",
    "                    locationmode= \"country names\",\n",
    "                    color='co2',\n",
    "                    range_color= [leg_min, leg_max],\n",
    "                    #hover_name=\"country\",\n",
    "                    animation_frame= 'date'\n",
    "                    #zoom=2,\n",
    ")\n",
    "fig.update_geos(lataxis_range=latrange, lonaxis_range=lonrange)  \n",
    "fig.update_layout(\n",
    "    title_text = \"CO2 emmissions transport sector\",\n",
    "    geo = dict(\n",
    "        showframe = False,\n",
    "        showcoastlines = True,\n",
    "        projection_type = \"equirectangular\",\n",
    "    ),\n",
    "    \n",
    "                    #color_continuous_scale=\"Blues_r\n",
    "    height=1000,\n",
    "    width  = 1080\n",
    "    #margin={\"r\":0,\"t\":0,\"l\":0,\"b\":0},\n",
    ")\n",
    "\n",
    "fig.show()"
   ]
  },
  {
   "cell_type": "code",
   "execution_count": 4,
   "metadata": {},
   "outputs": [
    {
     "name": "stderr",
     "output_type": "stream",
     "text": [
      "C:\\Users\\timtr\\AppData\\Local\\Temp\\ipykernel_24036\\748041950.py:10: SettingWithCopyWarning: \n",
      "A value is trying to be set on a copy of a slice from a DataFrame.\n",
      "Try using .loc[row_indexer,col_indexer] = value instead\n",
      "\n",
      "See the caveats in the documentation: https://pandas.pydata.org/pandas-docs/stable/user_guide/indexing.html#returning-a-view-versus-a-copy\n",
      "  transport_data[[\"year\", \"month\", \"day\"]] = transport_data[\"date\"].str.split(\"-\", expand = True)\n",
      "C:\\Users\\timtr\\AppData\\Local\\Temp\\ipykernel_24036\\748041950.py:10: SettingWithCopyWarning: \n",
      "A value is trying to be set on a copy of a slice from a DataFrame.\n",
      "Try using .loc[row_indexer,col_indexer] = value instead\n",
      "\n",
      "See the caveats in the documentation: https://pandas.pydata.org/pandas-docs/stable/user_guide/indexing.html#returning-a-view-versus-a-copy\n",
      "  transport_data[[\"year\", \"month\", \"day\"]] = transport_data[\"date\"].str.split(\"-\", expand = True)\n",
      "C:\\Users\\timtr\\AppData\\Local\\Temp\\ipykernel_24036\\748041950.py:10: SettingWithCopyWarning: \n",
      "A value is trying to be set on a copy of a slice from a DataFrame.\n",
      "Try using .loc[row_indexer,col_indexer] = value instead\n",
      "\n",
      "See the caveats in the documentation: https://pandas.pydata.org/pandas-docs/stable/user_guide/indexing.html#returning-a-view-versus-a-copy\n",
      "  transport_data[[\"year\", \"month\", \"day\"]] = transport_data[\"date\"].str.split(\"-\", expand = True)\n",
      "C:\\Users\\timtr\\AppData\\Local\\Temp\\ipykernel_24036\\748041950.py:11: SettingWithCopyWarning: \n",
      "A value is trying to be set on a copy of a slice from a DataFrame.\n",
      "Try using .loc[row_indexer,col_indexer] = value instead\n",
      "\n",
      "See the caveats in the documentation: https://pandas.pydata.org/pandas-docs/stable/user_guide/indexing.html#returning-a-view-versus-a-copy\n",
      "  transport_data['same_year'] = '2019' + '-' + transport_data['month'].astype(str) + '-' + transport_data['day'] # Same year is created to visualize in same plot\n"
     ]
    }
   ],
   "source": [
    "# filter dataset on Transport sectors: 'International Shipping' or 'International Aviation' or 'Domestic Aviation' or 'Ground Transport'\n",
    "transport_datas = ['International Shipping', 'International Aviation', 'Domestic Aviation', 'Ground Transport']\n",
    "transport_data =  df_filt[df_filt.sector.isin(transport_datas)]\n",
    "\n",
    "# Transport_not_World = transport_data[transport_data.country != 'WORLD'].groupby(['country', 'date']).sum()\n",
    "\n",
    "#reset index for optimal dataset and split date into years\n",
    "\n",
    "# transport_data = Transport_not_World.reset_index(['country', 'date'])\n",
    "transport_data[[\"year\", \"month\", \"day\"]] = transport_data[\"date\"].str.split(\"-\", expand = True)\n",
    "transport_data['same_year'] = '2019' + '-' + transport_data['month'].astype(str) + '-' + transport_data['day'] # Same year is created to visualize in same plot\n",
    "transport_data2 = transport_data[(transport_data.year == '2019') | (transport_data.year == '2020')]\n",
    "# transport_data[\"date\"].str.split(\"-\", expand = True)\n",
    "fig_transport = go.Figure()\n",
    "# add trace\n",
    "Years = ['2019', '2020']\n",
    "Countries = ['UK', 'US', 'China', 'EU27 & UK', 'France', 'Germany', 'India', 'Italy', 'Japan', 'Russia', 'Spain']\n",
    "months = list(transport_data.month.unique())\n",
    "\n",
    "\n",
    "list_updatemenus = []\n",
    "\n",
    "for n, country in enumerate(Countries):\n",
    "    visible = [False] * 2 * len(Countries)\n",
    "    visible[2*n] = True\n",
    "    visible[2*n + 1] = True\n",
    "    temp_dict = dict(label = str(country),\n",
    "                 method = 'update',\n",
    "                 args = [{'visible': visible},\n",
    "                         {'title': ('CO2 emissions comparison 2019 versus 2020 in %s'% country)}])\n",
    "    list_updatemenus.append(temp_dict)\n",
    "\n",
    "list_menu = pd.DataFrame(list_updatemenus)\n",
    "\n",
    "\n",
    "\n"
   ]
  },
  {
   "cell_type": "code",
   "execution_count": 13,
   "metadata": {},
   "outputs": [
    {
     "data": {
      "application/vnd.plotly.v1+json": {
       "config": {
        "plotlyServerURL": "https://plot.ly"
       },
       "data": [
        {
         "name": "WORLD2019",
         "type": "scatter",
         "visible": true,
         "x": [
          "2019-01-01",
          "2019-02-01",
          "2019-03-01",
          "2019-04-01",
          "2019-05-01",
          "2019-06-01",
          "2019-07-01",
          "2019-08-01",
          "2019-09-01",
          "2019-10-01",
          "2019-11-01",
          "2019-12-01",
          "2019-01-01",
          "2019-02-01",
          "2019-03-01",
          "2019-04-01",
          "2019-05-01",
          "2019-06-01",
          "2019-07-01",
          "2019-08-01",
          "2019-09-01",
          "2019-10-01",
          "2019-11-01",
          "2019-12-01",
          "2019-01-01",
          "2019-02-01",
          "2019-03-01",
          "2019-04-01",
          "2019-05-01",
          "2019-06-01",
          "2019-07-01",
          "2019-08-01",
          "2019-09-01",
          "2019-10-01",
          "2019-11-01",
          "2019-12-01",
          "2019-01-01",
          "2019-02-01",
          "2019-03-01",
          "2019-04-01",
          "2019-05-01",
          "2019-06-01",
          "2019-07-01",
          "2019-08-01",
          "2019-09-01",
          "2019-10-01",
          "2019-11-01",
          "2019-12-01"
         ],
         "xaxis": "x",
         "y": [
          28809.30022252472,
          27091.2808137844,
          29765.155131569358,
          29179.770179788553,
          30772.21116517903,
          30747.77032540737,
          32108.90622400729,
          31938.19581049846,
          30274.827417308716,
          31079.987574030987,
          30079.04478334086,
          31855.85230256027,
          539862.672333964,
          504348.3629018382,
          556637.1678150571,
          542183.6710736245,
          561512.7426240502,
          520038.5329920446,
          541093.9240217285,
          543408.2908340966,
          517682.2027524951,
          557483.1019345132,
          560423.0732818173,
          563404.5934347748,
          49504.6327902443,
          44867.31556738315,
          50511.71446870753,
          51216.8376896473,
          53523.32636350853,
          55748.98189684639,
          59349.07015411733,
          59079.50496734755,
          54922.554974648105,
          53755.51264442023,
          48495.19736111675,
          51682.71299090243,
          59596.009891337446,
          52616.34755567576,
          59861.63222334533,
          60064.32966564143,
          63357.26882705323,
          61670.540843987386,
          62831.00364077353,
          62861.07469380119,
          60853.82999870151,
          63696.470423061575,
          60252.50177304911,
          62601.54536357241
         ],
         "yaxis": "y"
        },
        {
         "name": "International AviationWORLD2019",
         "type": "scatter",
         "visible": true,
         "x": [
          "2019-01-01",
          "2019-02-01",
          "2019-03-01",
          "2019-04-01",
          "2019-05-01",
          "2019-06-01",
          "2019-07-01",
          "2019-08-01",
          "2019-09-01",
          "2019-10-01",
          "2019-11-01",
          "2019-12-01"
         ],
         "xaxis": "x2",
         "y": [
          49504.6327902443,
          44867.31556738315,
          50511.71446870753,
          51216.8376896473,
          53523.32636350853,
          55748.98189684639,
          59349.07015411733,
          59079.50496734755,
          54922.554974648105,
          53755.51264442023,
          48495.19736111675,
          51682.71299090243
         ],
         "yaxis": "y2"
        },
        {
         "name": "Domestic AviationWORLD2019",
         "type": "scatter",
         "visible": true,
         "x": [
          "2019-01-01",
          "2019-02-01",
          "2019-03-01",
          "2019-04-01",
          "2019-05-01",
          "2019-06-01",
          "2019-07-01",
          "2019-08-01",
          "2019-09-01",
          "2019-10-01",
          "2019-11-01",
          "2019-12-01"
         ],
         "xaxis": "x3",
         "y": [
          28809.30022252472,
          27091.2808137844,
          29765.155131569358,
          29179.770179788553,
          30772.21116517903,
          30747.77032540737,
          32108.90622400729,
          31938.19581049846,
          30274.827417308716,
          31079.987574030987,
          30079.04478334086,
          31855.85230256027
         ],
         "yaxis": "y3"
        },
        {
         "name": "Ground TransportWORLD2019",
         "type": "scatter",
         "visible": true,
         "x": [
          "2019-01-01",
          "2019-02-01",
          "2019-03-01",
          "2019-04-01",
          "2019-05-01",
          "2019-06-01",
          "2019-07-01",
          "2019-08-01",
          "2019-09-01",
          "2019-10-01",
          "2019-11-01",
          "2019-12-01"
         ],
         "xaxis": "x4",
         "y": [
          539862.672333964,
          504348.3629018382,
          556637.1678150571,
          542183.6710736245,
          561512.7426240502,
          520038.5329920446,
          541093.9240217285,
          543408.2908340966,
          517682.2027524951,
          557483.1019345132,
          560423.0732818173,
          563404.5934347748
         ],
         "yaxis": "y4"
        },
        {
         "name": "WORLD2020",
         "type": "scatter",
         "visible": true,
         "x": [
          "2019-01-01",
          "2019-02-01",
          "2019-03-01",
          "2019-04-01",
          "2019-05-01",
          "2019-06-01",
          "2019-07-01",
          "2019-08-01",
          "2019-09-01",
          "2019-10-01",
          "2019-11-01",
          "2019-12-01",
          "2019-01-01",
          "2019-02-01",
          "2019-03-01",
          "2019-04-01",
          "2019-05-01",
          "2019-06-01",
          "2019-07-01",
          "2019-08-01",
          "2019-09-01",
          "2019-10-01",
          "2019-11-01",
          "2019-12-01",
          "2019-01-01",
          "2019-02-01",
          "2019-03-01",
          "2019-04-01",
          "2019-05-01",
          "2019-06-01",
          "2019-07-01",
          "2019-08-01",
          "2019-09-01",
          "2019-10-01",
          "2019-11-01",
          "2019-12-01",
          "2019-01-01",
          "2019-02-01",
          "2019-03-01",
          "2019-04-01",
          "2019-05-01",
          "2019-06-01",
          "2019-07-01",
          "2019-08-01",
          "2019-09-01",
          "2019-10-01",
          "2019-11-01",
          "2019-12-01"
         ],
         "xaxis": "x",
         "y": [
          30933.96673335025,
          25537.847385494304,
          23959.531761334874,
          10037.155296177763,
          11227.036292731202,
          15372.650303815242,
          20944.506855299212,
          22494.647155373554,
          21352.568194103875,
          22711.66533644042,
          22566.33432107539,
          24546.410135781734,
          537157.5951565683,
          479190.6898494803,
          457721.0029461998,
          357902.0798591551,
          411786.65823048697,
          471597.62783809775,
          507747.7619096394,
          508723.6200807081,
          514810.5429978767,
          527332.7341854014,
          501146.74243131216,
          523836.6656274406,
          51412.752039182305,
          43468.133463772196,
          30906.57407894477,
          8778.741415008373,
          11612.227536439479,
          12380.934383287675,
          17524.237193168734,
          20330.21463171907,
          19557.46202101977,
          20131.231243578775,
          19777.569210888985,
          22243.755306165618,
          61003.2924818825,
          54403.71287248086,
          61234.394475771565,
          58452.22132486204,
          57096.36644492117,
          56878.07604126665,
          60149.282413797955,
          60835.20324271009,
          58320.167462437385,
          59781.29260259776,
          61145.98246380449,
          57962.189111399515
         ],
         "yaxis": "y"
        },
        {
         "name": "International AviationWORLD2020",
         "type": "scatter",
         "visible": true,
         "x": [
          "2019-01-01",
          "2019-02-01",
          "2019-03-01",
          "2019-04-01",
          "2019-05-01",
          "2019-06-01",
          "2019-07-01",
          "2019-08-01",
          "2019-09-01",
          "2019-10-01",
          "2019-11-01",
          "2019-12-01"
         ],
         "xaxis": "x2",
         "y": [
          51412.752039182305,
          43468.133463772196,
          30906.57407894477,
          8778.741415008373,
          11612.227536439479,
          12380.934383287675,
          17524.237193168734,
          20330.21463171907,
          19557.46202101977,
          20131.231243578775,
          19777.569210888985,
          22243.755306165618
         ],
         "yaxis": "y2"
        },
        {
         "name": "Domestic AviationWORLD2020",
         "type": "scatter",
         "visible": true,
         "x": [
          "2019-01-01",
          "2019-02-01",
          "2019-03-01",
          "2019-04-01",
          "2019-05-01",
          "2019-06-01",
          "2019-07-01",
          "2019-08-01",
          "2019-09-01",
          "2019-10-01",
          "2019-11-01",
          "2019-12-01"
         ],
         "xaxis": "x3",
         "y": [
          30933.96673335025,
          25537.847385494304,
          23959.531761334874,
          10037.155296177763,
          11227.036292731202,
          15372.650303815242,
          20944.506855299212,
          22494.647155373554,
          21352.568194103875,
          22711.66533644042,
          22566.33432107539,
          24546.410135781734
         ],
         "yaxis": "y3"
        },
        {
         "name": "Ground TransportWORLD2020",
         "type": "scatter",
         "visible": true,
         "x": [
          "2019-01-01",
          "2019-02-01",
          "2019-03-01",
          "2019-04-01",
          "2019-05-01",
          "2019-06-01",
          "2019-07-01",
          "2019-08-01",
          "2019-09-01",
          "2019-10-01",
          "2019-11-01",
          "2019-12-01"
         ],
         "xaxis": "x4",
         "y": [
          537157.5951565683,
          479190.6898494803,
          457721.0029461998,
          357902.0798591551,
          411786.65823048697,
          471597.62783809775,
          507747.7619096394,
          508723.6200807081,
          514810.5429978767,
          527332.7341854014,
          501146.74243131216,
          523836.6656274406
         ],
         "yaxis": "y4"
        }
       ],
       "layout": {
        "annotations": [
         {
          "font": {
           "size": 16
          },
          "showarrow": false,
          "text": "Total",
          "x": 0.5,
          "xanchor": "center",
          "xref": "paper",
          "y": 1,
          "yanchor": "bottom",
          "yref": "paper"
         },
         {
          "font": {
           "size": 16
          },
          "showarrow": false,
          "text": "International Aviation",
          "x": 0.5,
          "xanchor": "center",
          "xref": "paper",
          "y": 0.71875,
          "yanchor": "bottom",
          "yref": "paper"
         },
         {
          "font": {
           "size": 16
          },
          "showarrow": false,
          "text": "Domestic Aviation",
          "x": 0.5,
          "xanchor": "center",
          "xref": "paper",
          "y": 0.4375,
          "yanchor": "bottom",
          "yref": "paper"
         },
         {
          "font": {
           "size": 16
          },
          "showarrow": false,
          "text": "Ground Transport",
          "x": 0.5,
          "xanchor": "center",
          "xref": "paper",
          "y": 0.15625,
          "yanchor": "bottom",
          "yref": "paper"
         }
        ],
        "height": 1500,
        "template": {
         "data": {
          "bar": [
           {
            "error_x": {
             "color": "#2a3f5f"
            },
            "error_y": {
             "color": "#2a3f5f"
            },
            "marker": {
             "line": {
              "color": "#E5ECF6",
              "width": 0.5
             },
             "pattern": {
              "fillmode": "overlay",
              "size": 10,
              "solidity": 0.2
             }
            },
            "type": "bar"
           }
          ],
          "barpolar": [
           {
            "marker": {
             "line": {
              "color": "#E5ECF6",
              "width": 0.5
             },
             "pattern": {
              "fillmode": "overlay",
              "size": 10,
              "solidity": 0.2
             }
            },
            "type": "barpolar"
           }
          ],
          "carpet": [
           {
            "aaxis": {
             "endlinecolor": "#2a3f5f",
             "gridcolor": "white",
             "linecolor": "white",
             "minorgridcolor": "white",
             "startlinecolor": "#2a3f5f"
            },
            "baxis": {
             "endlinecolor": "#2a3f5f",
             "gridcolor": "white",
             "linecolor": "white",
             "minorgridcolor": "white",
             "startlinecolor": "#2a3f5f"
            },
            "type": "carpet"
           }
          ],
          "choropleth": [
           {
            "colorbar": {
             "outlinewidth": 0,
             "ticks": ""
            },
            "type": "choropleth"
           }
          ],
          "contour": [
           {
            "colorbar": {
             "outlinewidth": 0,
             "ticks": ""
            },
            "colorscale": [
             [
              0,
              "#0d0887"
             ],
             [
              0.1111111111111111,
              "#46039f"
             ],
             [
              0.2222222222222222,
              "#7201a8"
             ],
             [
              0.3333333333333333,
              "#9c179e"
             ],
             [
              0.4444444444444444,
              "#bd3786"
             ],
             [
              0.5555555555555556,
              "#d8576b"
             ],
             [
              0.6666666666666666,
              "#ed7953"
             ],
             [
              0.7777777777777778,
              "#fb9f3a"
             ],
             [
              0.8888888888888888,
              "#fdca26"
             ],
             [
              1,
              "#f0f921"
             ]
            ],
            "type": "contour"
           }
          ],
          "contourcarpet": [
           {
            "colorbar": {
             "outlinewidth": 0,
             "ticks": ""
            },
            "type": "contourcarpet"
           }
          ],
          "heatmap": [
           {
            "colorbar": {
             "outlinewidth": 0,
             "ticks": ""
            },
            "colorscale": [
             [
              0,
              "#0d0887"
             ],
             [
              0.1111111111111111,
              "#46039f"
             ],
             [
              0.2222222222222222,
              "#7201a8"
             ],
             [
              0.3333333333333333,
              "#9c179e"
             ],
             [
              0.4444444444444444,
              "#bd3786"
             ],
             [
              0.5555555555555556,
              "#d8576b"
             ],
             [
              0.6666666666666666,
              "#ed7953"
             ],
             [
              0.7777777777777778,
              "#fb9f3a"
             ],
             [
              0.8888888888888888,
              "#fdca26"
             ],
             [
              1,
              "#f0f921"
             ]
            ],
            "type": "heatmap"
           }
          ],
          "heatmapgl": [
           {
            "colorbar": {
             "outlinewidth": 0,
             "ticks": ""
            },
            "colorscale": [
             [
              0,
              "#0d0887"
             ],
             [
              0.1111111111111111,
              "#46039f"
             ],
             [
              0.2222222222222222,
              "#7201a8"
             ],
             [
              0.3333333333333333,
              "#9c179e"
             ],
             [
              0.4444444444444444,
              "#bd3786"
             ],
             [
              0.5555555555555556,
              "#d8576b"
             ],
             [
              0.6666666666666666,
              "#ed7953"
             ],
             [
              0.7777777777777778,
              "#fb9f3a"
             ],
             [
              0.8888888888888888,
              "#fdca26"
             ],
             [
              1,
              "#f0f921"
             ]
            ],
            "type": "heatmapgl"
           }
          ],
          "histogram": [
           {
            "marker": {
             "pattern": {
              "fillmode": "overlay",
              "size": 10,
              "solidity": 0.2
             }
            },
            "type": "histogram"
           }
          ],
          "histogram2d": [
           {
            "colorbar": {
             "outlinewidth": 0,
             "ticks": ""
            },
            "colorscale": [
             [
              0,
              "#0d0887"
             ],
             [
              0.1111111111111111,
              "#46039f"
             ],
             [
              0.2222222222222222,
              "#7201a8"
             ],
             [
              0.3333333333333333,
              "#9c179e"
             ],
             [
              0.4444444444444444,
              "#bd3786"
             ],
             [
              0.5555555555555556,
              "#d8576b"
             ],
             [
              0.6666666666666666,
              "#ed7953"
             ],
             [
              0.7777777777777778,
              "#fb9f3a"
             ],
             [
              0.8888888888888888,
              "#fdca26"
             ],
             [
              1,
              "#f0f921"
             ]
            ],
            "type": "histogram2d"
           }
          ],
          "histogram2dcontour": [
           {
            "colorbar": {
             "outlinewidth": 0,
             "ticks": ""
            },
            "colorscale": [
             [
              0,
              "#0d0887"
             ],
             [
              0.1111111111111111,
              "#46039f"
             ],
             [
              0.2222222222222222,
              "#7201a8"
             ],
             [
              0.3333333333333333,
              "#9c179e"
             ],
             [
              0.4444444444444444,
              "#bd3786"
             ],
             [
              0.5555555555555556,
              "#d8576b"
             ],
             [
              0.6666666666666666,
              "#ed7953"
             ],
             [
              0.7777777777777778,
              "#fb9f3a"
             ],
             [
              0.8888888888888888,
              "#fdca26"
             ],
             [
              1,
              "#f0f921"
             ]
            ],
            "type": "histogram2dcontour"
           }
          ],
          "mesh3d": [
           {
            "colorbar": {
             "outlinewidth": 0,
             "ticks": ""
            },
            "type": "mesh3d"
           }
          ],
          "parcoords": [
           {
            "line": {
             "colorbar": {
              "outlinewidth": 0,
              "ticks": ""
             }
            },
            "type": "parcoords"
           }
          ],
          "pie": [
           {
            "automargin": true,
            "type": "pie"
           }
          ],
          "scatter": [
           {
            "fillpattern": {
             "fillmode": "overlay",
             "size": 10,
             "solidity": 0.2
            },
            "type": "scatter"
           }
          ],
          "scatter3d": [
           {
            "line": {
             "colorbar": {
              "outlinewidth": 0,
              "ticks": ""
             }
            },
            "marker": {
             "colorbar": {
              "outlinewidth": 0,
              "ticks": ""
             }
            },
            "type": "scatter3d"
           }
          ],
          "scattercarpet": [
           {
            "marker": {
             "colorbar": {
              "outlinewidth": 0,
              "ticks": ""
             }
            },
            "type": "scattercarpet"
           }
          ],
          "scattergeo": [
           {
            "marker": {
             "colorbar": {
              "outlinewidth": 0,
              "ticks": ""
             }
            },
            "type": "scattergeo"
           }
          ],
          "scattergl": [
           {
            "marker": {
             "colorbar": {
              "outlinewidth": 0,
              "ticks": ""
             }
            },
            "type": "scattergl"
           }
          ],
          "scattermapbox": [
           {
            "marker": {
             "colorbar": {
              "outlinewidth": 0,
              "ticks": ""
             }
            },
            "type": "scattermapbox"
           }
          ],
          "scatterpolar": [
           {
            "marker": {
             "colorbar": {
              "outlinewidth": 0,
              "ticks": ""
             }
            },
            "type": "scatterpolar"
           }
          ],
          "scatterpolargl": [
           {
            "marker": {
             "colorbar": {
              "outlinewidth": 0,
              "ticks": ""
             }
            },
            "type": "scatterpolargl"
           }
          ],
          "scatterternary": [
           {
            "marker": {
             "colorbar": {
              "outlinewidth": 0,
              "ticks": ""
             }
            },
            "type": "scatterternary"
           }
          ],
          "surface": [
           {
            "colorbar": {
             "outlinewidth": 0,
             "ticks": ""
            },
            "colorscale": [
             [
              0,
              "#0d0887"
             ],
             [
              0.1111111111111111,
              "#46039f"
             ],
             [
              0.2222222222222222,
              "#7201a8"
             ],
             [
              0.3333333333333333,
              "#9c179e"
             ],
             [
              0.4444444444444444,
              "#bd3786"
             ],
             [
              0.5555555555555556,
              "#d8576b"
             ],
             [
              0.6666666666666666,
              "#ed7953"
             ],
             [
              0.7777777777777778,
              "#fb9f3a"
             ],
             [
              0.8888888888888888,
              "#fdca26"
             ],
             [
              1,
              "#f0f921"
             ]
            ],
            "type": "surface"
           }
          ],
          "table": [
           {
            "cells": {
             "fill": {
              "color": "#EBF0F8"
             },
             "line": {
              "color": "white"
             }
            },
            "header": {
             "fill": {
              "color": "#C8D4E3"
             },
             "line": {
              "color": "white"
             }
            },
            "type": "table"
           }
          ]
         },
         "layout": {
          "annotationdefaults": {
           "arrowcolor": "#2a3f5f",
           "arrowhead": 0,
           "arrowwidth": 1
          },
          "autotypenumbers": "strict",
          "coloraxis": {
           "colorbar": {
            "outlinewidth": 0,
            "ticks": ""
           }
          },
          "colorscale": {
           "diverging": [
            [
             0,
             "#8e0152"
            ],
            [
             0.1,
             "#c51b7d"
            ],
            [
             0.2,
             "#de77ae"
            ],
            [
             0.3,
             "#f1b6da"
            ],
            [
             0.4,
             "#fde0ef"
            ],
            [
             0.5,
             "#f7f7f7"
            ],
            [
             0.6,
             "#e6f5d0"
            ],
            [
             0.7,
             "#b8e186"
            ],
            [
             0.8,
             "#7fbc41"
            ],
            [
             0.9,
             "#4d9221"
            ],
            [
             1,
             "#276419"
            ]
           ],
           "sequential": [
            [
             0,
             "#0d0887"
            ],
            [
             0.1111111111111111,
             "#46039f"
            ],
            [
             0.2222222222222222,
             "#7201a8"
            ],
            [
             0.3333333333333333,
             "#9c179e"
            ],
            [
             0.4444444444444444,
             "#bd3786"
            ],
            [
             0.5555555555555556,
             "#d8576b"
            ],
            [
             0.6666666666666666,
             "#ed7953"
            ],
            [
             0.7777777777777778,
             "#fb9f3a"
            ],
            [
             0.8888888888888888,
             "#fdca26"
            ],
            [
             1,
             "#f0f921"
            ]
           ],
           "sequentialminus": [
            [
             0,
             "#0d0887"
            ],
            [
             0.1111111111111111,
             "#46039f"
            ],
            [
             0.2222222222222222,
             "#7201a8"
            ],
            [
             0.3333333333333333,
             "#9c179e"
            ],
            [
             0.4444444444444444,
             "#bd3786"
            ],
            [
             0.5555555555555556,
             "#d8576b"
            ],
            [
             0.6666666666666666,
             "#ed7953"
            ],
            [
             0.7777777777777778,
             "#fb9f3a"
            ],
            [
             0.8888888888888888,
             "#fdca26"
            ],
            [
             1,
             "#f0f921"
            ]
           ]
          },
          "colorway": [
           "#636efa",
           "#EF553B",
           "#00cc96",
           "#ab63fa",
           "#FFA15A",
           "#19d3f3",
           "#FF6692",
           "#B6E880",
           "#FF97FF",
           "#FECB52"
          ],
          "font": {
           "color": "#2a3f5f"
          },
          "geo": {
           "bgcolor": "white",
           "lakecolor": "white",
           "landcolor": "#E5ECF6",
           "showlakes": true,
           "showland": true,
           "subunitcolor": "white"
          },
          "hoverlabel": {
           "align": "left"
          },
          "hovermode": "closest",
          "mapbox": {
           "style": "light"
          },
          "paper_bgcolor": "white",
          "plot_bgcolor": "#E5ECF6",
          "polar": {
           "angularaxis": {
            "gridcolor": "white",
            "linecolor": "white",
            "ticks": ""
           },
           "bgcolor": "#E5ECF6",
           "radialaxis": {
            "gridcolor": "white",
            "linecolor": "white",
            "ticks": ""
           }
          },
          "scene": {
           "xaxis": {
            "backgroundcolor": "#E5ECF6",
            "gridcolor": "white",
            "gridwidth": 2,
            "linecolor": "white",
            "showbackground": true,
            "ticks": "",
            "zerolinecolor": "white"
           },
           "yaxis": {
            "backgroundcolor": "#E5ECF6",
            "gridcolor": "white",
            "gridwidth": 2,
            "linecolor": "white",
            "showbackground": true,
            "ticks": "",
            "zerolinecolor": "white"
           },
           "zaxis": {
            "backgroundcolor": "#E5ECF6",
            "gridcolor": "white",
            "gridwidth": 2,
            "linecolor": "white",
            "showbackground": true,
            "ticks": "",
            "zerolinecolor": "white"
           }
          },
          "shapedefaults": {
           "line": {
            "color": "#2a3f5f"
           }
          },
          "ternary": {
           "aaxis": {
            "gridcolor": "white",
            "linecolor": "white",
            "ticks": ""
           },
           "baxis": {
            "gridcolor": "white",
            "linecolor": "white",
            "ticks": ""
           },
           "bgcolor": "#E5ECF6",
           "caxis": {
            "gridcolor": "white",
            "linecolor": "white",
            "ticks": ""
           }
          },
          "title": {
           "x": 0.05
          },
          "xaxis": {
           "automargin": true,
           "gridcolor": "white",
           "linecolor": "white",
           "ticks": "",
           "title": {
            "standoff": 15
           },
           "zerolinecolor": "white",
           "zerolinewidth": 2
          },
          "yaxis": {
           "automargin": true,
           "gridcolor": "white",
           "linecolor": "white",
           "ticks": "",
           "title": {
            "standoff": 15
           },
           "zerolinecolor": "white",
           "zerolinewidth": 2
          }
         }
        },
        "title": {
         "text": "CO2 emissions comparison 2019 versus 2020"
        },
        "xaxis": {
         "anchor": "y",
         "domain": [
          0,
          1
         ],
         "tickformat": "%d-%B",
         "title": {
          "text": "Date"
         }
        },
        "xaxis2": {
         "anchor": "y2",
         "domain": [
          0,
          1
         ],
         "tickformat": "%d-%B",
         "title": {
          "text": "Date"
         }
        },
        "xaxis3": {
         "anchor": "y3",
         "domain": [
          0,
          1
         ],
         "tickformat": "%d-%B",
         "title": {
          "text": "Date"
         }
        },
        "xaxis4": {
         "anchor": "y4",
         "domain": [
          0,
          1
         ],
         "tickformat": "%d-%B",
         "title": {
          "text": "Date"
         }
        },
        "yaxis": {
         "anchor": "x",
         "domain": [
          0.84375,
          1
         ],
         "title": {
          "text": "CO2 emissions x 1000 (ppm)"
         }
        },
        "yaxis2": {
         "anchor": "x2",
         "domain": [
          0.5625,
          0.71875
         ],
         "title": {
          "text": "CO2 emissions x 1000 (ppm)"
         }
        },
        "yaxis3": {
         "anchor": "x3",
         "domain": [
          0.28125,
          0.4375
         ],
         "title": {
          "text": "CO2 emissions x 1000 (ppm)"
         }
        },
        "yaxis4": {
         "anchor": "x4",
         "domain": [
          0,
          0.15625
         ],
         "title": {
          "text": "CO2 emissions x 1000 (ppm)"
         }
        }
       }
      }
     },
     "metadata": {},
     "output_type": "display_data"
    }
   ],
   "source": [
    "\n",
    "fig_transport = make_subplots(rows = 4, \n",
    "                    cols = 1,\n",
    "                    subplot_titles = ('Total', 'International Aviation', 'Domestic Aviation', 'Ground Transport'))\n",
    "given_country = 'WORLD'\n",
    "for i in Years:\n",
    "        z = transport_data[(transport_data.country == given_country) & (transport_data.year == i)]\n",
    "        Int_Av = transport_data2[(transport_data2.country == given_country) & (transport_data2.year == i) & (transport_data2.sector == 'International Aviation')]\n",
    "        Do_Av = transport_data2[(transport_data2.country == given_country) & (transport_data2.year == i) & (transport_data2.sector == 'Domestic Aviation')]\n",
    "        Gr_Trans = transport_data2[(transport_data2.country == given_country) & (transport_data2.year == i) & (transport_data2.sector == 'Ground Transport')]\n",
    "        lop = fig_transport.add_traces(\n",
    "                [\n",
    "                    go.Scatter(x=list(z.same_year),\n",
    "                        y=list(z.co2),\n",
    "                        name= given_country + i,\n",
    "                        visible = True),        \n",
    "                    go.Scatter(x=list(Int_Av.same_year),\n",
    "                            y=list(Int_Av.co2),\n",
    "                            name= 'International Aviation' + given_country + i,\n",
    "                            visible = True),\n",
    "                    go.Scatter(x=list(Do_Av.same_year),\n",
    "                            y=list(Do_Av.co2),\n",
    "                            name= 'Domestic Aviation' + given_country + i,\n",
    "                            visible = True),\n",
    "                    go.Scatter(x=list(Gr_Trans.same_year),\n",
    "                            y=list(Gr_Trans.co2),\n",
    "                            name= 'Ground Transport' + given_country + i,\n",
    "                            visible = True)\n",
    "                ], rows=list(range(1,5)), cols=[1,1,1,1]\n",
    "                )\n",
    "\n",
    "fig_transport.update_layout(\n",
    "    height = 1500\n",
    ")\n",
    "\n",
    "fig_transport.update_layout(xaxis_title = 'Date', yaxis_title = 'CO2 emissions x 1000 (ppm)')\n",
    "fig_transport.update_layout(title_text = 'CO2 emissions comparison 2019 versus 2020')\n",
    "fig_transport.update_layout(xaxis=dict(tickformat=\"%d-%B\"),\n",
    "                 xaxis2=dict(tickformat=\"%d-%B\"),\n",
    "                 xaxis3=dict(tickformat=\"%d-%B\"),\n",
    "                 xaxis4=dict(tickformat=\"%d-%B\")\n",
    "                 )\n",
    "fig_transport['layout']['yaxis2']['title']='CO2 emissions x 1000 (ppm)'\n",
    "fig_transport['layout']['yaxis3']['title']='CO2 emissions x 1000 (ppm)'\n",
    "fig_transport['layout']['yaxis4']['title']='CO2 emissions x 1000 (ppm)'\n",
    "fig_transport['layout']['xaxis2']['title']='Date'\n",
    "fig_transport['layout']['xaxis3']['title']='Date'\n",
    "fig_transport['layout']['xaxis4']['title']='Date'\n",
    "\n",
    "\n",
    "fig_transport.show()\n"
   ]
  }
 ],
 "metadata": {
  "kernelspec": {
   "display_name": "Python 3.10.6 ('TIL6022')",
   "language": "python",
   "name": "python3"
  },
  "language_info": {
   "codemirror_mode": {
    "name": "ipython",
    "version": 3
   },
   "file_extension": ".py",
   "mimetype": "text/x-python",
   "name": "python",
   "nbconvert_exporter": "python",
   "pygments_lexer": "ipython3",
   "version": "3.10.6"
  },
  "orig_nbformat": 4,
  "vscode": {
   "interpreter": {
    "hash": "912e563e9dcba4627191cc3d93bbeccfd6aeff90cb759bc69d8ed01eba93c0fe"
   }
  }
 },
 "nbformat": 4,
 "nbformat_minor": 2
}
