{
 "cells": [
  {
   "cell_type": "code",
   "execution_count": 1,
   "metadata": {},
   "outputs": [
    {
     "data": {
      "text/plain": [
       "country     object\n",
       "sector      object\n",
       "date        object\n",
       "co2        float64\n",
       "dtype: object"
      ]
     },
     "execution_count": 1,
     "metadata": {},
     "output_type": "execute_result"
    }
   ],
   "source": [
    "import streamlit as st\n",
    "import json\n",
    "import plotly.express as px\n",
    "import plotly.graph_objects as go\n",
    "from plotly.subplots import make_subplots\n",
    "import pandas as pd\n",
    "import geopandas as gpd\n",
    "import geojson\n",
    "import folium\n",
    "import numpy as np\n",
    "import datetime\n",
    "from shapely.geometry import Polygon, mapping\n",
    "from calendar import month\n",
    "from calendar import month_name as mn\n",
    "from matplotlib import animation\n",
    "import seaborn as sns\n",
    "\n",
    "\n",
    "\n",
    "dataset = 'TILL6022_Emission_Dataset.csv'\n",
    "df = pd.read_csv(dataset, delimiter=',', encoding='ISO-8859-1') #,parse_dates = ['date']\n",
    "country_bb = pd.read_csv('country_bb.csv', delimiter=',', encoding='ISO-8859-1')\n",
    "# country_bb.set_index('country', inplace=True)\n",
    "#df.set_index('country', inplace=True)\n",
    "#sf = df[df.date == '2019-01-01']\n",
    "# vf = df[df.sector == 'Total']\n",
    "df.date = pd.to_datetime(df.date)\n",
    "df_filt = df.groupby(['country','sector']).resample('MS',on='date').sum()    #D for Day, MS for month, QS to quarter, Y for year\n",
    "df_filt = df_filt.reset_index()\n",
    "df_filt.date = np.datetime_as_string(df_filt.date, unit='D')\n",
    "df_filt.dtypes\n"
   ]
  },
  {
   "cell_type": "markdown",
   "metadata": {},
   "source": [
    "Useful commands for geopandas\n",
    "#ar = gdf[gdf.ADMIN == 'Aruba'] #To find the country Aruba\n",
    "#print(ar.area)                 #Print area of country Aruba\n",
    "# gdf.ADMIN['Aruba']\n",
    "#counties['features'][3]['geometry'] access coordinates and type"
   ]
  },
  {
   "cell_type": "code",
   "execution_count": 2,
   "metadata": {},
   "outputs": [],
   "source": [
    "# with open(\"B:\\Documenten\\TU_Delft\\Master\\Module_1\\Python\\Assignment\\TIL6022\\countries.geojson\") as f:\n",
    "#     counties = geojson.load(f)\n",
    "# gdf = gpd.GeoDataFrame.from_features(counties[\"features\"], crs=4326)\n",
    "# mask = gdf.area >2    # Function to remove smaller countries to speed up \n",
    "# gdf_selec = gdf.loc[mask]\n",
    "# gdf_selec.head()\n",
    "# ar = gdf[gdf.ADMIN == 'China']['geometry'] # access geometry data of China\n",
    "\n",
    "#counties['features'][3]['geometry'] access coordinates and type\n",
    "#counties['features']['properties']\n",
    "with open(\"B:\\Documenten\\TU_Delft\\Master\\Module_1\\Python\\Assignment\\TIL6022\\countries_simp.geojson\") as f:\n",
    "    counties = json.load(f)\n",
    "with open(\"B:\\Documenten\\TU_Delft\\Master\\Module_1\\Python\\Assignment\\TIL6022\\countries_simp.geojson\") as f:\n",
    "    counties = json.load(f)\n",
    "# gdf = gpd.GeoDataFrame.from_features(counties[\"features\"], crs=4326)\n"
   ]
  },
  {
   "cell_type": "code",
   "execution_count": 3,
   "metadata": {},
   "outputs": [
    {
     "data": {
      "text/plain": [
       "{'type': 'Feature',\n",
       " 'geometry': None,\n",
       " 'properties': {'ADMIN': 'Aruba', 'ISO_A3': 'ABW'}}"
      ]
     },
     "execution_count": 3,
     "metadata": {},
     "output_type": "execute_result"
    }
   ],
   "source": [
    "# dept_geo = [0]*len(counties['features'])\n",
    "\n",
    "# Get data from dataset (using json.loads to transform string into dict for geoshape column)\n",
    "# cd_depts = gdf.ADMIN.tolist()\n",
    "# dept_geo[0] = counties['features'][0]['geometry']['coordinates']\n",
    "counties['features'][0]"
   ]
  },
  {
   "cell_type": "code",
   "execution_count": 40,
   "metadata": {},
   "outputs": [],
   "source": [
    "shapes = [0]*len(counties['features'])\n",
    "for feature in range(len(counties['features'])):\n",
    "  shapes[feature] = counties['features'][feature]['geometry']['coordinates']\n",
    "  # for cood in range(len(feature['geometry']['coordinates'])):\n",
    "    # shapes[cood] = feature['geometry'][cood]['coordinates']\n",
    "cd_depts = gdf.ADMIN.tolist()\n",
    "for cd_dept, shape in zip(cd_depts, shapes):\n",
    "    \n",
    "    # Mapping information from data to GeoJSON file\n",
    "    dept_geo.append({\n",
    "        'type': 'Feature',\n",
    "        'geometry': shape,\n",
    "        'id':cd_dept\n",
    "    })\n",
    "\n",
    "# Encapsulate dept_geo in a real GeoJSON formatted file\n",
    "dept_geo_ok = {'type': 'FeatureCollection', 'features': dept_geo}"
   ]
  },
  {
   "cell_type": "code",
   "execution_count": 24,
   "metadata": {},
   "outputs": [],
   "source": [
    "# import pandas as pd\n",
    "# import plotly\n",
    "# import numpy as np\n",
    "\n",
    "\n",
    "# from urllib.request import urlopen\n",
    "# import json\n",
    "# with urlopen('https://opendata.arcgis.com/datasets/c572ffec290b42768f80e43d31ac53a6_0.geojson') as response:\n",
    "#     counties = json.load(response)\n",
    "    \n",
    "# df = pd.read_excel('testdata.xlsx',dtype={\"cty19cd\": str})\n",
    "# df.columns=['CODE','NAME','VALUE']\n",
    "\n",
    "# import plotly.express as px\n",
    "\n",
    "# fig = px.choropleth(df, geojson=counties, locations='CODE', featureidkey=\"properties.cty19cd\", color='VALUE',\n",
    "#                            color_continuous_scale=\"Inferno\",\n",
    "#                             scope=\"europe\")\n",
    "\n",
    "# fig.update_geos( fitbounds=\"locations\", visible=True)\n",
    "# fig.write_html('maptest.html',auto_open=True)"
   ]
  },
  {
   "cell_type": "code",
   "execution_count": 25,
   "metadata": {},
   "outputs": [
    {
     "ename": "NameError",
     "evalue": "name 'gdf' is not defined",
     "output_type": "error",
     "traceback": [
      "\u001b[1;31m---------------------------------------------------------------------------\u001b[0m",
      "\u001b[1;31mNameError\u001b[0m                                 Traceback (most recent call last)",
      "Cell \u001b[1;32mIn [25], line 18\u001b[0m\n\u001b[0;32m     15\u001b[0m dept_geo \u001b[39m=\u001b[39m []\n\u001b[0;32m     17\u001b[0m \u001b[39m# Get data from dataset (using json.loads to transform string into dict for geoshape column)\u001b[39;00m\n\u001b[1;32m---> 18\u001b[0m cd_depts \u001b[39m=\u001b[39m gdf\u001b[39m.\u001b[39mADMIN\u001b[39m.\u001b[39mtolist()\n\u001b[0;32m     19\u001b[0m shapes \u001b[39m=\u001b[39m gdf\u001b[39m.\u001b[39mgeometry\n\u001b[0;32m     20\u001b[0m cd \u001b[39m=\u001b[39m mapping(shapes)\n",
      "\u001b[1;31mNameError\u001b[0m: name 'gdf' is not defined"
     ]
    }
   ],
   "source": [
    "# map = folium.Map(\n",
    "#     location=[\n",
    "#         gdf_selec.geometry.bounds.miny.mean(),\n",
    "#         gdf_selec.geometry.bounds.minx.mean()\n",
    "#     ],\n",
    "#     zoom_start=1\n",
    "# )\n",
    "\n",
    "# gjson = folium.features.GeoJson(\n",
    "#     gdf_selec,\n",
    "# ).add_to(map)\n",
    "# map\n",
    "\n",
    "# Encapsulate dept_geo in a real GeoJSON formatted file\n",
    "dept_geo = []\n",
    "\n",
    "# Get data from dataset (using json.loads to transform string into dict for geoshape column)\n",
    "cd_depts = gdf.ADMIN.tolist()\n",
    "shapes = gdf.geometry\n",
    "cd = mapping(shapes)\n",
    "# # Iterate over lines\n",
    "for cd_dept, shape in zip(cd_depts, shapes):\n",
    "    \n",
    "    # Mapping information from data to GeoJSON file\n",
    "    dept_geo.append({\n",
    "        'type': 'Feature',\n",
    "        'geometry': shape,\n",
    "        'id':cd_dept\n",
    "    })\n",
    "\n",
    "# Encapsulate dept_geo in a real GeoJSON formatted file\n",
    "dept_geo_ok = {'type': 'FeatureCollection', 'features': dept_geo}\n"
   ]
  },
  {
   "cell_type": "code",
   "execution_count": 6,
   "metadata": {},
   "outputs": [],
   "source": [
    "# fig = px.choropleth(vf, geojson=gdf_selec, color=\"co2\",\n",
    "#                     locations=\"ISO-A3\", featureidkey=\"properties.district\",\n",
    "#                     projection=\"mercator\"\n",
    "#                    )\n",
    "# fig.update_geos(fitbounds=\"locations\", visible=False)\n",
    "# fig.update_layout(margin={\"r\":0,\"t\":0,\"l\":0,\"b\":0})\n",
    "# fig.show()\n",
    "given_time = st.selectbox('Select time period to visualise', ['Day','Month','Quartile','Year'])\n",
    "if given_time == 'Day':\n",
    "    date_filt = 'D'\n",
    "elif given_time == 'Month':\n",
    "    date_filt = 'MS'\n",
    "elif given_time == 'Quartile':\n",
    "    date_filt = 'QS'\n",
    "elif given_time == 'Year':\n",
    "    date_filt = 'Y'\n",
    "\n",
    "given_sector = st.selectbox('Select sector to visualise', df_filt.sector.unique())\n",
    "\n",
    "default_country = int(np.where(df['country'].unique() == 'WORLD')[0])\n",
    "given_country = st.selectbox('Select country to visualise', df_filt.country.unique(), index = default_country)\n",
    "default_sector = int(np.where(df['sector'].unique() == 'Total')[0])\n",
    "given_sector = st.selectbox('Select sector to visualise', df_filt.sector.unique(), index = default_sector)\n",
    "# given_country = \"China\"\n",
    "# country_bb.country.index(given_country)\n",
    "# country_bb.country[(country_bb.country.values==given_country).any(0)]\n",
    "\n",
    "given_sector = 'International Shipping'\n",
    "given_country = 'US'\n",
    "if (given_country == 'WORLD' or given_country == 'ROW' or given_country == 'EU27 & UK'):\n",
    "    latrange = [-90,90]\n",
    "    lonrange = [-180,180]\n",
    "elif given_country == 'US':\n",
    "    given_country = 'United States'\n",
    "    given_country_bb = country_bb[country_bb.country == given_country]\n",
    "    latrange = [float(given_country_bb['latmin']),float(given_country_bb['latmax'])]\n",
    "    lonrange = [float(given_country_bb['lonmin']),float(given_country_bb['lonmax'])]\n",
    "else:\n",
    "    given_country_bb = country_bb[country_bb.country == given_country]\n",
    "    latrange = [float(given_country_bb['latmin']),float(given_country_bb['latmax'])]\n",
    "    lonrange = [float(given_country_bb['lonmin']),float(given_country_bb['lonmax'])]\n"
   ]
  },
  {
   "cell_type": "markdown",
   "metadata": {},
   "source": [
    "Write something about the zoom function and the implemenetation of geojson files and why they are not used."
   ]
  },
  {
   "cell_type": "code",
   "execution_count": 8,
   "metadata": {},
   "outputs": [
    {
     "ename": "AttributeError",
     "evalue": "'DataFrame' object has no attribute 'given_country'",
     "output_type": "error",
     "traceback": [
      "\u001b[1;31m---------------------------------------------------------------------------\u001b[0m",
      "\u001b[1;31mAttributeError\u001b[0m                            Traceback (most recent call last)",
      "Cell \u001b[1;32mIn [8], line 1\u001b[0m\n\u001b[1;32m----> 1\u001b[0m df_filt[df_filt\u001b[39m.\u001b[39;49msector \u001b[39m==\u001b[39;49m given_sector]\u001b[39m.\u001b[39;49mgiven_country\n",
      "File \u001b[1;32mc:\\Users\\timtr\\anaconda3\\envs\\TIL6022\\lib\\site-packages\\pandas\\core\\generic.py:5575\u001b[0m, in \u001b[0;36mNDFrame.__getattr__\u001b[1;34m(self, name)\u001b[0m\n\u001b[0;32m   5568\u001b[0m \u001b[39mif\u001b[39;00m (\n\u001b[0;32m   5569\u001b[0m     name \u001b[39mnot\u001b[39;00m \u001b[39min\u001b[39;00m \u001b[39mself\u001b[39m\u001b[39m.\u001b[39m_internal_names_set\n\u001b[0;32m   5570\u001b[0m     \u001b[39mand\u001b[39;00m name \u001b[39mnot\u001b[39;00m \u001b[39min\u001b[39;00m \u001b[39mself\u001b[39m\u001b[39m.\u001b[39m_metadata\n\u001b[0;32m   5571\u001b[0m     \u001b[39mand\u001b[39;00m name \u001b[39mnot\u001b[39;00m \u001b[39min\u001b[39;00m \u001b[39mself\u001b[39m\u001b[39m.\u001b[39m_accessors\n\u001b[0;32m   5572\u001b[0m     \u001b[39mand\u001b[39;00m \u001b[39mself\u001b[39m\u001b[39m.\u001b[39m_info_axis\u001b[39m.\u001b[39m_can_hold_identifiers_and_holds_name(name)\n\u001b[0;32m   5573\u001b[0m ):\n\u001b[0;32m   5574\u001b[0m     \u001b[39mreturn\u001b[39;00m \u001b[39mself\u001b[39m[name]\n\u001b[1;32m-> 5575\u001b[0m \u001b[39mreturn\u001b[39;00m \u001b[39mobject\u001b[39;49m\u001b[39m.\u001b[39;49m\u001b[39m__getattribute__\u001b[39;49m(\u001b[39mself\u001b[39;49m, name)\n",
      "\u001b[1;31mAttributeError\u001b[0m: 'DataFrame' object has no attribute 'given_country'"
     ]
    }
   ],
   "source": [
    "df_filt[df_filt.sector == given_sector].given_country"
   ]
  },
  {
   "cell_type": "code",
   "execution_count": 7,
   "metadata": {},
   "outputs": [
    {
     "data": {
      "application/vnd.plotly.v1+json": {
       "config": {
        "plotlyServerURL": "https://plot.ly"
       },
       "data": [
        {
         "coloraxis": "coloraxis",
         "geo": "geo",
         "hovertemplate": "date=2019-01-01<br>country=%{location}<br>co2=%{z}<extra></extra>",
         "locationmode": "country names",
         "locations": [
          "WORLD"
         ],
         "name": "",
         "type": "choropleth",
         "z": [
          59596.009891337446
         ]
        }
       ],
       "frames": [
        {
         "data": [
          {
           "coloraxis": "coloraxis",
           "geo": "geo",
           "hovertemplate": "date=2019-01-01<br>country=%{location}<br>co2=%{z}<extra></extra>",
           "locationmode": "country names",
           "locations": [
            "WORLD"
           ],
           "name": "",
           "type": "choropleth",
           "z": [
            59596.009891337446
           ]
          }
         ],
         "name": "2019-01-01"
        },
        {
         "data": [
          {
           "coloraxis": "coloraxis",
           "geo": "geo",
           "hovertemplate": "date=2019-02-01<br>country=%{location}<br>co2=%{z}<extra></extra>",
           "locationmode": "country names",
           "locations": [
            "WORLD"
           ],
           "name": "",
           "type": "choropleth",
           "z": [
            52616.34755567576
           ]
          }
         ],
         "name": "2019-02-01"
        },
        {
         "data": [
          {
           "coloraxis": "coloraxis",
           "geo": "geo",
           "hovertemplate": "date=2019-03-01<br>country=%{location}<br>co2=%{z}<extra></extra>",
           "locationmode": "country names",
           "locations": [
            "WORLD"
           ],
           "name": "",
           "type": "choropleth",
           "z": [
            59861.63222334533
           ]
          }
         ],
         "name": "2019-03-01"
        },
        {
         "data": [
          {
           "coloraxis": "coloraxis",
           "geo": "geo",
           "hovertemplate": "date=2019-04-01<br>country=%{location}<br>co2=%{z}<extra></extra>",
           "locationmode": "country names",
           "locations": [
            "WORLD"
           ],
           "name": "",
           "type": "choropleth",
           "z": [
            60064.32966564143
           ]
          }
         ],
         "name": "2019-04-01"
        },
        {
         "data": [
          {
           "coloraxis": "coloraxis",
           "geo": "geo",
           "hovertemplate": "date=2019-05-01<br>country=%{location}<br>co2=%{z}<extra></extra>",
           "locationmode": "country names",
           "locations": [
            "WORLD"
           ],
           "name": "",
           "type": "choropleth",
           "z": [
            63357.26882705323
           ]
          }
         ],
         "name": "2019-05-01"
        },
        {
         "data": [
          {
           "coloraxis": "coloraxis",
           "geo": "geo",
           "hovertemplate": "date=2019-06-01<br>country=%{location}<br>co2=%{z}<extra></extra>",
           "locationmode": "country names",
           "locations": [
            "WORLD"
           ],
           "name": "",
           "type": "choropleth",
           "z": [
            61670.540843987386
           ]
          }
         ],
         "name": "2019-06-01"
        },
        {
         "data": [
          {
           "coloraxis": "coloraxis",
           "geo": "geo",
           "hovertemplate": "date=2019-07-01<br>country=%{location}<br>co2=%{z}<extra></extra>",
           "locationmode": "country names",
           "locations": [
            "WORLD"
           ],
           "name": "",
           "type": "choropleth",
           "z": [
            62831.00364077353
           ]
          }
         ],
         "name": "2019-07-01"
        },
        {
         "data": [
          {
           "coloraxis": "coloraxis",
           "geo": "geo",
           "hovertemplate": "date=2019-08-01<br>country=%{location}<br>co2=%{z}<extra></extra>",
           "locationmode": "country names",
           "locations": [
            "WORLD"
           ],
           "name": "",
           "type": "choropleth",
           "z": [
            62861.07469380119
           ]
          }
         ],
         "name": "2019-08-01"
        },
        {
         "data": [
          {
           "coloraxis": "coloraxis",
           "geo": "geo",
           "hovertemplate": "date=2019-09-01<br>country=%{location}<br>co2=%{z}<extra></extra>",
           "locationmode": "country names",
           "locations": [
            "WORLD"
           ],
           "name": "",
           "type": "choropleth",
           "z": [
            60853.82999870151
           ]
          }
         ],
         "name": "2019-09-01"
        },
        {
         "data": [
          {
           "coloraxis": "coloraxis",
           "geo": "geo",
           "hovertemplate": "date=2019-10-01<br>country=%{location}<br>co2=%{z}<extra></extra>",
           "locationmode": "country names",
           "locations": [
            "WORLD"
           ],
           "name": "",
           "type": "choropleth",
           "z": [
            63696.470423061575
           ]
          }
         ],
         "name": "2019-10-01"
        },
        {
         "data": [
          {
           "coloraxis": "coloraxis",
           "geo": "geo",
           "hovertemplate": "date=2019-11-01<br>country=%{location}<br>co2=%{z}<extra></extra>",
           "locationmode": "country names",
           "locations": [
            "WORLD"
           ],
           "name": "",
           "type": "choropleth",
           "z": [
            60252.50177304911
           ]
          }
         ],
         "name": "2019-11-01"
        },
        {
         "data": [
          {
           "coloraxis": "coloraxis",
           "geo": "geo",
           "hovertemplate": "date=2019-12-01<br>country=%{location}<br>co2=%{z}<extra></extra>",
           "locationmode": "country names",
           "locations": [
            "WORLD"
           ],
           "name": "",
           "type": "choropleth",
           "z": [
            62601.54536357241
           ]
          }
         ],
         "name": "2019-12-01"
        },
        {
         "data": [
          {
           "coloraxis": "coloraxis",
           "geo": "geo",
           "hovertemplate": "date=2020-01-01<br>country=%{location}<br>co2=%{z}<extra></extra>",
           "locationmode": "country names",
           "locations": [
            "WORLD"
           ],
           "name": "",
           "type": "choropleth",
           "z": [
            61003.2924818825
           ]
          }
         ],
         "name": "2020-01-01"
        },
        {
         "data": [
          {
           "coloraxis": "coloraxis",
           "geo": "geo",
           "hovertemplate": "date=2020-02-01<br>country=%{location}<br>co2=%{z}<extra></extra>",
           "locationmode": "country names",
           "locations": [
            "WORLD"
           ],
           "name": "",
           "type": "choropleth",
           "z": [
            54403.71287248086
           ]
          }
         ],
         "name": "2020-02-01"
        },
        {
         "data": [
          {
           "coloraxis": "coloraxis",
           "geo": "geo",
           "hovertemplate": "date=2020-03-01<br>country=%{location}<br>co2=%{z}<extra></extra>",
           "locationmode": "country names",
           "locations": [
            "WORLD"
           ],
           "name": "",
           "type": "choropleth",
           "z": [
            61234.394475771565
           ]
          }
         ],
         "name": "2020-03-01"
        },
        {
         "data": [
          {
           "coloraxis": "coloraxis",
           "geo": "geo",
           "hovertemplate": "date=2020-04-01<br>country=%{location}<br>co2=%{z}<extra></extra>",
           "locationmode": "country names",
           "locations": [
            "WORLD"
           ],
           "name": "",
           "type": "choropleth",
           "z": [
            58452.22132486204
           ]
          }
         ],
         "name": "2020-04-01"
        },
        {
         "data": [
          {
           "coloraxis": "coloraxis",
           "geo": "geo",
           "hovertemplate": "date=2020-05-01<br>country=%{location}<br>co2=%{z}<extra></extra>",
           "locationmode": "country names",
           "locations": [
            "WORLD"
           ],
           "name": "",
           "type": "choropleth",
           "z": [
            57096.36644492117
           ]
          }
         ],
         "name": "2020-05-01"
        },
        {
         "data": [
          {
           "coloraxis": "coloraxis",
           "geo": "geo",
           "hovertemplate": "date=2020-06-01<br>country=%{location}<br>co2=%{z}<extra></extra>",
           "locationmode": "country names",
           "locations": [
            "WORLD"
           ],
           "name": "",
           "type": "choropleth",
           "z": [
            56878.07604126665
           ]
          }
         ],
         "name": "2020-06-01"
        },
        {
         "data": [
          {
           "coloraxis": "coloraxis",
           "geo": "geo",
           "hovertemplate": "date=2020-07-01<br>country=%{location}<br>co2=%{z}<extra></extra>",
           "locationmode": "country names",
           "locations": [
            "WORLD"
           ],
           "name": "",
           "type": "choropleth",
           "z": [
            60149.282413797955
           ]
          }
         ],
         "name": "2020-07-01"
        },
        {
         "data": [
          {
           "coloraxis": "coloraxis",
           "geo": "geo",
           "hovertemplate": "date=2020-08-01<br>country=%{location}<br>co2=%{z}<extra></extra>",
           "locationmode": "country names",
           "locations": [
            "WORLD"
           ],
           "name": "",
           "type": "choropleth",
           "z": [
            60835.20324271009
           ]
          }
         ],
         "name": "2020-08-01"
        },
        {
         "data": [
          {
           "coloraxis": "coloraxis",
           "geo": "geo",
           "hovertemplate": "date=2020-09-01<br>country=%{location}<br>co2=%{z}<extra></extra>",
           "locationmode": "country names",
           "locations": [
            "WORLD"
           ],
           "name": "",
           "type": "choropleth",
           "z": [
            58320.167462437385
           ]
          }
         ],
         "name": "2020-09-01"
        },
        {
         "data": [
          {
           "coloraxis": "coloraxis",
           "geo": "geo",
           "hovertemplate": "date=2020-10-01<br>country=%{location}<br>co2=%{z}<extra></extra>",
           "locationmode": "country names",
           "locations": [
            "WORLD"
           ],
           "name": "",
           "type": "choropleth",
           "z": [
            59781.29260259776
           ]
          }
         ],
         "name": "2020-10-01"
        },
        {
         "data": [
          {
           "coloraxis": "coloraxis",
           "geo": "geo",
           "hovertemplate": "date=2020-11-01<br>country=%{location}<br>co2=%{z}<extra></extra>",
           "locationmode": "country names",
           "locations": [
            "WORLD"
           ],
           "name": "",
           "type": "choropleth",
           "z": [
            61145.98246380449
           ]
          }
         ],
         "name": "2020-11-01"
        },
        {
         "data": [
          {
           "coloraxis": "coloraxis",
           "geo": "geo",
           "hovertemplate": "date=2020-12-01<br>country=%{location}<br>co2=%{z}<extra></extra>",
           "locationmode": "country names",
           "locations": [
            "WORLD"
           ],
           "name": "",
           "type": "choropleth",
           "z": [
            57962.189111399515
           ]
          }
         ],
         "name": "2020-12-01"
        },
        {
         "data": [
          {
           "coloraxis": "coloraxis",
           "geo": "geo",
           "hovertemplate": "date=2021-01-01<br>country=%{location}<br>co2=%{z}<extra></extra>",
           "locationmode": "country names",
           "locations": [
            "WORLD"
           ],
           "name": "",
           "type": "choropleth",
           "z": [
            53714.830281514885
           ]
          }
         ],
         "name": "2021-01-01"
        },
        {
         "data": [
          {
           "coloraxis": "coloraxis",
           "geo": "geo",
           "hovertemplate": "date=2021-02-01<br>country=%{location}<br>co2=%{z}<extra></extra>",
           "locationmode": "country names",
           "locations": [
            "WORLD"
           ],
           "name": "",
           "type": "choropleth",
           "z": [
            48969.43622105682
           ]
          }
         ],
         "name": "2021-02-01"
        },
        {
         "data": [
          {
           "coloraxis": "coloraxis",
           "geo": "geo",
           "hovertemplate": "date=2021-03-01<br>country=%{location}<br>co2=%{z}<extra></extra>",
           "locationmode": "country names",
           "locations": [
            "WORLD"
           ],
           "name": "",
           "type": "choropleth",
           "z": [
            56900.49713460529
           ]
          }
         ],
         "name": "2021-03-01"
        },
        {
         "data": [
          {
           "coloraxis": "coloraxis",
           "geo": "geo",
           "hovertemplate": "date=2021-04-01<br>country=%{location}<br>co2=%{z}<extra></extra>",
           "locationmode": "country names",
           "locations": [
            "WORLD"
           ],
           "name": "",
           "type": "choropleth",
           "z": [
            57743.78054448005
           ]
          }
         ],
         "name": "2021-04-01"
        },
        {
         "data": [
          {
           "coloraxis": "coloraxis",
           "geo": "geo",
           "hovertemplate": "date=2021-05-01<br>country=%{location}<br>co2=%{z}<extra></extra>",
           "locationmode": "country names",
           "locations": [
            "WORLD"
           ],
           "name": "",
           "type": "choropleth",
           "z": [
            59209.21423397955
           ]
          }
         ],
         "name": "2021-05-01"
        },
        {
         "data": [
          {
           "coloraxis": "coloraxis",
           "geo": "geo",
           "hovertemplate": "date=2021-06-01<br>country=%{location}<br>co2=%{z}<extra></extra>",
           "locationmode": "country names",
           "locations": [
            "WORLD"
           ],
           "name": "",
           "type": "choropleth",
           "z": [
            55555.89406358109
           ]
          }
         ],
         "name": "2021-06-01"
        },
        {
         "data": [
          {
           "coloraxis": "coloraxis",
           "geo": "geo",
           "hovertemplate": "date=2021-07-01<br>country=%{location}<br>co2=%{z}<extra></extra>",
           "locationmode": "country names",
           "locations": [
            "WORLD"
           ],
           "name": "",
           "type": "choropleth",
           "z": [
            54691.120597445355
           ]
          }
         ],
         "name": "2021-07-01"
        },
        {
         "data": [
          {
           "coloraxis": "coloraxis",
           "geo": "geo",
           "hovertemplate": "date=2021-08-01<br>country=%{location}<br>co2=%{z}<extra></extra>",
           "locationmode": "country names",
           "locations": [
            "WORLD"
           ],
           "name": "",
           "type": "choropleth",
           "z": [
            55241.280167241304
           ]
          }
         ],
         "name": "2021-08-01"
        },
        {
         "data": [
          {
           "coloraxis": "coloraxis",
           "geo": "geo",
           "hovertemplate": "date=2021-09-01<br>country=%{location}<br>co2=%{z}<extra></extra>",
           "locationmode": "country names",
           "locations": [
            "WORLD"
           ],
           "name": "",
           "type": "choropleth",
           "z": [
            53649.21000591324
           ]
          }
         ],
         "name": "2021-09-01"
        },
        {
         "data": [
          {
           "coloraxis": "coloraxis",
           "geo": "geo",
           "hovertemplate": "date=2021-10-01<br>country=%{location}<br>co2=%{z}<extra></extra>",
           "locationmode": "country names",
           "locations": [
            "WORLD"
           ],
           "name": "",
           "type": "choropleth",
           "z": [
            54799.406572110915
           ]
          }
         ],
         "name": "2021-10-01"
        },
        {
         "data": [
          {
           "coloraxis": "coloraxis",
           "geo": "geo",
           "hovertemplate": "date=2021-11-01<br>country=%{location}<br>co2=%{z}<extra></extra>",
           "locationmode": "country names",
           "locations": [
            "WORLD"
           ],
           "name": "",
           "type": "choropleth",
           "z": [
            53472.19000154129
           ]
          }
         ],
         "name": "2021-11-01"
        },
        {
         "data": [
          {
           "coloraxis": "coloraxis",
           "geo": "geo",
           "hovertemplate": "date=2021-12-01<br>country=%{location}<br>co2=%{z}<extra></extra>",
           "locationmode": "country names",
           "locations": [
            "WORLD"
           ],
           "name": "",
           "type": "choropleth",
           "z": [
            53819.94834778132
           ]
          }
         ],
         "name": "2021-12-01"
        },
        {
         "data": [
          {
           "coloraxis": "coloraxis",
           "geo": "geo",
           "hovertemplate": "date=2022-01-01<br>country=%{location}<br>co2=%{z}<extra></extra>",
           "locationmode": "country names",
           "locations": [
            "WORLD"
           ],
           "name": "",
           "type": "choropleth",
           "z": [
            53895.261979549534
           ]
          }
         ],
         "name": "2022-01-01"
        },
        {
         "data": [
          {
           "coloraxis": "coloraxis",
           "geo": "geo",
           "hovertemplate": "date=2022-02-01<br>country=%{location}<br>co2=%{z}<extra></extra>",
           "locationmode": "country names",
           "locations": [
            "WORLD"
           ],
           "name": "",
           "type": "choropleth",
           "z": [
            48001.835712705375
           ]
          }
         ],
         "name": "2022-02-01"
        },
        {
         "data": [
          {
           "coloraxis": "coloraxis",
           "geo": "geo",
           "hovertemplate": "date=2022-03-01<br>country=%{location}<br>co2=%{z}<extra></extra>",
           "locationmode": "country names",
           "locations": [
            "WORLD"
           ],
           "name": "",
           "type": "choropleth",
           "z": [
            55028.43336666311
           ]
          }
         ],
         "name": "2022-03-01"
        },
        {
         "data": [
          {
           "coloraxis": "coloraxis",
           "geo": "geo",
           "hovertemplate": "date=2022-04-01<br>country=%{location}<br>co2=%{z}<extra></extra>",
           "locationmode": "country names",
           "locations": [
            "WORLD"
           ],
           "name": "",
           "type": "choropleth",
           "z": [
            54294.3793183521
           ]
          }
         ],
         "name": "2022-04-01"
        },
        {
         "data": [
          {
           "coloraxis": "coloraxis",
           "geo": "geo",
           "hovertemplate": "date=2022-05-01<br>country=%{location}<br>co2=%{z}<extra></extra>",
           "locationmode": "country names",
           "locations": [
            "WORLD"
           ],
           "name": "",
           "type": "choropleth",
           "z": [
            59062.371023116866
           ]
          }
         ],
         "name": "2022-05-01"
        }
       ],
       "layout": {
        "coloraxis": {
         "colorbar": {
          "title": {
           "text": "co2"
          }
         },
         "colorscale": [
          [
           0,
           "#0d0887"
          ],
          [
           0.1111111111111111,
           "#46039f"
          ],
          [
           0.2222222222222222,
           "#7201a8"
          ],
          [
           0.3333333333333333,
           "#9c179e"
          ],
          [
           0.4444444444444444,
           "#bd3786"
          ],
          [
           0.5555555555555556,
           "#d8576b"
          ],
          [
           0.6666666666666666,
           "#ed7953"
          ],
          [
           0.7777777777777778,
           "#fb9f3a"
          ],
          [
           0.8888888888888888,
           "#fdca26"
          ],
          [
           1,
           "#f0f921"
          ]
         ]
        },
        "geo": {
         "center": {},
         "domain": {
          "x": [
           0,
           1
          ],
          "y": [
           0,
           1
          ]
         },
         "lataxis": {
          "range": [
           18.91619,
           71.3577635769
          ]
         },
         "lonaxis": {
          "range": [
           -171.791110603,
           -66.96466
          ]
         },
         "projection": {
          "type": "equirectangular"
         },
         "showcoastlines": true,
         "showframe": false
        },
        "height": 1000,
        "legend": {
         "tracegroupgap": 0
        },
        "margin": {
         "t": 60
        },
        "sliders": [
         {
          "active": 0,
          "currentvalue": {
           "prefix": "date="
          },
          "len": 0.9,
          "pad": {
           "b": 10,
           "t": 60
          },
          "steps": [
           {
            "args": [
             [
              "2019-01-01"
             ],
             {
              "frame": {
               "duration": 0,
               "redraw": true
              },
              "fromcurrent": true,
              "mode": "immediate",
              "transition": {
               "duration": 0,
               "easing": "linear"
              }
             }
            ],
            "label": "2019-01-01",
            "method": "animate"
           },
           {
            "args": [
             [
              "2019-02-01"
             ],
             {
              "frame": {
               "duration": 0,
               "redraw": true
              },
              "fromcurrent": true,
              "mode": "immediate",
              "transition": {
               "duration": 0,
               "easing": "linear"
              }
             }
            ],
            "label": "2019-02-01",
            "method": "animate"
           },
           {
            "args": [
             [
              "2019-03-01"
             ],
             {
              "frame": {
               "duration": 0,
               "redraw": true
              },
              "fromcurrent": true,
              "mode": "immediate",
              "transition": {
               "duration": 0,
               "easing": "linear"
              }
             }
            ],
            "label": "2019-03-01",
            "method": "animate"
           },
           {
            "args": [
             [
              "2019-04-01"
             ],
             {
              "frame": {
               "duration": 0,
               "redraw": true
              },
              "fromcurrent": true,
              "mode": "immediate",
              "transition": {
               "duration": 0,
               "easing": "linear"
              }
             }
            ],
            "label": "2019-04-01",
            "method": "animate"
           },
           {
            "args": [
             [
              "2019-05-01"
             ],
             {
              "frame": {
               "duration": 0,
               "redraw": true
              },
              "fromcurrent": true,
              "mode": "immediate",
              "transition": {
               "duration": 0,
               "easing": "linear"
              }
             }
            ],
            "label": "2019-05-01",
            "method": "animate"
           },
           {
            "args": [
             [
              "2019-06-01"
             ],
             {
              "frame": {
               "duration": 0,
               "redraw": true
              },
              "fromcurrent": true,
              "mode": "immediate",
              "transition": {
               "duration": 0,
               "easing": "linear"
              }
             }
            ],
            "label": "2019-06-01",
            "method": "animate"
           },
           {
            "args": [
             [
              "2019-07-01"
             ],
             {
              "frame": {
               "duration": 0,
               "redraw": true
              },
              "fromcurrent": true,
              "mode": "immediate",
              "transition": {
               "duration": 0,
               "easing": "linear"
              }
             }
            ],
            "label": "2019-07-01",
            "method": "animate"
           },
           {
            "args": [
             [
              "2019-08-01"
             ],
             {
              "frame": {
               "duration": 0,
               "redraw": true
              },
              "fromcurrent": true,
              "mode": "immediate",
              "transition": {
               "duration": 0,
               "easing": "linear"
              }
             }
            ],
            "label": "2019-08-01",
            "method": "animate"
           },
           {
            "args": [
             [
              "2019-09-01"
             ],
             {
              "frame": {
               "duration": 0,
               "redraw": true
              },
              "fromcurrent": true,
              "mode": "immediate",
              "transition": {
               "duration": 0,
               "easing": "linear"
              }
             }
            ],
            "label": "2019-09-01",
            "method": "animate"
           },
           {
            "args": [
             [
              "2019-10-01"
             ],
             {
              "frame": {
               "duration": 0,
               "redraw": true
              },
              "fromcurrent": true,
              "mode": "immediate",
              "transition": {
               "duration": 0,
               "easing": "linear"
              }
             }
            ],
            "label": "2019-10-01",
            "method": "animate"
           },
           {
            "args": [
             [
              "2019-11-01"
             ],
             {
              "frame": {
               "duration": 0,
               "redraw": true
              },
              "fromcurrent": true,
              "mode": "immediate",
              "transition": {
               "duration": 0,
               "easing": "linear"
              }
             }
            ],
            "label": "2019-11-01",
            "method": "animate"
           },
           {
            "args": [
             [
              "2019-12-01"
             ],
             {
              "frame": {
               "duration": 0,
               "redraw": true
              },
              "fromcurrent": true,
              "mode": "immediate",
              "transition": {
               "duration": 0,
               "easing": "linear"
              }
             }
            ],
            "label": "2019-12-01",
            "method": "animate"
           },
           {
            "args": [
             [
              "2020-01-01"
             ],
             {
              "frame": {
               "duration": 0,
               "redraw": true
              },
              "fromcurrent": true,
              "mode": "immediate",
              "transition": {
               "duration": 0,
               "easing": "linear"
              }
             }
            ],
            "label": "2020-01-01",
            "method": "animate"
           },
           {
            "args": [
             [
              "2020-02-01"
             ],
             {
              "frame": {
               "duration": 0,
               "redraw": true
              },
              "fromcurrent": true,
              "mode": "immediate",
              "transition": {
               "duration": 0,
               "easing": "linear"
              }
             }
            ],
            "label": "2020-02-01",
            "method": "animate"
           },
           {
            "args": [
             [
              "2020-03-01"
             ],
             {
              "frame": {
               "duration": 0,
               "redraw": true
              },
              "fromcurrent": true,
              "mode": "immediate",
              "transition": {
               "duration": 0,
               "easing": "linear"
              }
             }
            ],
            "label": "2020-03-01",
            "method": "animate"
           },
           {
            "args": [
             [
              "2020-04-01"
             ],
             {
              "frame": {
               "duration": 0,
               "redraw": true
              },
              "fromcurrent": true,
              "mode": "immediate",
              "transition": {
               "duration": 0,
               "easing": "linear"
              }
             }
            ],
            "label": "2020-04-01",
            "method": "animate"
           },
           {
            "args": [
             [
              "2020-05-01"
             ],
             {
              "frame": {
               "duration": 0,
               "redraw": true
              },
              "fromcurrent": true,
              "mode": "immediate",
              "transition": {
               "duration": 0,
               "easing": "linear"
              }
             }
            ],
            "label": "2020-05-01",
            "method": "animate"
           },
           {
            "args": [
             [
              "2020-06-01"
             ],
             {
              "frame": {
               "duration": 0,
               "redraw": true
              },
              "fromcurrent": true,
              "mode": "immediate",
              "transition": {
               "duration": 0,
               "easing": "linear"
              }
             }
            ],
            "label": "2020-06-01",
            "method": "animate"
           },
           {
            "args": [
             [
              "2020-07-01"
             ],
             {
              "frame": {
               "duration": 0,
               "redraw": true
              },
              "fromcurrent": true,
              "mode": "immediate",
              "transition": {
               "duration": 0,
               "easing": "linear"
              }
             }
            ],
            "label": "2020-07-01",
            "method": "animate"
           },
           {
            "args": [
             [
              "2020-08-01"
             ],
             {
              "frame": {
               "duration": 0,
               "redraw": true
              },
              "fromcurrent": true,
              "mode": "immediate",
              "transition": {
               "duration": 0,
               "easing": "linear"
              }
             }
            ],
            "label": "2020-08-01",
            "method": "animate"
           },
           {
            "args": [
             [
              "2020-09-01"
             ],
             {
              "frame": {
               "duration": 0,
               "redraw": true
              },
              "fromcurrent": true,
              "mode": "immediate",
              "transition": {
               "duration": 0,
               "easing": "linear"
              }
             }
            ],
            "label": "2020-09-01",
            "method": "animate"
           },
           {
            "args": [
             [
              "2020-10-01"
             ],
             {
              "frame": {
               "duration": 0,
               "redraw": true
              },
              "fromcurrent": true,
              "mode": "immediate",
              "transition": {
               "duration": 0,
               "easing": "linear"
              }
             }
            ],
            "label": "2020-10-01",
            "method": "animate"
           },
           {
            "args": [
             [
              "2020-11-01"
             ],
             {
              "frame": {
               "duration": 0,
               "redraw": true
              },
              "fromcurrent": true,
              "mode": "immediate",
              "transition": {
               "duration": 0,
               "easing": "linear"
              }
             }
            ],
            "label": "2020-11-01",
            "method": "animate"
           },
           {
            "args": [
             [
              "2020-12-01"
             ],
             {
              "frame": {
               "duration": 0,
               "redraw": true
              },
              "fromcurrent": true,
              "mode": "immediate",
              "transition": {
               "duration": 0,
               "easing": "linear"
              }
             }
            ],
            "label": "2020-12-01",
            "method": "animate"
           },
           {
            "args": [
             [
              "2021-01-01"
             ],
             {
              "frame": {
               "duration": 0,
               "redraw": true
              },
              "fromcurrent": true,
              "mode": "immediate",
              "transition": {
               "duration": 0,
               "easing": "linear"
              }
             }
            ],
            "label": "2021-01-01",
            "method": "animate"
           },
           {
            "args": [
             [
              "2021-02-01"
             ],
             {
              "frame": {
               "duration": 0,
               "redraw": true
              },
              "fromcurrent": true,
              "mode": "immediate",
              "transition": {
               "duration": 0,
               "easing": "linear"
              }
             }
            ],
            "label": "2021-02-01",
            "method": "animate"
           },
           {
            "args": [
             [
              "2021-03-01"
             ],
             {
              "frame": {
               "duration": 0,
               "redraw": true
              },
              "fromcurrent": true,
              "mode": "immediate",
              "transition": {
               "duration": 0,
               "easing": "linear"
              }
             }
            ],
            "label": "2021-03-01",
            "method": "animate"
           },
           {
            "args": [
             [
              "2021-04-01"
             ],
             {
              "frame": {
               "duration": 0,
               "redraw": true
              },
              "fromcurrent": true,
              "mode": "immediate",
              "transition": {
               "duration": 0,
               "easing": "linear"
              }
             }
            ],
            "label": "2021-04-01",
            "method": "animate"
           },
           {
            "args": [
             [
              "2021-05-01"
             ],
             {
              "frame": {
               "duration": 0,
               "redraw": true
              },
              "fromcurrent": true,
              "mode": "immediate",
              "transition": {
               "duration": 0,
               "easing": "linear"
              }
             }
            ],
            "label": "2021-05-01",
            "method": "animate"
           },
           {
            "args": [
             [
              "2021-06-01"
             ],
             {
              "frame": {
               "duration": 0,
               "redraw": true
              },
              "fromcurrent": true,
              "mode": "immediate",
              "transition": {
               "duration": 0,
               "easing": "linear"
              }
             }
            ],
            "label": "2021-06-01",
            "method": "animate"
           },
           {
            "args": [
             [
              "2021-07-01"
             ],
             {
              "frame": {
               "duration": 0,
               "redraw": true
              },
              "fromcurrent": true,
              "mode": "immediate",
              "transition": {
               "duration": 0,
               "easing": "linear"
              }
             }
            ],
            "label": "2021-07-01",
            "method": "animate"
           },
           {
            "args": [
             [
              "2021-08-01"
             ],
             {
              "frame": {
               "duration": 0,
               "redraw": true
              },
              "fromcurrent": true,
              "mode": "immediate",
              "transition": {
               "duration": 0,
               "easing": "linear"
              }
             }
            ],
            "label": "2021-08-01",
            "method": "animate"
           },
           {
            "args": [
             [
              "2021-09-01"
             ],
             {
              "frame": {
               "duration": 0,
               "redraw": true
              },
              "fromcurrent": true,
              "mode": "immediate",
              "transition": {
               "duration": 0,
               "easing": "linear"
              }
             }
            ],
            "label": "2021-09-01",
            "method": "animate"
           },
           {
            "args": [
             [
              "2021-10-01"
             ],
             {
              "frame": {
               "duration": 0,
               "redraw": true
              },
              "fromcurrent": true,
              "mode": "immediate",
              "transition": {
               "duration": 0,
               "easing": "linear"
              }
             }
            ],
            "label": "2021-10-01",
            "method": "animate"
           },
           {
            "args": [
             [
              "2021-11-01"
             ],
             {
              "frame": {
               "duration": 0,
               "redraw": true
              },
              "fromcurrent": true,
              "mode": "immediate",
              "transition": {
               "duration": 0,
               "easing": "linear"
              }
             }
            ],
            "label": "2021-11-01",
            "method": "animate"
           },
           {
            "args": [
             [
              "2021-12-01"
             ],
             {
              "frame": {
               "duration": 0,
               "redraw": true
              },
              "fromcurrent": true,
              "mode": "immediate",
              "transition": {
               "duration": 0,
               "easing": "linear"
              }
             }
            ],
            "label": "2021-12-01",
            "method": "animate"
           },
           {
            "args": [
             [
              "2022-01-01"
             ],
             {
              "frame": {
               "duration": 0,
               "redraw": true
              },
              "fromcurrent": true,
              "mode": "immediate",
              "transition": {
               "duration": 0,
               "easing": "linear"
              }
             }
            ],
            "label": "2022-01-01",
            "method": "animate"
           },
           {
            "args": [
             [
              "2022-02-01"
             ],
             {
              "frame": {
               "duration": 0,
               "redraw": true
              },
              "fromcurrent": true,
              "mode": "immediate",
              "transition": {
               "duration": 0,
               "easing": "linear"
              }
             }
            ],
            "label": "2022-02-01",
            "method": "animate"
           },
           {
            "args": [
             [
              "2022-03-01"
             ],
             {
              "frame": {
               "duration": 0,
               "redraw": true
              },
              "fromcurrent": true,
              "mode": "immediate",
              "transition": {
               "duration": 0,
               "easing": "linear"
              }
             }
            ],
            "label": "2022-03-01",
            "method": "animate"
           },
           {
            "args": [
             [
              "2022-04-01"
             ],
             {
              "frame": {
               "duration": 0,
               "redraw": true
              },
              "fromcurrent": true,
              "mode": "immediate",
              "transition": {
               "duration": 0,
               "easing": "linear"
              }
             }
            ],
            "label": "2022-04-01",
            "method": "animate"
           },
           {
            "args": [
             [
              "2022-05-01"
             ],
             {
              "frame": {
               "duration": 0,
               "redraw": true
              },
              "fromcurrent": true,
              "mode": "immediate",
              "transition": {
               "duration": 0,
               "easing": "linear"
              }
             }
            ],
            "label": "2022-05-01",
            "method": "animate"
           }
          ],
          "x": 0.1,
          "xanchor": "left",
          "y": 0,
          "yanchor": "top"
         }
        ],
        "template": {
         "data": {
          "bar": [
           {
            "error_x": {
             "color": "#2a3f5f"
            },
            "error_y": {
             "color": "#2a3f5f"
            },
            "marker": {
             "line": {
              "color": "#E5ECF6",
              "width": 0.5
             },
             "pattern": {
              "fillmode": "overlay",
              "size": 10,
              "solidity": 0.2
             }
            },
            "type": "bar"
           }
          ],
          "barpolar": [
           {
            "marker": {
             "line": {
              "color": "#E5ECF6",
              "width": 0.5
             },
             "pattern": {
              "fillmode": "overlay",
              "size": 10,
              "solidity": 0.2
             }
            },
            "type": "barpolar"
           }
          ],
          "carpet": [
           {
            "aaxis": {
             "endlinecolor": "#2a3f5f",
             "gridcolor": "white",
             "linecolor": "white",
             "minorgridcolor": "white",
             "startlinecolor": "#2a3f5f"
            },
            "baxis": {
             "endlinecolor": "#2a3f5f",
             "gridcolor": "white",
             "linecolor": "white",
             "minorgridcolor": "white",
             "startlinecolor": "#2a3f5f"
            },
            "type": "carpet"
           }
          ],
          "choropleth": [
           {
            "colorbar": {
             "outlinewidth": 0,
             "ticks": ""
            },
            "type": "choropleth"
           }
          ],
          "contour": [
           {
            "colorbar": {
             "outlinewidth": 0,
             "ticks": ""
            },
            "colorscale": [
             [
              0,
              "#0d0887"
             ],
             [
              0.1111111111111111,
              "#46039f"
             ],
             [
              0.2222222222222222,
              "#7201a8"
             ],
             [
              0.3333333333333333,
              "#9c179e"
             ],
             [
              0.4444444444444444,
              "#bd3786"
             ],
             [
              0.5555555555555556,
              "#d8576b"
             ],
             [
              0.6666666666666666,
              "#ed7953"
             ],
             [
              0.7777777777777778,
              "#fb9f3a"
             ],
             [
              0.8888888888888888,
              "#fdca26"
             ],
             [
              1,
              "#f0f921"
             ]
            ],
            "type": "contour"
           }
          ],
          "contourcarpet": [
           {
            "colorbar": {
             "outlinewidth": 0,
             "ticks": ""
            },
            "type": "contourcarpet"
           }
          ],
          "heatmap": [
           {
            "colorbar": {
             "outlinewidth": 0,
             "ticks": ""
            },
            "colorscale": [
             [
              0,
              "#0d0887"
             ],
             [
              0.1111111111111111,
              "#46039f"
             ],
             [
              0.2222222222222222,
              "#7201a8"
             ],
             [
              0.3333333333333333,
              "#9c179e"
             ],
             [
              0.4444444444444444,
              "#bd3786"
             ],
             [
              0.5555555555555556,
              "#d8576b"
             ],
             [
              0.6666666666666666,
              "#ed7953"
             ],
             [
              0.7777777777777778,
              "#fb9f3a"
             ],
             [
              0.8888888888888888,
              "#fdca26"
             ],
             [
              1,
              "#f0f921"
             ]
            ],
            "type": "heatmap"
           }
          ],
          "heatmapgl": [
           {
            "colorbar": {
             "outlinewidth": 0,
             "ticks": ""
            },
            "colorscale": [
             [
              0,
              "#0d0887"
             ],
             [
              0.1111111111111111,
              "#46039f"
             ],
             [
              0.2222222222222222,
              "#7201a8"
             ],
             [
              0.3333333333333333,
              "#9c179e"
             ],
             [
              0.4444444444444444,
              "#bd3786"
             ],
             [
              0.5555555555555556,
              "#d8576b"
             ],
             [
              0.6666666666666666,
              "#ed7953"
             ],
             [
              0.7777777777777778,
              "#fb9f3a"
             ],
             [
              0.8888888888888888,
              "#fdca26"
             ],
             [
              1,
              "#f0f921"
             ]
            ],
            "type": "heatmapgl"
           }
          ],
          "histogram": [
           {
            "marker": {
             "pattern": {
              "fillmode": "overlay",
              "size": 10,
              "solidity": 0.2
             }
            },
            "type": "histogram"
           }
          ],
          "histogram2d": [
           {
            "colorbar": {
             "outlinewidth": 0,
             "ticks": ""
            },
            "colorscale": [
             [
              0,
              "#0d0887"
             ],
             [
              0.1111111111111111,
              "#46039f"
             ],
             [
              0.2222222222222222,
              "#7201a8"
             ],
             [
              0.3333333333333333,
              "#9c179e"
             ],
             [
              0.4444444444444444,
              "#bd3786"
             ],
             [
              0.5555555555555556,
              "#d8576b"
             ],
             [
              0.6666666666666666,
              "#ed7953"
             ],
             [
              0.7777777777777778,
              "#fb9f3a"
             ],
             [
              0.8888888888888888,
              "#fdca26"
             ],
             [
              1,
              "#f0f921"
             ]
            ],
            "type": "histogram2d"
           }
          ],
          "histogram2dcontour": [
           {
            "colorbar": {
             "outlinewidth": 0,
             "ticks": ""
            },
            "colorscale": [
             [
              0,
              "#0d0887"
             ],
             [
              0.1111111111111111,
              "#46039f"
             ],
             [
              0.2222222222222222,
              "#7201a8"
             ],
             [
              0.3333333333333333,
              "#9c179e"
             ],
             [
              0.4444444444444444,
              "#bd3786"
             ],
             [
              0.5555555555555556,
              "#d8576b"
             ],
             [
              0.6666666666666666,
              "#ed7953"
             ],
             [
              0.7777777777777778,
              "#fb9f3a"
             ],
             [
              0.8888888888888888,
              "#fdca26"
             ],
             [
              1,
              "#f0f921"
             ]
            ],
            "type": "histogram2dcontour"
           }
          ],
          "mesh3d": [
           {
            "colorbar": {
             "outlinewidth": 0,
             "ticks": ""
            },
            "type": "mesh3d"
           }
          ],
          "parcoords": [
           {
            "line": {
             "colorbar": {
              "outlinewidth": 0,
              "ticks": ""
             }
            },
            "type": "parcoords"
           }
          ],
          "pie": [
           {
            "automargin": true,
            "type": "pie"
           }
          ],
          "scatter": [
           {
            "fillpattern": {
             "fillmode": "overlay",
             "size": 10,
             "solidity": 0.2
            },
            "type": "scatter"
           }
          ],
          "scatter3d": [
           {
            "line": {
             "colorbar": {
              "outlinewidth": 0,
              "ticks": ""
             }
            },
            "marker": {
             "colorbar": {
              "outlinewidth": 0,
              "ticks": ""
             }
            },
            "type": "scatter3d"
           }
          ],
          "scattercarpet": [
           {
            "marker": {
             "colorbar": {
              "outlinewidth": 0,
              "ticks": ""
             }
            },
            "type": "scattercarpet"
           }
          ],
          "scattergeo": [
           {
            "marker": {
             "colorbar": {
              "outlinewidth": 0,
              "ticks": ""
             }
            },
            "type": "scattergeo"
           }
          ],
          "scattergl": [
           {
            "marker": {
             "colorbar": {
              "outlinewidth": 0,
              "ticks": ""
             }
            },
            "type": "scattergl"
           }
          ],
          "scattermapbox": [
           {
            "marker": {
             "colorbar": {
              "outlinewidth": 0,
              "ticks": ""
             }
            },
            "type": "scattermapbox"
           }
          ],
          "scatterpolar": [
           {
            "marker": {
             "colorbar": {
              "outlinewidth": 0,
              "ticks": ""
             }
            },
            "type": "scatterpolar"
           }
          ],
          "scatterpolargl": [
           {
            "marker": {
             "colorbar": {
              "outlinewidth": 0,
              "ticks": ""
             }
            },
            "type": "scatterpolargl"
           }
          ],
          "scatterternary": [
           {
            "marker": {
             "colorbar": {
              "outlinewidth": 0,
              "ticks": ""
             }
            },
            "type": "scatterternary"
           }
          ],
          "surface": [
           {
            "colorbar": {
             "outlinewidth": 0,
             "ticks": ""
            },
            "colorscale": [
             [
              0,
              "#0d0887"
             ],
             [
              0.1111111111111111,
              "#46039f"
             ],
             [
              0.2222222222222222,
              "#7201a8"
             ],
             [
              0.3333333333333333,
              "#9c179e"
             ],
             [
              0.4444444444444444,
              "#bd3786"
             ],
             [
              0.5555555555555556,
              "#d8576b"
             ],
             [
              0.6666666666666666,
              "#ed7953"
             ],
             [
              0.7777777777777778,
              "#fb9f3a"
             ],
             [
              0.8888888888888888,
              "#fdca26"
             ],
             [
              1,
              "#f0f921"
             ]
            ],
            "type": "surface"
           }
          ],
          "table": [
           {
            "cells": {
             "fill": {
              "color": "#EBF0F8"
             },
             "line": {
              "color": "white"
             }
            },
            "header": {
             "fill": {
              "color": "#C8D4E3"
             },
             "line": {
              "color": "white"
             }
            },
            "type": "table"
           }
          ]
         },
         "layout": {
          "annotationdefaults": {
           "arrowcolor": "#2a3f5f",
           "arrowhead": 0,
           "arrowwidth": 1
          },
          "autotypenumbers": "strict",
          "coloraxis": {
           "colorbar": {
            "outlinewidth": 0,
            "ticks": ""
           }
          },
          "colorscale": {
           "diverging": [
            [
             0,
             "#8e0152"
            ],
            [
             0.1,
             "#c51b7d"
            ],
            [
             0.2,
             "#de77ae"
            ],
            [
             0.3,
             "#f1b6da"
            ],
            [
             0.4,
             "#fde0ef"
            ],
            [
             0.5,
             "#f7f7f7"
            ],
            [
             0.6,
             "#e6f5d0"
            ],
            [
             0.7,
             "#b8e186"
            ],
            [
             0.8,
             "#7fbc41"
            ],
            [
             0.9,
             "#4d9221"
            ],
            [
             1,
             "#276419"
            ]
           ],
           "sequential": [
            [
             0,
             "#0d0887"
            ],
            [
             0.1111111111111111,
             "#46039f"
            ],
            [
             0.2222222222222222,
             "#7201a8"
            ],
            [
             0.3333333333333333,
             "#9c179e"
            ],
            [
             0.4444444444444444,
             "#bd3786"
            ],
            [
             0.5555555555555556,
             "#d8576b"
            ],
            [
             0.6666666666666666,
             "#ed7953"
            ],
            [
             0.7777777777777778,
             "#fb9f3a"
            ],
            [
             0.8888888888888888,
             "#fdca26"
            ],
            [
             1,
             "#f0f921"
            ]
           ],
           "sequentialminus": [
            [
             0,
             "#0d0887"
            ],
            [
             0.1111111111111111,
             "#46039f"
            ],
            [
             0.2222222222222222,
             "#7201a8"
            ],
            [
             0.3333333333333333,
             "#9c179e"
            ],
            [
             0.4444444444444444,
             "#bd3786"
            ],
            [
             0.5555555555555556,
             "#d8576b"
            ],
            [
             0.6666666666666666,
             "#ed7953"
            ],
            [
             0.7777777777777778,
             "#fb9f3a"
            ],
            [
             0.8888888888888888,
             "#fdca26"
            ],
            [
             1,
             "#f0f921"
            ]
           ]
          },
          "colorway": [
           "#636efa",
           "#EF553B",
           "#00cc96",
           "#ab63fa",
           "#FFA15A",
           "#19d3f3",
           "#FF6692",
           "#B6E880",
           "#FF97FF",
           "#FECB52"
          ],
          "font": {
           "color": "#2a3f5f"
          },
          "geo": {
           "bgcolor": "white",
           "lakecolor": "white",
           "landcolor": "#E5ECF6",
           "showlakes": true,
           "showland": true,
           "subunitcolor": "white"
          },
          "hoverlabel": {
           "align": "left"
          },
          "hovermode": "closest",
          "mapbox": {
           "style": "light"
          },
          "paper_bgcolor": "white",
          "plot_bgcolor": "#E5ECF6",
          "polar": {
           "angularaxis": {
            "gridcolor": "white",
            "linecolor": "white",
            "ticks": ""
           },
           "bgcolor": "#E5ECF6",
           "radialaxis": {
            "gridcolor": "white",
            "linecolor": "white",
            "ticks": ""
           }
          },
          "scene": {
           "xaxis": {
            "backgroundcolor": "#E5ECF6",
            "gridcolor": "white",
            "gridwidth": 2,
            "linecolor": "white",
            "showbackground": true,
            "ticks": "",
            "zerolinecolor": "white"
           },
           "yaxis": {
            "backgroundcolor": "#E5ECF6",
            "gridcolor": "white",
            "gridwidth": 2,
            "linecolor": "white",
            "showbackground": true,
            "ticks": "",
            "zerolinecolor": "white"
           },
           "zaxis": {
            "backgroundcolor": "#E5ECF6",
            "gridcolor": "white",
            "gridwidth": 2,
            "linecolor": "white",
            "showbackground": true,
            "ticks": "",
            "zerolinecolor": "white"
           }
          },
          "shapedefaults": {
           "line": {
            "color": "#2a3f5f"
           }
          },
          "ternary": {
           "aaxis": {
            "gridcolor": "white",
            "linecolor": "white",
            "ticks": ""
           },
           "baxis": {
            "gridcolor": "white",
            "linecolor": "white",
            "ticks": ""
           },
           "bgcolor": "#E5ECF6",
           "caxis": {
            "gridcolor": "white",
            "linecolor": "white",
            "ticks": ""
           }
          },
          "title": {
           "x": 0.05
          },
          "xaxis": {
           "automargin": true,
           "gridcolor": "white",
           "linecolor": "white",
           "ticks": "",
           "title": {
            "standoff": 15
           },
           "zerolinecolor": "white",
           "zerolinewidth": 2
          },
          "yaxis": {
           "automargin": true,
           "gridcolor": "white",
           "linecolor": "white",
           "ticks": "",
           "title": {
            "standoff": 15
           },
           "zerolinecolor": "white",
           "zerolinewidth": 2
          }
         }
        },
        "title": {
         "text": "CO2 emmissions transport sector"
        },
        "updatemenus": [
         {
          "buttons": [
           {
            "args": [
             null,
             {
              "frame": {
               "duration": 500,
               "redraw": true
              },
              "fromcurrent": true,
              "mode": "immediate",
              "transition": {
               "duration": 500,
               "easing": "linear"
              }
             }
            ],
            "label": "&#9654;",
            "method": "animate"
           },
           {
            "args": [
             [
              null
             ],
             {
              "frame": {
               "duration": 0,
               "redraw": true
              },
              "fromcurrent": true,
              "mode": "immediate",
              "transition": {
               "duration": 0,
               "easing": "linear"
              }
             }
            ],
            "label": "&#9724;",
            "method": "animate"
           }
          ],
          "direction": "left",
          "pad": {
           "r": 10,
           "t": 70
          },
          "showactive": false,
          "type": "buttons",
          "x": 0.1,
          "xanchor": "right",
          "y": 0,
          "yanchor": "top"
         }
        ],
        "width": 1080
       }
      }
     },
     "metadata": {},
     "output_type": "display_data"
    }
   ],
   "source": [
    "\n",
    "fig = px.choropleth(df_filt[df_filt.sector == given_sector], \n",
    "                    # geojson= counties,\n",
    "                    # featureidkey='ISO_A3',\n",
    "                    locations= 'country',\n",
    "                    locationmode= \"country names\",\n",
    "                    color='co2',\n",
    "                    #hover_name=\"country\",\n",
    "                    animation_frame= 'date'\n",
    "                    #zoom=2,\n",
    ")\n",
    "fig.update_geos(lataxis_range=latrange, lonaxis_range=lonrange)  \n",
    "fig.update_layout(\n",
    "    title_text = \"CO2 emmissions transport sector\",\n",
    "    geo = dict(\n",
    "        showframe = False,\n",
    "        showcoastlines = True,\n",
    "        projection_type = \"equirectangular\",\n",
    "    ),\n",
    "    \n",
    "                    #color_continuous_scale=\"Blues_r\n",
    "    height=1000,\n",
    "    width  = 1080\n",
    "    #margin={\"r\":0,\"t\":0,\"l\":0,\"b\":0},\n",
    ")\n",
    "\n",
    "fig.show()"
   ]
  },
  {
   "cell_type": "code",
   "execution_count": 14,
   "metadata": {},
   "outputs": [
    {
     "name": "stderr",
     "output_type": "stream",
     "text": [
      "C:\\Users\\timtr\\AppData\\Local\\Temp\\ipykernel_28824\\1579841447.py:49: SettingWithCopyWarning:\n",
      "\n",
      "\n",
      "A value is trying to be set on a copy of a slice from a DataFrame.\n",
      "Try using .loc[row_indexer,col_indexer] = value instead\n",
      "\n",
      "See the caveats in the documentation: https://pandas.pydata.org/pandas-docs/stable/user_guide/indexing.html#returning-a-view-versus-a-copy\n",
      "\n",
      "C:\\Users\\timtr\\AppData\\Local\\Temp\\ipykernel_28824\\1579841447.py:49: SettingWithCopyWarning:\n",
      "\n",
      "\n",
      "A value is trying to be set on a copy of a slice from a DataFrame.\n",
      "Try using .loc[row_indexer,col_indexer] = value instead\n",
      "\n",
      "See the caveats in the documentation: https://pandas.pydata.org/pandas-docs/stable/user_guide/indexing.html#returning-a-view-versus-a-copy\n",
      "\n",
      "C:\\Users\\timtr\\AppData\\Local\\Temp\\ipykernel_28824\\1579841447.py:49: SettingWithCopyWarning:\n",
      "\n",
      "\n",
      "A value is trying to be set on a copy of a slice from a DataFrame.\n",
      "Try using .loc[row_indexer,col_indexer] = value instead\n",
      "\n",
      "See the caveats in the documentation: https://pandas.pydata.org/pandas-docs/stable/user_guide/indexing.html#returning-a-view-versus-a-copy\n",
      "\n",
      "C:\\Users\\timtr\\AppData\\Local\\Temp\\ipykernel_28824\\1579841447.py:50: SettingWithCopyWarning:\n",
      "\n",
      "\n",
      "A value is trying to be set on a copy of a slice from a DataFrame.\n",
      "Try using .loc[row_indexer,col_indexer] = value instead\n",
      "\n",
      "See the caveats in the documentation: https://pandas.pydata.org/pandas-docs/stable/user_guide/indexing.html#returning-a-view-versus-a-copy\n",
      "\n"
     ]
    },
    {
     "data": {
      "application/vnd.plotly.v1+json": {
       "config": {
        "plotlyServerURL": "https://plot.ly"
       },
       "data": [
        {
         "name": "UK2019",
         "type": "scatter",
         "visible": false,
         "x": [
          "2019-01-01",
          "2019-02-01",
          "2019-03-01",
          "2019-04-01",
          "2019-05-01",
          "2019-06-01",
          "2019-07-01",
          "2019-08-01",
          "2019-09-01",
          "2019-10-01",
          "2019-11-01",
          "2019-12-01"
         ],
         "xaxis": "x",
         "y": [
          12250.63877070248,
          11472.078599487952,
          12665.424864360653,
          12387.226815910113,
          13130.465703232801,
          12756.382897403897,
          13301.260862433206,
          13267.598175401261,
          12627.039835021973,
          13101.797497409512,
          12751.09469588467,
          12640.24501833273
         ],
         "yaxis": "y"
        },
        {
         "name": "International AviationUK2019",
         "type": "scatter",
         "visible": false,
         "x": [
          "2019-01-01",
          "2019-02-01",
          "2019-03-01",
          "2019-04-01",
          "2019-05-01",
          "2019-06-01",
          "2019-07-01",
          "2019-08-01",
          "2019-09-01",
          "2019-10-01",
          "2019-11-01",
          "2019-12-01"
         ],
         "xaxis": "x2",
         "y": [
          2563.6397151187202,
          2406.3446041190487,
          2738.007426409573,
          2962.329545210556,
          3284.205049946879,
          3438.6213961393987,
          3573.154454865436,
          3563.91956327997,
          3316.6628589324023,
          3124.8768813329525,
          2500.465695123012,
          2663.323229103427
         ],
         "yaxis": "y2"
        },
        {
         "name": "Domestic AviationUK2019",
         "type": "scatter",
         "visible": false,
         "x": [
          "2019-01-01",
          "2019-02-01",
          "2019-03-01",
          "2019-04-01",
          "2019-05-01",
          "2019-06-01",
          "2019-07-01",
          "2019-08-01",
          "2019-09-01",
          "2019-10-01",
          "2019-11-01",
          "2019-12-01"
         ],
         "xaxis": "x3",
         "y": [
          180.15168216363995,
          174.4162150407279,
          198.77591149782904,
          205.2520333223381,
          219.9459748479561,
          206.54242590347752,
          215.10705314672998,
          212.19797670346796,
          206.45574172963822,
          215.65225861843726,
          191.89401125909905,
          185.4182317666602
         ],
         "yaxis": "y3"
        },
        {
         "name": "Ground TransportUK2019",
         "type": "scatter",
         "visible": false,
         "x": [
          "2019-01-01",
          "2019-02-01",
          "2019-03-01",
          "2019-04-01",
          "2019-05-01",
          "2019-06-01",
          "2019-07-01",
          "2019-08-01",
          "2019-09-01",
          "2019-10-01",
          "2019-11-01",
          "2019-12-01"
         ],
         "xaxis": "x4",
         "y": [
          9506.84737342012,
          8891.317780328174,
          9728.641526453252,
          9219.645237377219,
          9626.314678437966,
          9111.219075361021,
          9512.99935442104,
          9491.480635417824,
          9103.921234359932,
          9761.268357458124,
          10058.73498950256,
          9791.503557462642
         ],
         "yaxis": "y4"
        },
        {
         "name": "UK2020",
         "type": "scatter",
         "visible": false,
         "x": [
          "2019-01-01",
          "2019-02-01",
          "2019-03-01",
          "2019-04-01",
          "2019-05-01",
          "2019-06-01",
          "2019-07-01",
          "2019-08-01",
          "2019-09-01",
          "2019-10-01",
          "2019-11-01",
          "2019-12-01"
         ],
         "xaxis": "x",
         "y": [
          12683.034550275563,
          12091.815339371367,
          10483.149462172792,
          5904.755430427982,
          7166.341578111389,
          8688.3533377038,
          10159.421368062593,
          10813.37124584126,
          10787.492021833583,
          10883.691157831536,
          9907.154072848167,
          10585.185877190765
         ],
         "yaxis": "y"
        },
        {
         "name": "International AviationUK2020",
         "type": "scatter",
         "visible": false,
         "x": [
          "2019-01-01",
          "2019-02-01",
          "2019-03-01",
          "2019-04-01",
          "2019-05-01",
          "2019-06-01",
          "2019-07-01",
          "2019-08-01",
          "2019-09-01",
          "2019-10-01",
          "2019-11-01",
          "2019-12-01"
         ],
         "xaxis": "x2",
         "y": [
          2531.811964345246,
          2400.0107472414334,
          1845.3260520631193,
          329.13523834114596,
          475.3762067967001,
          542.5226070639947,
          957.2435954424814,
          1381.283593232807,
          1318.3805258258412,
          1188.3378379084572,
          860.2094908094115,
          997.8325242486799
         ],
         "yaxis": "y2"
        },
        {
         "name": "Domestic AviationUK2020",
         "type": "scatter",
         "visible": false,
         "x": [
          "2019-01-01",
          "2019-02-01",
          "2019-03-01",
          "2019-04-01",
          "2019-05-01",
          "2019-06-01",
          "2019-07-01",
          "2019-08-01",
          "2019-09-01",
          "2019-10-01",
          "2019-11-01",
          "2019-12-01"
         ],
         "xaxis": "x3",
         "y": [
          176.51541344030818,
          171.6147507078206,
          120.15771583731559,
          19.615777256887657,
          23.884449318769615,
          35.36321442827432,
          70.5345042560392,
          89.49792921286857,
          104.68040860889333,
          99.33781148963877,
          57.8819726959802,
          69.58766452033566
         ],
         "yaxis": "y3"
        },
        {
         "name": "Ground TransportUK2020",
         "type": "scatter",
         "visible": false,
         "x": [
          "2019-01-01",
          "2019-02-01",
          "2019-03-01",
          "2019-04-01",
          "2019-05-01",
          "2019-06-01",
          "2019-07-01",
          "2019-08-01",
          "2019-09-01",
          "2019-10-01",
          "2019-11-01",
          "2019-12-01"
         ],
         "xaxis": "x4",
         "y": [
          9974.707172490009,
          9520.189841422114,
          8517.665694272358,
          5556.0044148299485,
          6667.080921995919,
          8110.467516211531,
          9131.643268364072,
          9342.589723395584,
          9364.431087398847,
          9596.01550843344,
          8989.062609342775,
          9517.76568842175
         ],
         "yaxis": "y4"
        },
        {
         "name": "US2019",
         "type": "scatter",
         "visible": false,
         "x": [
          "2019-01-01",
          "2019-02-01",
          "2019-03-01",
          "2019-04-01",
          "2019-05-01",
          "2019-06-01",
          "2019-07-01",
          "2019-08-01",
          "2019-09-01",
          "2019-10-01",
          "2019-11-01",
          "2019-12-01"
         ],
         "xaxis": "x",
         "y": [
          152840.45309999998,
          140901.8173,
          157197.5369,
          155937.9753,
          164230.6027,
          159863.3357,
          165062.98100000003,
          167870.00810000004,
          156121.3748,
          166380.3629,
          156613.8437,
          157741.99150000003
         ],
         "yaxis": "y"
        },
        {
         "name": "International AviationUS2019",
         "type": "scatter",
         "visible": false,
         "x": [
          "2019-01-01",
          "2019-02-01",
          "2019-03-01",
          "2019-04-01",
          "2019-05-01",
          "2019-06-01",
          "2019-07-01",
          "2019-08-01",
          "2019-09-01",
          "2019-10-01",
          "2019-11-01",
          "2019-12-01"
         ],
         "xaxis": "x2",
         "y": [
          6499.3351,
          5866.9301,
          6439.1455,
          6756.9497,
          7204.4701000000005,
          7245.8657,
          7418.5689,
          7287.5854,
          6974.6106,
          6736.8943,
          6414.1373,
          6798.0842
         ],
         "yaxis": "y2"
        },
        {
         "name": "Domestic AviationUS2019",
         "type": "scatter",
         "visible": false,
         "x": [
          "2019-01-01",
          "2019-02-01",
          "2019-03-01",
          "2019-04-01",
          "2019-05-01",
          "2019-06-01",
          "2019-07-01",
          "2019-08-01",
          "2019-09-01",
          "2019-10-01",
          "2019-11-01",
          "2019-12-01"
         ],
         "xaxis": "x3",
         "y": [
          13465,
          12865.126100000001,
          14441.1034,
          14169.612000000001,
          15004.2215,
          14949.3358,
          14965.6699,
          14964.2533,
          14197.3322,
          14665.015800000001,
          14414.584,
          15625.4059
         ],
         "yaxis": "y3"
        },
        {
         "name": "Ground TransportUS2019",
         "type": "scatter",
         "visible": false,
         "x": [
          "2019-01-01",
          "2019-02-01",
          "2019-03-01",
          "2019-04-01",
          "2019-05-01",
          "2019-06-01",
          "2019-07-01",
          "2019-08-01",
          "2019-09-01",
          "2019-10-01",
          "2019-11-01",
          "2019-12-01"
         ],
         "xaxis": "x4",
         "y": [
          132876.118,
          122169.7611,
          136317.288,
          135011.4136,
          142021.9111,
          137668.1342,
          142678.7422,
          145618.1694,
          134949.432,
          144978.4528,
          135785.1224,
          135318.5014
         ],
         "yaxis": "y4"
        },
        {
         "name": "US2020",
         "type": "scatter",
         "visible": false,
         "x": [
          "2019-01-01",
          "2019-02-01",
          "2019-03-01",
          "2019-04-01",
          "2019-05-01",
          "2019-06-01",
          "2019-07-01",
          "2019-08-01",
          "2019-09-01",
          "2019-10-01",
          "2019-11-01",
          "2019-12-01"
         ],
         "xaxis": "x",
         "y": [
          155000.0329,
          147488.9639,
          142094.5572,
          102210.1781,
          119911.3371,
          134050.9298,
          143396.7397,
          144379.33969999998,
          140256.6183,
          146858.88700000002,
          136126.1054,
          140095.4368
         ],
         "yaxis": "y"
        },
        {
         "name": "International AviationUS2020",
         "type": "scatter",
         "visible": false,
         "x": [
          "2019-01-01",
          "2019-02-01",
          "2019-03-01",
          "2019-04-01",
          "2019-05-01",
          "2019-06-01",
          "2019-07-01",
          "2019-08-01",
          "2019-09-01",
          "2019-10-01",
          "2019-11-01",
          "2019-12-01"
         ],
         "xaxis": "x2",
         "y": [
          6765.5453,
          5861.1484,
          4861.6761,
          1861.0894,
          2243.6124,
          2496.0796,
          2877.3723,
          2942.1388,
          3069.7343,
          3326.6099,
          3817.8387,
          4090.5011
         ],
         "yaxis": "y2"
        },
        {
         "name": "Domestic AviationUS2020",
         "type": "scatter",
         "visible": false,
         "x": [
          "2019-01-01",
          "2019-02-01",
          "2019-03-01",
          "2019-04-01",
          "2019-05-01",
          "2019-06-01",
          "2019-07-01",
          "2019-08-01",
          "2019-09-01",
          "2019-10-01",
          "2019-11-01",
          "2019-12-01"
         ],
         "xaxis": "x3",
         "y": [
          14733.1882,
          14050.9979,
          13448.1819,
          5562.6848,
          5584.8199,
          7623.4887,
          9819.2537,
          9951.288700000001,
          9075.9784,
          9879.6117,
          10170.0201,
          11084.8442
         ],
         "yaxis": "y3"
        },
        {
         "name": "Ground TransportUS2020",
         "type": "scatter",
         "visible": false,
         "x": [
          "2019-01-01",
          "2019-02-01",
          "2019-03-01",
          "2019-04-01",
          "2019-05-01",
          "2019-06-01",
          "2019-07-01",
          "2019-08-01",
          "2019-09-01",
          "2019-10-01",
          "2019-11-01",
          "2019-12-01"
         ],
         "xaxis": "x4",
         "y": [
          133501.2994,
          127576.8176,
          123784.6992,
          94786.4039,
          112082.9048,
          123931.3615,
          130700.1137,
          131485.9122,
          128110.9056,
          133652.6654,
          122138.2466,
          124920.0915
         ],
         "yaxis": "y4"
        },
        {
         "name": "China2019",
         "type": "scatter",
         "visible": false,
         "x": [
          "2019-01-01",
          "2019-02-01",
          "2019-03-01",
          "2019-04-01",
          "2019-05-01",
          "2019-06-01",
          "2019-07-01",
          "2019-08-01",
          "2019-09-01",
          "2019-10-01",
          "2019-11-01",
          "2019-12-01"
         ],
         "xaxis": "x",
         "y": [
          85652.35546787572,
          78689.62097009808,
          86129.2778055019,
          83145.80540855147,
          86019.34489177461,
          83132.31912606648,
          86461.32385446219,
          86420.37999600227,
          83363.81903007888,
          86657.13767435249,
          84804.0195595257,
          87417.28588941986
         ],
         "yaxis": "y"
        },
        {
         "name": "International AviationChina2019",
         "type": "scatter",
         "visible": false,
         "x": [
          "2019-01-01",
          "2019-02-01",
          "2019-03-01",
          "2019-04-01",
          "2019-05-01",
          "2019-06-01",
          "2019-07-01",
          "2019-08-01",
          "2019-09-01",
          "2019-10-01",
          "2019-11-01",
          "2019-12-01"
         ],
         "xaxis": "x2",
         "y": [
          2563.5814437730623,
          2329.631320765878,
          2580.3794033443723,
          2583.2153366352977,
          2671.6398021917985,
          2631.5494237758244,
          2800.494137230415,
          2783.413414471505,
          2643.6855737367164,
          2668.0769772454846,
          2551.2990676466297,
          2632.033372894593
         ],
         "yaxis": "y2"
        },
        {
         "name": "Domestic AviationChina2019",
         "type": "scatter",
         "visible": false,
         "x": [
          "2019-01-01",
          "2019-02-01",
          "2019-03-01",
          "2019-04-01",
          "2019-05-01",
          "2019-06-01",
          "2019-07-01",
          "2019-08-01",
          "2019-09-01",
          "2019-10-01",
          "2019-11-01",
          "2019-12-01"
         ],
         "xaxis": "x3",
         "y": [
          5173.596226729851,
          4984.036258242458,
          5069.367289760297,
          4945.75957964285,
          5179.669162199067,
          5026.1876510234815,
          5539.1823028500185,
          5496.928872148235,
          5222.114868073998,
          5393.463265704746,
          5186.241026542991,
          5241.963497081976
         ],
         "yaxis": "y3"
        },
        {
         "name": "Ground TransportChina2019",
         "type": "scatter",
         "visible": false,
         "x": [
          "2019-01-01",
          "2019-02-01",
          "2019-03-01",
          "2019-04-01",
          "2019-05-01",
          "2019-06-01",
          "2019-07-01",
          "2019-08-01",
          "2019-09-01",
          "2019-10-01",
          "2019-11-01",
          "2019-12-01"
         ],
         "xaxis": "x4",
         "y": [
          77915.17779737282,
          71375.95339108974,
          78479.53111239724,
          75616.83049227332,
          78168.03592738375,
          75474.58205126716,
          78121.64741438175,
          78140.03770938254,
          75498.01858826817,
          78595.59743140226,
          77066.47946533607,
          79543.28901944328
         ],
         "yaxis": "y4"
        },
        {
         "name": "China2020",
         "type": "scatter",
         "visible": false,
         "x": [
          "2019-01-01",
          "2019-02-01",
          "2019-03-01",
          "2019-04-01",
          "2019-05-01",
          "2019-06-01",
          "2019-07-01",
          "2019-08-01",
          "2019-09-01",
          "2019-10-01",
          "2019-11-01",
          "2019-12-01"
         ],
         "xaxis": "x",
         "y": [
          71424.08156682993,
          35177.79896694267,
          61747.02353260064,
          66705.94142891436,
          74495.30868579085,
          75813.82374959954,
          80591.70130533987,
          81717.6126608479,
          81575.94282345104,
          79916.84649693973,
          81062.90345988348,
          83024.36965667387
         ],
         "yaxis": "y"
        },
        {
         "name": "International AviationChina2020",
         "type": "scatter",
         "visible": false,
         "x": [
          "2019-01-01",
          "2019-02-01",
          "2019-03-01",
          "2019-04-01",
          "2019-05-01",
          "2019-06-01",
          "2019-07-01",
          "2019-08-01",
          "2019-09-01",
          "2019-10-01",
          "2019-11-01",
          "2019-12-01"
         ],
         "xaxis": "x2",
         "y": [
          2701.4887095007757,
          773.0208316695661,
          639.4325637447064,
          900.0513677471204,
          1417.6304138922017,
          1034.1024395298523,
          840.015765714985,
          756.4964771058726,
          786.6766335428259,
          826.4787762627839,
          1030.1960810418107,
          1047.1785684006936
         ],
         "yaxis": "y2"
        },
        {
         "name": "Domestic AviationChina2020",
         "type": "scatter",
         "visible": false,
         "x": [
          "2019-01-01",
          "2019-02-01",
          "2019-03-01",
          "2019-04-01",
          "2019-05-01",
          "2019-06-01",
          "2019-07-01",
          "2019-08-01",
          "2019-09-01",
          "2019-10-01",
          "2019-11-01",
          "2019-12-01"
         ],
         "xaxis": "x3",
         "y": [
          5299.035816583657,
          1437.4243868460019,
          2212.123485306455,
          2387.6772064219767,
          3373.2793208812627,
          3791.823125996744,
          4904.03090538486,
          5512.5736814759875,
          5519.030170649894,
          5812.960423504907,
          5596.110406619437,
          5706.341958971545
         ],
         "yaxis": "y3"
        },
        {
         "name": "Ground TransportChina2020",
         "type": "scatter",
         "visible": false,
         "x": [
          "2019-01-01",
          "2019-02-01",
          "2019-03-01",
          "2019-04-01",
          "2019-05-01",
          "2019-06-01",
          "2019-07-01",
          "2019-08-01",
          "2019-09-01",
          "2019-10-01",
          "2019-11-01",
          "2019-12-01"
         ],
         "xaxis": "x4",
         "y": [
          63423.557040745494,
          32967.3537484271,
          58895.46748354948,
          63418.21285474527,
          69704.39895101739,
          70987.89818407294,
          74847.65463424003,
          75448.54250226603,
          75270.23601925831,
          73277.40729717205,
          74436.59697222224,
          76270.84912930163
         ],
         "yaxis": "y4"
        },
        {
         "name": "EU27 & UK2019",
         "type": "scatter",
         "visible": false,
         "x": [
          "2019-01-01",
          "2019-02-01",
          "2019-03-01",
          "2019-04-01",
          "2019-05-01",
          "2019-06-01",
          "2019-07-01",
          "2019-08-01",
          "2019-09-01",
          "2019-10-01",
          "2019-11-01",
          "2019-12-01"
         ],
         "xaxis": "x",
         "y": [
          86166.22185204577,
          80105.00851681476,
          89369.53676501116,
          88198.26072452491,
          93076.24580388477,
          91005.90056379292,
          95855.01240346796,
          95422.10298042433,
          90915.8478827203,
          94824.07678935096,
          91470.75544878279,
          90869.11534744245
         ],
         "yaxis": "y"
        },
        {
         "name": "International AviationEU27 & UK2019",
         "type": "scatter",
         "visible": false,
         "x": [
          "2019-01-01",
          "2019-02-01",
          "2019-03-01",
          "2019-04-01",
          "2019-05-01",
          "2019-06-01",
          "2019-07-01",
          "2019-08-01",
          "2019-09-01",
          "2019-10-01",
          "2019-11-01",
          "2019-12-01"
         ],
         "xaxis": "x2",
         "y": [
          13037.707747069428,
          12027.916060356545,
          13980.323014146727,
          15506.052999158925,
          17046.11999920715,
          18368.435669129034,
          19596.7771098232,
          19464.099521610824,
          18091.657575594916,
          16887.34479111548,
          13199.768879637591,
          13690.780951412149
         ],
         "yaxis": "y2"
        },
        {
         "name": "Domestic AviationEU27 & UK2019",
         "type": "scatter",
         "visible": false,
         "x": [
          "2019-01-01",
          "2019-02-01",
          "2019-03-01",
          "2019-04-01",
          "2019-05-01",
          "2019-06-01",
          "2019-07-01",
          "2019-08-01",
          "2019-09-01",
          "2019-10-01",
          "2019-11-01",
          "2019-12-01"
         ],
         "xaxis": "x3",
         "y": [
          1242.040163760114,
          1176.8919939259813,
          1337.2736221630676,
          1368.8930362742888,
          1456.900691757414,
          1485.4747139127617,
          1521.789668519476,
          1486.1317467453925,
          1479.5866096535037,
          1421.1134370121301,
          1264.0603121004256,
          1274.8991641754399
         ],
         "yaxis": "y3"
        },
        {
         "name": "Ground TransportEU27 & UK2019",
         "type": "scatter",
         "visible": false,
         "x": [
          "2019-01-01",
          "2019-02-01",
          "2019-03-01",
          "2019-04-01",
          "2019-05-01",
          "2019-06-01",
          "2019-07-01",
          "2019-08-01",
          "2019-09-01",
          "2019-10-01",
          "2019-11-01",
          "2019-12-01"
         ],
         "xaxis": "x4",
         "y": [
          71886.47394121622,
          66900.20046253224,
          74051.94012870138,
          71323.3146890917,
          74573.2251129202,
          71151.99018075113,
          74736.44562512529,
          74471.87171206811,
          71344.60369747189,
          76515.61856122335,
          77006.92625704478,
          75903.43523185486
         ],
         "yaxis": "y4"
        },
        {
         "name": "EU27 & UK2020",
         "type": "scatter",
         "visible": false,
         "x": [
          "2019-01-01",
          "2019-02-01",
          "2019-03-01",
          "2019-04-01",
          "2019-05-01",
          "2019-06-01",
          "2019-07-01",
          "2019-08-01",
          "2019-09-01",
          "2019-10-01",
          "2019-11-01",
          "2019-12-01"
         ],
         "xaxis": "x",
         "y": [
          90014.80069181707,
          85121.3271203778,
          71293.42791681396,
          50745.429868129104,
          61932.76877033701,
          73660.64045610464,
          81799.9693694675,
          80856.98902526351,
          83524.54759917749,
          84007.69976820641,
          74623.14863186021,
          79800.24342281367
         ],
         "yaxis": "y"
        },
        {
         "name": "International AviationEU27 & UK2020",
         "type": "scatter",
         "visible": false,
         "x": [
          "2019-01-01",
          "2019-02-01",
          "2019-03-01",
          "2019-04-01",
          "2019-05-01",
          "2019-06-01",
          "2019-07-01",
          "2019-08-01",
          "2019-09-01",
          "2019-10-01",
          "2019-11-01",
          "2019-12-01"
         ],
         "xaxis": "x2",
         "y": [
          13095.162073077368,
          12329.629526277706,
          8668.200442038371,
          1772.0594707858966,
          2372.923836205891,
          2899.160272961026,
          6332.469277237512,
          8176.584956871142,
          6911.705703777006,
          6251.012896563538,
          4628.550749698652,
          5192.826238185808
         ],
         "yaxis": "y2"
        },
        {
         "name": "Domestic AviationEU27 & UK2020",
         "type": "scatter",
         "visible": false,
         "x": [
          "2019-01-01",
          "2019-02-01",
          "2019-03-01",
          "2019-04-01",
          "2019-05-01",
          "2019-06-01",
          "2019-07-01",
          "2019-08-01",
          "2019-09-01",
          "2019-10-01",
          "2019-11-01",
          "2019-12-01"
         ],
         "xaxis": "x3",
         "y": [
          1231.0784794846209,
          1180.110203248379,
          740.5385881014016,
          124.30151239128578,
          175.79867946567202,
          349.64579628300487,
          812.5276268694347,
          1052.9001929234814,
          950.537482805817,
          835.6727809135871,
          533.6771571098263,
          607.8898046879647
         ],
         "yaxis": "y3"
        },
        {
         "name": "Ground TransportEU27 & UK2020",
         "type": "scatter",
         "visible": false,
         "x": [
          "2019-01-01",
          "2019-02-01",
          "2019-03-01",
          "2019-04-01",
          "2019-05-01",
          "2019-06-01",
          "2019-07-01",
          "2019-08-01",
          "2019-09-01",
          "2019-10-01",
          "2019-11-01",
          "2019-12-01"
         ],
         "xaxis": "x4",
         "y": [
          75688.56013925507,
          71611.58739085172,
          61884.68888667419,
          48849.06888495192,
          59384.046254665445,
          70411.8343868606,
          74654.97246536055,
          71627.50387546889,
          75662.30441259466,
          76921.01409072928,
          69460.92072505174,
          73999.5273799399
         ],
         "yaxis": "y4"
        },
        {
         "name": "France2019",
         "type": "scatter",
         "visible": false,
         "x": [
          "2019-01-01",
          "2019-02-01",
          "2019-03-01",
          "2019-04-01",
          "2019-05-01",
          "2019-06-01",
          "2019-07-01",
          "2019-08-01",
          "2019-09-01",
          "2019-10-01",
          "2019-11-01",
          "2019-12-01"
         ],
         "xaxis": "x",
         "y": [
          11079.285712704903,
          10408.338610031597,
          11482.207303100646,
          11409.401257031539,
          11667.547807718809,
          11606.336610657236,
          12182.452997700157,
          12121.474464928175,
          11517.957265637007,
          12002.68639632055,
          11612.308956524292,
          11970.176882290465
         ],
         "yaxis": "y"
        },
        {
         "name": "International AviationFrance2019",
         "type": "scatter",
         "visible": false,
         "x": [
          "2019-01-01",
          "2019-02-01",
          "2019-03-01",
          "2019-04-01",
          "2019-05-01",
          "2019-06-01",
          "2019-07-01",
          "2019-08-01",
          "2019-09-01",
          "2019-10-01",
          "2019-11-01",
          "2019-12-01"
         ],
         "xaxis": "x2",
         "y": [
          1441.40336404757,
          1312.566002050761,
          1533.0779138987475,
          1672.598192065398,
          1755.1948264261882,
          1895.5676626027152,
          2037.5649817649135,
          2019.6156224649535,
          1808.2453106651237,
          1714.1905408642424,
          1403.8701027552825,
          1519.9937950394076
         ],
         "yaxis": "y2"
        },
        {
         "name": "Domestic AviationFrance2019",
         "type": "scatter",
         "visible": false,
         "x": [
          "2019-01-01",
          "2019-02-01",
          "2019-03-01",
          "2019-04-01",
          "2019-05-01",
          "2019-06-01",
          "2019-07-01",
          "2019-08-01",
          "2019-09-01",
          "2019-10-01",
          "2019-11-01",
          "2019-12-01"
         ],
         "xaxis": "x3",
         "y": [
          166.6263142004127,
          156.7423414372052,
          184.33321779280348,
          201.503386519656,
          213.8082748727345,
          225.77043559984142,
          224.1475325515553,
          197.35675207688845,
          212.17065151924635,
          200.1711280999232,
          172.3765924041097,
          171.8900229256243
         ],
         "yaxis": "y3"
        },
        {
         "name": "Ground TransportFrance2019",
         "type": "scatter",
         "visible": false,
         "x": [
          "2019-01-01",
          "2019-02-01",
          "2019-03-01",
          "2019-04-01",
          "2019-05-01",
          "2019-06-01",
          "2019-07-01",
          "2019-08-01",
          "2019-09-01",
          "2019-10-01",
          "2019-11-01",
          "2019-12-01"
         ],
         "xaxis": "x4",
         "y": [
          9471.25603445692,
          8939.03026654363,
          9764.796171409094,
          9535.299678446485,
          9698.544706419887,
          9484.99851245468,
          9920.740483383688,
          9904.502090386333,
          9497.541303452637,
          10088.324727356385,
          10036.0622613649,
          10278.293064325433
         ],
         "yaxis": "y4"
        },
        {
         "name": "France2020",
         "type": "scatter",
         "visible": false,
         "x": [
          "2019-01-01",
          "2019-02-01",
          "2019-03-01",
          "2019-04-01",
          "2019-05-01",
          "2019-06-01",
          "2019-07-01",
          "2019-08-01",
          "2019-09-01",
          "2019-10-01",
          "2019-11-01",
          "2019-12-01"
         ],
         "xaxis": "x",
         "y": [
          11788.881414526026,
          10857.016535829427,
          8330.652854433773,
          4889.21704410095,
          7401.5002940947425,
          10025.502839312554,
          10786.11741560262,
          10271.435553001469,
          10958.796822457809,
          10909.426733371396,
          8415.091214832682,
          10590.593499645303
         ],
         "yaxis": "y"
        },
        {
         "name": "International AviationFrance2020",
         "type": "scatter",
         "visible": false,
         "x": [
          "2019-01-01",
          "2019-02-01",
          "2019-03-01",
          "2019-04-01",
          "2019-05-01",
          "2019-06-01",
          "2019-07-01",
          "2019-08-01",
          "2019-09-01",
          "2019-10-01",
          "2019-11-01",
          "2019-12-01"
         ],
         "xaxis": "x2",
         "y": [
          1477.1325250120071,
          1377.0199892446146,
          944.6591273388564,
          168.83527273701242,
          261.08180032066235,
          349.4879116603292,
          698.8363339754749,
          872.8035991979485,
          715.3345475053443,
          708.2337931110803,
          556.2218330968623,
          706.5779935741826
         ],
         "yaxis": "y2"
        },
        {
         "name": "Domestic AviationFrance2020",
         "type": "scatter",
         "visible": false,
         "x": [
          "2019-01-01",
          "2019-02-01",
          "2019-03-01",
          "2019-04-01",
          "2019-05-01",
          "2019-06-01",
          "2019-07-01",
          "2019-08-01",
          "2019-09-01",
          "2019-10-01",
          "2019-11-01",
          "2019-12-01"
         ],
         "xaxis": "x3",
         "y": [
          175.24991816548248,
          166.49725510219372,
          107.61845328072849,
          7.991698131692513,
          17.128248934624953,
          58.54967721912686,
          139.79485824781696,
          168.94589430724352,
          160.406867595223,
          135.91712390017793,
          60.22018400639605,
          94.58210066604008
         ],
         "yaxis": "y3"
        },
        {
         "name": "Ground TransportFrance2020",
         "type": "scatter",
         "visible": false,
         "x": [
          "2019-01-01",
          "2019-02-01",
          "2019-03-01",
          "2019-04-01",
          "2019-05-01",
          "2019-06-01",
          "2019-07-01",
          "2019-08-01",
          "2019-09-01",
          "2019-10-01",
          "2019-11-01",
          "2019-12-01"
         ],
         "xaxis": "x4",
         "y": [
          10136.498971348536,
          9313.49929148262,
          7278.375273814188,
          4712.390073232245,
          7123.290244839455,
          9617.465250433097,
          9947.48622337933,
          9229.686059496276,
          10083.055407357242,
          10065.27581636014,
          7798.649197729424,
          9789.43340540508
         ],
         "yaxis": "y4"
        },
        {
         "name": "Germany2019",
         "type": "scatter",
         "visible": false,
         "x": [
          "2019-01-01",
          "2019-02-01",
          "2019-03-01",
          "2019-04-01",
          "2019-05-01",
          "2019-06-01",
          "2019-07-01",
          "2019-08-01",
          "2019-09-01",
          "2019-10-01",
          "2019-11-01",
          "2019-12-01"
         ],
         "xaxis": "x",
         "y": [
          14386.989799372102,
          13270.343438507083,
          15064.648529369239,
          14860.078564198522,
          15660.100247881604,
          15222.728161884255,
          15952.200743094136,
          15870.60398842813,
          15323.649110221848,
          15999.39465021943,
          15181.927465912391,
          14605.080761495525
         ],
         "yaxis": "y"
        },
        {
         "name": "International AviationGermany2019",
         "type": "scatter",
         "visible": false,
         "x": [
          "2019-01-01",
          "2019-02-01",
          "2019-03-01",
          "2019-04-01",
          "2019-05-01",
          "2019-06-01",
          "2019-07-01",
          "2019-08-01",
          "2019-09-01",
          "2019-10-01",
          "2019-11-01",
          "2019-12-01"
         ],
         "xaxis": "x2",
         "y": [
          2097.286892323095,
          1929.3644668747215,
          2250.5320674871464,
          2369.046300580409,
          2509.510158643635,
          2614.914568679838,
          2742.6761514958143,
          2729.9465903367754,
          2659.949624921211,
          2664.5522500565303,
          2122.662383967766,
          2101.8262752173814
         ],
         "yaxis": "y2"
        },
        {
         "name": "Domestic AviationGermany2019",
         "type": "scatter",
         "visible": false,
         "x": [
          "2019-01-01",
          "2019-02-01",
          "2019-03-01",
          "2019-04-01",
          "2019-05-01",
          "2019-06-01",
          "2019-07-01",
          "2019-08-01",
          "2019-09-01",
          "2019-10-01",
          "2019-11-01",
          "2019-12-01"
         ],
         "xaxis": "x3",
         "y": [
          164.27783879284178,
          168.65501755353628,
          184.17756053205025,
          175.28661932653407,
          192.95682082695228,
          180.15739589201328,
          180.19312917396294,
          172.78600267843194,
          189.37353597954922,
          188.44980471676195,
          168.00438654596115,
          159.77671798140435
         ],
         "yaxis": "y3"
        },
        {
         "name": "Ground TransportGermany2019",
         "type": "scatter",
         "visible": false,
         "x": [
          "2019-01-01",
          "2019-02-01",
          "2019-03-01",
          "2019-04-01",
          "2019-05-01",
          "2019-06-01",
          "2019-07-01",
          "2019-08-01",
          "2019-09-01",
          "2019-10-01",
          "2019-11-01",
          "2019-12-01"
         ],
         "xaxis": "x4",
         "y": [
          12125.425068256167,
          11172.323954078825,
          12629.938901350042,
          12315.745644291579,
          12957.633268411017,
          12427.656197312404,
          13029.331462424358,
          12967.871395412922,
          12474.325949321086,
          13146.392595446137,
          12891.260695398665,
          12343.47776829674
         ],
         "yaxis": "y4"
        },
        {
         "name": "Germany2020",
         "type": "scatter",
         "visible": false,
         "x": [
          "2019-01-01",
          "2019-02-01",
          "2019-03-01",
          "2019-04-01",
          "2019-05-01",
          "2019-06-01",
          "2019-07-01",
          "2019-08-01",
          "2019-09-01",
          "2019-10-01",
          "2019-11-01",
          "2019-12-01"
         ],
         "xaxis": "x",
         "y": [
          14738.780701013358,
          14141.339767206076,
          13108.276606917063,
          10831.821750127898,
          12608.029537518945,
          13390.326670872253,
          14439.45377456659,
          14484.16266033792,
          14293.202924829677,
          14496.836244871758,
          13386.581899007955,
          13340.943609066082
         ],
         "yaxis": "y"
        },
        {
         "name": "International AviationGermany2020",
         "type": "scatter",
         "visible": false,
         "x": [
          "2019-01-01",
          "2019-02-01",
          "2019-03-01",
          "2019-04-01",
          "2019-05-01",
          "2019-06-01",
          "2019-07-01",
          "2019-08-01",
          "2019-09-01",
          "2019-10-01",
          "2019-11-01",
          "2019-12-01"
         ],
         "xaxis": "x2",
         "y": [
          2051.2961824486374,
          1942.2917627678403,
          1433.2723282907004,
          453.23140601455816,
          548.0678146149427,
          599.6164248117678,
          1015.7503891988842,
          1185.8835081134912,
          1066.0626251520887,
          1050.1220251786583,
          850.7237789653078,
          906.9202989944741
         ],
         "yaxis": "y2"
        },
        {
         "name": "Domestic AviationGermany2020",
         "type": "scatter",
         "visible": false,
         "x": [
          "2019-01-01",
          "2019-02-01",
          "2019-03-01",
          "2019-04-01",
          "2019-05-01",
          "2019-06-01",
          "2019-07-01",
          "2019-08-01",
          "2019-09-01",
          "2019-10-01",
          "2019-11-01",
          "2019-12-01"
         ],
         "xaxis": "x3",
         "y": [
          156.65965423311994,
          154.86024519718455,
          99.35867747249065,
          23.072648186496426,
          40.132811667483516,
          63.137356692274864,
          82.20024588526437,
          90.87442676693931,
          106.25027523619674,
          89.6515072077627,
          61.62561472157646,
          50.953918767502586
         ],
         "yaxis": "y3"
        },
        {
         "name": "Ground TransportGermany2020",
         "type": "scatter",
         "visible": false,
         "x": [
          "2019-01-01",
          "2019-02-01",
          "2019-03-01",
          "2019-04-01",
          "2019-05-01",
          "2019-06-01",
          "2019-07-01",
          "2019-08-01",
          "2019-09-01",
          "2019-10-01",
          "2019-11-01",
          "2019-12-01"
         ],
         "xaxis": "x4",
         "y": [
          12530.8248643316,
          12044.187759241053,
          11575.645601153872,
          10355.517695926843,
          12019.82891123652,
          12727.57288936821,
          13341.503139482442,
          13207.40472545749,
          13120.890024441393,
          13357.062712485338,
          12474.23250532107,
          12383.069391304107
         ],
         "yaxis": "y4"
        },
        {
         "name": "India2019",
         "type": "scatter",
         "visible": false,
         "x": [
          "2019-01-01",
          "2019-02-01",
          "2019-03-01",
          "2019-04-01",
          "2019-05-01",
          "2019-06-01",
          "2019-07-01",
          "2019-08-01",
          "2019-09-01",
          "2019-10-01",
          "2019-11-01",
          "2019-12-01"
         ],
         "xaxis": "x",
         "y": [
          27808.16116011732,
          25287.415090669147,
          27106.79077749682,
          26353.45352124256,
          26871.75028923034,
          25605.620511125966,
          26526.8614382322,
          26599.406149607777,
          25685.52998903499,
          26673.572032928987,
          26630.395183811466,
          27720.338340610535
         ],
         "yaxis": "y"
        },
        {
         "name": "International AviationIndia2019",
         "type": "scatter",
         "visible": false,
         "x": [
          "2019-01-01",
          "2019-02-01",
          "2019-03-01",
          "2019-04-01",
          "2019-05-01",
          "2019-06-01",
          "2019-07-01",
          "2019-08-01",
          "2019-09-01",
          "2019-10-01",
          "2019-11-01",
          "2019-12-01"
         ],
         "xaxis": "x2",
         "y": [
          1091.3856526247175,
          969.7218507901265,
          1011.4494425095039,
          913.5679728306259,
          938.9161285111384,
          921.0623888218139,
          975.5182653512902,
          997.8451657803753,
          997.6645198003166,
          1054.5377761855707,
          1056.2323689235407,
          1115.9270519789904
         ],
         "yaxis": "y2"
        },
        {
         "name": "Domestic AviationIndia2019",
         "type": "scatter",
         "visible": false,
         "x": [
          "2019-01-01",
          "2019-02-01",
          "2019-03-01",
          "2019-04-01",
          "2019-05-01",
          "2019-06-01",
          "2019-07-01",
          "2019-08-01",
          "2019-09-01",
          "2019-10-01",
          "2019-11-01",
          "2019-12-01"
         ],
         "xaxis": "x3",
         "y": [
          620.86386540866,
          547.9238006242825,
          580.0547858607384,
          539.330745240222,
          592.986862579746,
          593.7345730729864,
          603.1027497127017,
          604.8384516627523,
          586.9901410042474,
          646.758621576971,
          632.0850737192615,
          647.0793295374285
         ],
         "yaxis": "y3"
        },
        {
         "name": "Ground TransportIndia2019",
         "type": "scatter",
         "visible": false,
         "x": [
          "2019-01-01",
          "2019-02-01",
          "2019-03-01",
          "2019-04-01",
          "2019-05-01",
          "2019-06-01",
          "2019-07-01",
          "2019-08-01",
          "2019-09-01",
          "2019-10-01",
          "2019-11-01",
          "2019-12-01"
         ],
         "xaxis": "x4",
         "y": [
          26095.911642083942,
          23769.76943925474,
          25515.286549126577,
          24900.55480317171,
          25339.847298139455,
          24090.823549231165,
          24948.24042316821,
          24996.72253216465,
          24100.875328230424,
          24972.275635166447,
          24942.07774116866,
          25957.331959094117
         ],
         "yaxis": "y4"
        },
        {
         "name": "India2020",
         "type": "scatter",
         "visible": false,
         "x": [
          "2019-01-01",
          "2019-02-01",
          "2019-03-01",
          "2019-04-01",
          "2019-05-01",
          "2019-06-01",
          "2019-07-01",
          "2019-08-01",
          "2019-09-01",
          "2019-10-01",
          "2019-11-01",
          "2019-12-01"
         ],
         "xaxis": "x",
         "y": [
          27903.633614337243,
          25839.214701430228,
          20029.585826128092,
          8651.147582289668,
          16804.994385681755,
          20514.8012348941,
          23665.653111070642,
          24950.70254368535,
          24756.05304910645,
          25460.681466007212,
          23785.98774767299,
          25277.381597673168
         ],
         "yaxis": "y"
        },
        {
         "name": "International AviationIndia2020",
         "type": "scatter",
         "visible": false,
         "x": [
          "2019-01-01",
          "2019-02-01",
          "2019-03-01",
          "2019-04-01",
          "2019-05-01",
          "2019-06-01",
          "2019-07-01",
          "2019-08-01",
          "2019-09-01",
          "2019-10-01",
          "2019-11-01",
          "2019-12-01"
         ],
         "xaxis": "x2",
         "y": [
          1116.6969303792748,
          1008.6735236706015,
          605.7967855102312,
          79.40819868303674,
          143.434075798762,
          270.52810124015826,
          323.5141975399662,
          341.5517319581131,
          377.89921454303,
          404.6986138088997,
          424.20928981237154,
          475.36299129005465
         ],
         "yaxis": "y2"
        },
        {
         "name": "Domestic AviationIndia2020",
         "type": "scatter",
         "visible": false,
         "x": [
          "2019-01-01",
          "2019-02-01",
          "2019-03-01",
          "2019-04-01",
          "2019-05-01",
          "2019-06-01",
          "2019-07-01",
          "2019-08-01",
          "2019-09-01",
          "2019-10-01",
          "2019-11-01",
          "2019-12-01"
         ],
         "xaxis": "x3",
         "y": [
          648.2444298771632,
          611.3241945378887,
          470.86757600945054,
          7.697581235434468,
          37.24912710360787,
          173.41561612761834,
          186.2133882308672,
          218.81657851806557,
          301.32971033122556,
          376.61646801036113,
          405.52255054615,
          470.3684931696315
         ],
         "yaxis": "y3"
        },
        {
         "name": "Ground TransportIndia2020",
         "type": "scatter",
         "visible": false,
         "x": [
          "2019-01-01",
          "2019-02-01",
          "2019-03-01",
          "2019-04-01",
          "2019-05-01",
          "2019-06-01",
          "2019-07-01",
          "2019-08-01",
          "2019-09-01",
          "2019-10-01",
          "2019-11-01",
          "2019-12-01"
         ],
         "xaxis": "x4",
         "y": [
          26138.692254080805,
          24219.216983221737,
          18952.921464608407,
          8564.041802371197,
          16624.311182779384,
          20070.857517526325,
          23155.92552529981,
          24390.334233209174,
          24076.824124232193,
          24679.36638418795,
          22956.25590731447,
          24331.650113213484
         ],
         "yaxis": "y4"
        },
        {
         "name": "Italy2019",
         "type": "scatter",
         "visible": false,
         "x": [
          "2019-01-01",
          "2019-02-01",
          "2019-03-01",
          "2019-04-01",
          "2019-05-01",
          "2019-06-01",
          "2019-07-01",
          "2019-08-01",
          "2019-09-01",
          "2019-10-01",
          "2019-11-01",
          "2019-12-01"
         ],
         "xaxis": "x",
         "y": [
          8501.170042996979,
          7895.730116983494,
          8903.527241057687,
          8810.233502843072,
          9252.521923507758,
          9008.57607568478,
          9473.252324554218,
          9477.396128012188,
          8984.261549461948,
          9387.18693199005,
          9151.77908783374,
          9153.387718758586
         ],
         "yaxis": "y"
        },
        {
         "name": "International AviationItaly2019",
         "type": "scatter",
         "visible": false,
         "x": [
          "2019-01-01",
          "2019-02-01",
          "2019-03-01",
          "2019-04-01",
          "2019-05-01",
          "2019-06-01",
          "2019-07-01",
          "2019-08-01",
          "2019-09-01",
          "2019-10-01",
          "2019-11-01",
          "2019-12-01"
         ],
         "xaxis": "x2",
         "y": [
          971.5181535215395,
          886.1983797714412,
          1049.160666610047,
          1224.2473429581514,
          1339.5856770631242,
          1469.2155791957755,
          1602.616537631857,
          1593.272235347444,
          1468.7670406185914,
          1324.4824618798914,
          1008.5072827142254,
          1048.3225503724402
         ],
         "yaxis": "y2"
        },
        {
         "name": "Domestic AviationItaly2019",
         "type": "scatter",
         "visible": false,
         "x": [
          "2019-01-01",
          "2019-02-01",
          "2019-03-01",
          "2019-04-01",
          "2019-05-01",
          "2019-06-01",
          "2019-07-01",
          "2019-08-01",
          "2019-09-01",
          "2019-10-01",
          "2019-11-01",
          "2019-12-01"
         ],
         "xaxis": "x3",
         "y": [
          139.50385885411106,
          128.52488149574103,
          139.63812088686427,
          150.78829727199607,
          163.02742589042182,
          179.9268568619469,
          189.46701735532534,
          185.4282671009769,
          173.35954421307216,
          154.00558958556957,
          137.7863486129808,
          145.77456787099527
         ],
         "yaxis": "y3"
        },
        {
         "name": "Ground TransportItaly2019",
         "type": "scatter",
         "visible": false,
         "x": [
          "2019-01-01",
          "2019-02-01",
          "2019-03-01",
          "2019-04-01",
          "2019-05-01",
          "2019-06-01",
          "2019-07-01",
          "2019-08-01",
          "2019-09-01",
          "2019-10-01",
          "2019-11-01",
          "2019-12-01"
         ],
         "xaxis": "x4",
         "y": [
          7390.148030621328,
          6881.006855716311,
          7714.728453560775,
          7435.197862612923,
          7749.908820554212,
          7359.433639627057,
          7681.168769567036,
          7698.695625563767,
          7342.134964630284,
          7908.698880524589,
          8005.485456506533,
          7959.290600515151
         ],
         "yaxis": "y4"
        },
        {
         "name": "Italy2020",
         "type": "scatter",
         "visible": false,
         "x": [
          "2019-01-01",
          "2019-02-01",
          "2019-03-01",
          "2019-04-01",
          "2019-05-01",
          "2019-06-01",
          "2019-07-01",
          "2019-08-01",
          "2019-09-01",
          "2019-10-01",
          "2019-11-01",
          "2019-12-01"
         ],
         "xaxis": "x",
         "y": [
          8842.873152950666,
          8238.524221320155,
          5937.977852315649,
          4565.1062286335955,
          5851.1544831642805,
          7169.278442814869,
          7900.4498266161245,
          7331.459116479693,
          8332.982474549079,
          8458.82028269703,
          7249.54510901828,
          7811.725159104258
         ],
         "yaxis": "y"
        },
        {
         "name": "International AviationItaly2020",
         "type": "scatter",
         "visible": false,
         "x": [
          "2019-01-01",
          "2019-02-01",
          "2019-03-01",
          "2019-04-01",
          "2019-05-01",
          "2019-06-01",
          "2019-07-01",
          "2019-08-01",
          "2019-09-01",
          "2019-10-01",
          "2019-11-01",
          "2019-12-01"
         ],
         "xaxis": "x2",
         "y": [
          978.7247889226221,
          888.2410439809415,
          349.536600304391,
          65.13770214812567,
          91.18594212213975,
          150.627714988874,
          413.88234597610654,
          562.3440584556167,
          456.5843985409223,
          385.32529629482144,
          255.83424532884496,
          250.84674833536718
         ],
         "yaxis": "y2"
        },
        {
         "name": "Domestic AviationItaly2020",
         "type": "scatter",
         "visible": false,
         "x": [
          "2019-01-01",
          "2019-02-01",
          "2019-03-01",
          "2019-04-01",
          "2019-05-01",
          "2019-06-01",
          "2019-07-01",
          "2019-08-01",
          "2019-09-01",
          "2019-10-01",
          "2019-11-01",
          "2019-12-01"
         ],
         "xaxis": "x3",
         "y": [
          139.13102946918676,
          127.37920268668586,
          48.55203004475534,
          11.441511322828445,
          15.402283113820442,
          36.633956128528844,
          105.74077501695129,
          142.68013526027445,
          121.47345845487988,
          111.5871938875458,
          70.7215819809562,
          71.30452616611193
         ],
         "yaxis": "y3"
        },
        {
         "name": "Ground TransportItaly2020",
         "type": "scatter",
         "visible": false,
         "x": [
          "2019-01-01",
          "2019-02-01",
          "2019-03-01",
          "2019-04-01",
          "2019-05-01",
          "2019-06-01",
          "2019-07-01",
          "2019-08-01",
          "2019-09-01",
          "2019-10-01",
          "2019-11-01",
          "2019-12-01"
         ],
         "xaxis": "x4",
         "y": [
          7725.017334558856,
          7222.903974652528,
          5539.889221966503,
          4488.527015162641,
          5744.56625792832,
          6982.0167716974665,
          7380.826705623067,
          6626.434922763802,
          7754.924617553276,
          7961.907792514662,
          6922.989281708478,
          7489.573884602779
         ],
         "yaxis": "y4"
        },
        {
         "name": "Japan2019",
         "type": "scatter",
         "visible": false,
         "x": [
          "2019-01-01",
          "2019-02-01",
          "2019-03-01",
          "2019-04-01",
          "2019-05-01",
          "2019-06-01",
          "2019-07-01",
          "2019-08-01",
          "2019-09-01",
          "2019-10-01",
          "2019-11-01",
          "2019-12-01"
         ],
         "xaxis": "x",
         "y": [
          17417.394313090324,
          15768.222775837861,
          17464.155213604343,
          17007.95910978684,
          17624.42828129428,
          16974.955639390595,
          17639.15602597693,
          17670.227869972714,
          16979.31148108918,
          17539.372224654988,
          17139.973946873324,
          17584.642162006072
         ],
         "yaxis": "y"
        },
        {
         "name": "International AviationJapan2019",
         "type": "scatter",
         "visible": false,
         "x": [
          "2019-01-01",
          "2019-02-01",
          "2019-03-01",
          "2019-04-01",
          "2019-05-01",
          "2019-06-01",
          "2019-07-01",
          "2019-08-01",
          "2019-09-01",
          "2019-10-01",
          "2019-11-01",
          "2019-12-01"
         ],
         "xaxis": "x2",
         "y": [
          1569.076314086809,
          1454.363466387555,
          1631.2690202603862,
          1622.2134781053553,
          1670.4729442149514,
          1626.641135139013,
          1705.3482711954796,
          1717.9063923416284,
          1626.6084136847728,
          1619.265112365272,
          1623.9058647221837,
          1707.8398110739172
         ],
         "yaxis": "y2"
        },
        {
         "name": "Domestic AviationJapan2019",
         "type": "scatter",
         "visible": false,
         "x": [
          "2019-01-01",
          "2019-02-01",
          "2019-03-01",
          "2019-04-01",
          "2019-05-01",
          "2019-06-01",
          "2019-07-01",
          "2019-08-01",
          "2019-09-01",
          "2019-10-01",
          "2019-11-01",
          "2019-12-01"
         ],
         "xaxis": "x3",
         "y": [
          745.1512317831314,
          681.8095550565797,
          761.3973251198382,
          722.2927464092868,
          773.4861068680526,
          737.9133409731355,
          785.5667345663765,
          787.622637417952,
          740.4347021261781,
          748.9663230773406,
          743.752728891769,
          785.5440877103683
         ],
         "yaxis": "y3"
        },
        {
         "name": "Ground TransportJapan2019",
         "type": "scatter",
         "visible": false,
         "x": [
          "2019-01-01",
          "2019-02-01",
          "2019-03-01",
          "2019-04-01",
          "2019-05-01",
          "2019-06-01",
          "2019-07-01",
          "2019-08-01",
          "2019-09-01",
          "2019-10-01",
          "2019-11-01",
          "2019-12-01"
         ],
         "xaxis": "x4",
         "y": [
          15103.166767220386,
          13632.049754393727,
          15071.488868224118,
          14663.452885272198,
          15180.469230211276,
          14610.401163278448,
          15148.241020215073,
          15164.698840213136,
          14612.268365278229,
          15171.140789212375,
          14772.31535325937,
          15091.258263221787
         ],
         "yaxis": "y4"
        },
        {
         "name": "Japan2020",
         "type": "scatter",
         "visible": false,
         "x": [
          "2019-01-01",
          "2019-02-01",
          "2019-03-01",
          "2019-04-01",
          "2019-05-01",
          "2019-06-01",
          "2019-07-01",
          "2019-08-01",
          "2019-09-01",
          "2019-10-01",
          "2019-11-01",
          "2019-12-01"
         ],
         "xaxis": "x",
         "y": [
          17166.16224534076,
          15937.544346252344,
          15715.754131292406,
          12872.876293672718,
          13033.991333143449,
          14756.72504552155,
          15516.068110496684,
          15320.615191646666,
          15248.056044406503,
          15820.860625742172,
          15379.522824803971,
          16037.273250826445
         ],
         "yaxis": "y"
        },
        {
         "name": "International AviationJapan2020",
         "type": "scatter",
         "visible": false,
         "x": [
          "2019-01-01",
          "2019-02-01",
          "2019-03-01",
          "2019-04-01",
          "2019-05-01",
          "2019-06-01",
          "2019-07-01",
          "2019-08-01",
          "2019-09-01",
          "2019-10-01",
          "2019-11-01",
          "2019-12-01"
         ],
         "xaxis": "x2",
         "y": [
          1713.7015051607614,
          1424.5670216745546,
          980.3669845220287,
          383.9943363788969,
          453.19063212183437,
          447.9828773677662,
          464.791820171355,
          473.12568828103707,
          512.9656723530121,
          559.8448506150037,
          626.3689082188926,
          691.9390938902894
         ],
         "yaxis": "y2"
        },
        {
         "name": "Domestic AviationJapan2020",
         "type": "scatter",
         "visible": false,
         "x": [
          "2019-01-01",
          "2019-02-01",
          "2019-03-01",
          "2019-04-01",
          "2019-05-01",
          "2019-06-01",
          "2019-07-01",
          "2019-08-01",
          "2019-09-01",
          "2019-10-01",
          "2019-11-01",
          "2019-12-01"
         ],
         "xaxis": "x3",
         "y": [
          799.1672169066073,
          752.0618241992453,
          731.0915504205117,
          380.6609997205392,
          191.0028054815116,
          287.7500378058864,
          513.7936670382901,
          659.2494570374372,
          436.53409573829816,
          519.014116864228,
          593.3559512535353,
          644.1870226684013
         ],
         "yaxis": "y3"
        },
        {
         "name": "Ground TransportJapan2020",
         "type": "scatter",
         "visible": false,
         "x": [
          "2019-01-01",
          "2019-02-01",
          "2019-03-01",
          "2019-04-01",
          "2019-05-01",
          "2019-06-01",
          "2019-07-01",
          "2019-08-01",
          "2019-09-01",
          "2019-10-01",
          "2019-11-01",
          "2019-12-01"
         ],
         "xaxis": "x4",
         "y": [
          14653.293523273394,
          13760.915500378544,
          14004.295596349866,
          12108.220957573281,
          12389.797895540103,
          14020.992130347899,
          14537.48262328704,
          14188.240046328192,
          14298.556276315194,
          14742.001658262941,
          14159.797965331543,
          14701.147134267756
         ],
         "yaxis": "y4"
        },
        {
         "name": "Russia2019",
         "type": "scatter",
         "visible": false,
         "x": [
          "2019-01-01",
          "2019-02-01",
          "2019-03-01",
          "2019-04-01",
          "2019-05-01",
          "2019-06-01",
          "2019-07-01",
          "2019-08-01",
          "2019-09-01",
          "2019-10-01",
          "2019-11-01",
          "2019-12-01"
         ],
         "xaxis": "x",
         "y": [
          20539.43328683298,
          19591.95972965974,
          21651.742236996557,
          21379.686721863927,
          22052.82674542442,
          21511.35397613179,
          22620.574695237974,
          22581.42473099692,
          21599.20148589757,
          22489.70968911102,
          21955.657075301806,
          23098.119509061537
         ],
         "yaxis": "y"
        },
        {
         "name": "International AviationRussia2019",
         "type": "scatter",
         "visible": false,
         "x": [
          "2019-01-01",
          "2019-02-01",
          "2019-03-01",
          "2019-04-01",
          "2019-05-01",
          "2019-06-01",
          "2019-07-01",
          "2019-08-01",
          "2019-09-01",
          "2019-10-01",
          "2019-11-01",
          "2019-12-01"
         ],
         "xaxis": "x2",
         "y": [
          936.0683633071059,
          800.331978613467,
          968.3603258493494,
          1011.9386133138368,
          1170.4605040028669,
          1283.6199207527945,
          1333.158842582718,
          1338.396429286279,
          1263.3699780988857,
          1187.1979290626034,
          987.4915340928246,
          997.1820935538213
         ],
         "yaxis": "y2"
        },
        {
         "name": "Domestic AviationRussia2019",
         "type": "scatter",
         "visible": false,
         "x": [
          "2019-01-01",
          "2019-02-01",
          "2019-03-01",
          "2019-04-01",
          "2019-05-01",
          "2019-06-01",
          "2019-07-01",
          "2019-08-01",
          "2019-09-01",
          "2019-10-01",
          "2019-11-01",
          "2019-12-01"
         ],
         "xaxis": "x3",
         "y": [
          1097.6482301539577,
          1002.321560572613,
          1134.670855923412,
          1155.7668832784725,
          1284.7675172046972,
          1406.0761390519517,
          1534.9148264603991,
          1561.9715675056398,
          1441.438971481967,
          1307.8230568879537,
          1219.3933780135994,
          1274.7170834653461
         ],
         "yaxis": "y3"
        },
        {
         "name": "Ground TransportRussia2019",
         "type": "scatter",
         "visible": false,
         "x": [
          "2019-01-01",
          "2019-02-01",
          "2019-03-01",
          "2019-04-01",
          "2019-05-01",
          "2019-06-01",
          "2019-07-01",
          "2019-08-01",
          "2019-09-01",
          "2019-10-01",
          "2019-11-01",
          "2019-12-01"
         ],
         "xaxis": "x4",
         "y": [
          18505.716693371916,
          17789.306190473657,
          19548.711055223797,
          19211.98122527162,
          19597.598724216856,
          18821.657916327047,
          19752.501026194856,
          19681.056734205,
          18894.392536316718,
          19994.68870316046,
          19748.772163195383,
          20826.220332042372
         ],
         "yaxis": "y4"
        },
        {
         "name": "Russia2020",
         "type": "scatter",
         "visible": false,
         "x": [
          "2019-01-01",
          "2019-02-01",
          "2019-03-01",
          "2019-04-01",
          "2019-05-01",
          "2019-06-01",
          "2019-07-01",
          "2019-08-01",
          "2019-09-01",
          "2019-10-01",
          "2019-11-01",
          "2019-12-01"
         ],
         "xaxis": "x",
         "y": [
          21907.886636781353,
          20844.311381328258,
          20797.850198558175,
          14755.565977842762,
          16299.494569922708,
          18986.626851188845,
          20767.576503782522,
          21469.941741623195,
          21511.639094263992,
          21738.672369602024,
          20319.58474822306,
          22101.455885110103
         ],
         "yaxis": "y"
        },
        {
         "name": "International AviationRussia2020",
         "type": "scatter",
         "visible": false,
         "x": [
          "2019-01-01",
          "2019-02-01",
          "2019-03-01",
          "2019-04-01",
          "2019-05-01",
          "2019-06-01",
          "2019-07-01",
          "2019-08-01",
          "2019-09-01",
          "2019-10-01",
          "2019-11-01",
          "2019-12-01"
         ],
         "xaxis": "x2",
         "y": [
          1009.242062800469,
          848.6864426812031,
          673.715656845562,
          164.11270981330054,
          245.09961070858878,
          191.66547123243672,
          260.57989430996537,
          371.5516982484895,
          396.8372073866714,
          373.07335154876944,
          352.45569469798363,
          384.7511711114675
         ],
         "yaxis": "y2"
        },
        {
         "name": "Domestic AviationRussia2020",
         "type": "scatter",
         "visible": false,
         "x": [
          "2019-01-01",
          "2019-02-01",
          "2019-03-01",
          "2019-04-01",
          "2019-05-01",
          "2019-06-01",
          "2019-07-01",
          "2019-08-01",
          "2019-09-01",
          "2019-10-01",
          "2019-11-01",
          "2019-12-01"
         ],
         "xaxis": "x3",
         "y": [
          1255.8631017704472,
          1133.224443325793,
          1204.3659603994963,
          397.5937870451974,
          461.4525164285465,
          892.8427524987719,
          1436.7947951808062,
          1673.5998801333108,
          1487.9065986646324,
          1272.1292869068184,
          1067.2690042091342,
          1133.1450179218016
         ],
         "yaxis": "y3"
        },
        {
         "name": "Ground TransportRussia2020",
         "type": "scatter",
         "visible": false,
         "x": [
          "2019-01-01",
          "2019-02-01",
          "2019-03-01",
          "2019-04-01",
          "2019-05-01",
          "2019-06-01",
          "2019-07-01",
          "2019-08-01",
          "2019-09-01",
          "2019-10-01",
          "2019-11-01",
          "2019-12-01"
         ],
         "xaxis": "x4",
         "y": [
          19642.781472210438,
          18862.40049532126,
          18919.768581313117,
          14193.859480984263,
          15592.942442785574,
          17902.118627457636,
          19070.20181429175,
          19424.790163241396,
          19626.89528821269,
          20093.469731146433,
          18899.860049315943,
          20583.559696076834
         ],
         "yaxis": "y4"
        },
        {
         "name": "Spain2019",
         "type": "scatter",
         "visible": false,
         "x": [
          "2019-01-01",
          "2019-02-01",
          "2019-03-01",
          "2019-04-01",
          "2019-05-01",
          "2019-06-01",
          "2019-07-01",
          "2019-08-01",
          "2019-09-01",
          "2019-10-01",
          "2019-11-01",
          "2019-12-01"
         ],
         "xaxis": "x",
         "y": [
          8813.928704184946,
          8274.706877457207,
          9156.429826738971,
          9125.859567186977,
          9784.197365029057,
          9583.543903612213,
          10269.772900786336,
          10163.82750231514,
          9628.398939176392,
          10241.035229245066,
          9810.447645500317,
          9866.648144134278
         ],
         "yaxis": "y"
        },
        {
         "name": "International AviationSpain2019",
         "type": "scatter",
         "visible": false,
         "x": [
          "2019-01-01",
          "2019-02-01",
          "2019-03-01",
          "2019-04-01",
          "2019-05-01",
          "2019-06-01",
          "2019-07-01",
          "2019-08-01",
          "2019-09-01",
          "2019-10-01",
          "2019-11-01",
          "2019-12-01"
         ],
         "xaxis": "x2",
         "y": [
          1655.0167911574342,
          1515.4416484122214,
          1765.7411871892532,
          2046.8645665560794,
          2141.482313706145,
          2331.5685853357627,
          2492.7406535625264,
          2469.347299688434,
          2285.8318086102436,
          2168.046169590882,
          1660.7290772887907,
          1721.8582842691078
         ],
         "yaxis": "y2"
        },
        {
         "name": "Domestic AviationSpain2019",
         "type": "scatter",
         "visible": false,
         "x": [
          "2019-01-01",
          "2019-02-01",
          "2019-03-01",
          "2019-04-01",
          "2019-05-01",
          "2019-06-01",
          "2019-07-01",
          "2019-08-01",
          "2019-09-01",
          "2019-10-01",
          "2019-11-01",
          "2019-12-01"
         ],
         "xaxis": "x3",
         "y": [
          428.99873652014264,
          390.5047386185069,
          449.40094499500645,
          465.77366014966464,
          478.97143971837454,
          494.5641957629226,
          528.5763666002964,
          523.431641020531,
          492.98164003197377,
          483.6710469543237,
          437.6464214841727,
          460.7187581440896
         ],
         "yaxis": "y3"
        },
        {
         "name": "Ground TransportSpain2019",
         "type": "scatter",
         "visible": false,
         "x": [
          "2019-01-01",
          "2019-02-01",
          "2019-03-01",
          "2019-04-01",
          "2019-05-01",
          "2019-06-01",
          "2019-07-01",
          "2019-08-01",
          "2019-09-01",
          "2019-10-01",
          "2019-11-01",
          "2019-12-01"
         ],
         "xaxis": "x4",
         "y": [
          6729.913176507369,
          6368.760490426478,
          6941.287694554712,
          6613.221340481233,
          7163.743611604538,
          6757.411122513528,
          7248.455880623513,
          7171.048561606175,
          6849.585490534174,
          7589.3180126998595,
          7712.072146727353,
          7684.0711017210815
         ],
         "yaxis": "y4"
        },
        {
         "name": "Spain2020",
         "type": "scatter",
         "visible": false,
         "x": [
          "2019-01-01",
          "2019-02-01",
          "2019-03-01",
          "2019-04-01",
          "2019-05-01",
          "2019-06-01",
          "2019-07-01",
          "2019-08-01",
          "2019-09-01",
          "2019-10-01",
          "2019-11-01",
          "2019-12-01"
         ],
         "xaxis": "x",
         "y": [
          9636.747064735893,
          9204.546188240109,
          6468.380525568465,
          3232.579680703751,
          4084.881987874197,
          6203.940359566249,
          7997.728449258114,
          7307.539842357336,
          8243.229206462702,
          8405.505292791942,
          7840.923958601139,
          8443.08293319305
         ],
         "yaxis": "y"
        },
        {
         "name": "International AviationSpain2020",
         "type": "scatter",
         "visible": false,
         "x": [
          "2019-01-01",
          "2019-02-01",
          "2019-03-01",
          "2019-04-01",
          "2019-05-01",
          "2019-06-01",
          "2019-07-01",
          "2019-08-01",
          "2019-09-01",
          "2019-10-01",
          "2019-11-01",
          "2019-12-01"
         ],
         "xaxis": "x2",
         "y": [
          1614.4406355261408,
          1557.000111910022,
          1099.8649491901708,
          98.8828201969539,
          132.45390229127804,
          154.84957188977242,
          722.3519489048451,
          939.2260549120377,
          629.8913804841851,
          538.2596162584804,
          427.84220192636064,
          535.7422441408712
         ],
         "yaxis": "y2"
        },
        {
         "name": "Domestic AviationSpain2020",
         "type": "scatter",
         "visible": false,
         "x": [
          "2019-01-01",
          "2019-02-01",
          "2019-03-01",
          "2019-04-01",
          "2019-05-01",
          "2019-06-01",
          "2019-07-01",
          "2019-08-01",
          "2019-09-01",
          "2019-10-01",
          "2019-11-01",
          "2019-12-01"
         ],
         "xaxis": "x3",
         "y": [
          424.56024750800685,
          402.8900287074251,
          264.73205523514633,
          35.85551581294045,
          38.12395670619106,
          74.72850533833665,
          302.61633379150703,
          432.7878131158567,
          324.47290034595267,
          274.10582683274754,
          190.8900730571488,
          247.36373633649458
         ],
         "yaxis": "y3"
        },
        {
         "name": "Ground TransportSpain2020",
         "type": "scatter",
         "visible": false,
         "x": [
          "2019-01-01",
          "2019-02-01",
          "2019-03-01",
          "2019-04-01",
          "2019-05-01",
          "2019-06-01",
          "2019-07-01",
          "2019-08-01",
          "2019-09-01",
          "2019-10-01",
          "2019-11-01",
          "2019-12-01"
         ],
         "xaxis": "x4",
         "y": [
          7597.7461817017465,
          7244.656047622661,
          5103.7835211431475,
          3097.841344693856,
          3914.3041288767276,
          5974.36228233814,
          6972.760166561762,
          5935.525974329442,
          7288.864925632563,
          7593.139849700715,
          7222.19168361763,
          7659.976952715685
         ],
         "yaxis": "y4"
        }
       ],
       "layout": {
        "annotations": [
         {
          "font": {
           "size": 16
          },
          "showarrow": false,
          "text": "Total",
          "x": 0.5,
          "xanchor": "center",
          "xref": "paper",
          "y": 1,
          "yanchor": "bottom",
          "yref": "paper"
         },
         {
          "font": {
           "size": 16
          },
          "showarrow": false,
          "text": "International Aviation",
          "x": 0.5,
          "xanchor": "center",
          "xref": "paper",
          "y": 0.71875,
          "yanchor": "bottom",
          "yref": "paper"
         },
         {
          "font": {
           "size": 16
          },
          "showarrow": false,
          "text": "Domestic Aviation",
          "x": 0.5,
          "xanchor": "center",
          "xref": "paper",
          "y": 0.4375,
          "yanchor": "bottom",
          "yref": "paper"
         },
         {
          "font": {
           "size": 16
          },
          "showarrow": false,
          "text": "Ground Transport",
          "x": 0.5,
          "xanchor": "center",
          "xref": "paper",
          "y": 0.15625,
          "yanchor": "bottom",
          "yref": "paper"
         }
        ],
        "height": 1500,
        "template": {
         "data": {
          "bar": [
           {
            "error_x": {
             "color": "#2a3f5f"
            },
            "error_y": {
             "color": "#2a3f5f"
            },
            "marker": {
             "line": {
              "color": "#E5ECF6",
              "width": 0.5
             },
             "pattern": {
              "fillmode": "overlay",
              "size": 10,
              "solidity": 0.2
             }
            },
            "type": "bar"
           }
          ],
          "barpolar": [
           {
            "marker": {
             "line": {
              "color": "#E5ECF6",
              "width": 0.5
             },
             "pattern": {
              "fillmode": "overlay",
              "size": 10,
              "solidity": 0.2
             }
            },
            "type": "barpolar"
           }
          ],
          "carpet": [
           {
            "aaxis": {
             "endlinecolor": "#2a3f5f",
             "gridcolor": "white",
             "linecolor": "white",
             "minorgridcolor": "white",
             "startlinecolor": "#2a3f5f"
            },
            "baxis": {
             "endlinecolor": "#2a3f5f",
             "gridcolor": "white",
             "linecolor": "white",
             "minorgridcolor": "white",
             "startlinecolor": "#2a3f5f"
            },
            "type": "carpet"
           }
          ],
          "choropleth": [
           {
            "colorbar": {
             "outlinewidth": 0,
             "ticks": ""
            },
            "type": "choropleth"
           }
          ],
          "contour": [
           {
            "colorbar": {
             "outlinewidth": 0,
             "ticks": ""
            },
            "colorscale": [
             [
              0,
              "#0d0887"
             ],
             [
              0.1111111111111111,
              "#46039f"
             ],
             [
              0.2222222222222222,
              "#7201a8"
             ],
             [
              0.3333333333333333,
              "#9c179e"
             ],
             [
              0.4444444444444444,
              "#bd3786"
             ],
             [
              0.5555555555555556,
              "#d8576b"
             ],
             [
              0.6666666666666666,
              "#ed7953"
             ],
             [
              0.7777777777777778,
              "#fb9f3a"
             ],
             [
              0.8888888888888888,
              "#fdca26"
             ],
             [
              1,
              "#f0f921"
             ]
            ],
            "type": "contour"
           }
          ],
          "contourcarpet": [
           {
            "colorbar": {
             "outlinewidth": 0,
             "ticks": ""
            },
            "type": "contourcarpet"
           }
          ],
          "heatmap": [
           {
            "colorbar": {
             "outlinewidth": 0,
             "ticks": ""
            },
            "colorscale": [
             [
              0,
              "#0d0887"
             ],
             [
              0.1111111111111111,
              "#46039f"
             ],
             [
              0.2222222222222222,
              "#7201a8"
             ],
             [
              0.3333333333333333,
              "#9c179e"
             ],
             [
              0.4444444444444444,
              "#bd3786"
             ],
             [
              0.5555555555555556,
              "#d8576b"
             ],
             [
              0.6666666666666666,
              "#ed7953"
             ],
             [
              0.7777777777777778,
              "#fb9f3a"
             ],
             [
              0.8888888888888888,
              "#fdca26"
             ],
             [
              1,
              "#f0f921"
             ]
            ],
            "type": "heatmap"
           }
          ],
          "heatmapgl": [
           {
            "colorbar": {
             "outlinewidth": 0,
             "ticks": ""
            },
            "colorscale": [
             [
              0,
              "#0d0887"
             ],
             [
              0.1111111111111111,
              "#46039f"
             ],
             [
              0.2222222222222222,
              "#7201a8"
             ],
             [
              0.3333333333333333,
              "#9c179e"
             ],
             [
              0.4444444444444444,
              "#bd3786"
             ],
             [
              0.5555555555555556,
              "#d8576b"
             ],
             [
              0.6666666666666666,
              "#ed7953"
             ],
             [
              0.7777777777777778,
              "#fb9f3a"
             ],
             [
              0.8888888888888888,
              "#fdca26"
             ],
             [
              1,
              "#f0f921"
             ]
            ],
            "type": "heatmapgl"
           }
          ],
          "histogram": [
           {
            "marker": {
             "pattern": {
              "fillmode": "overlay",
              "size": 10,
              "solidity": 0.2
             }
            },
            "type": "histogram"
           }
          ],
          "histogram2d": [
           {
            "colorbar": {
             "outlinewidth": 0,
             "ticks": ""
            },
            "colorscale": [
             [
              0,
              "#0d0887"
             ],
             [
              0.1111111111111111,
              "#46039f"
             ],
             [
              0.2222222222222222,
              "#7201a8"
             ],
             [
              0.3333333333333333,
              "#9c179e"
             ],
             [
              0.4444444444444444,
              "#bd3786"
             ],
             [
              0.5555555555555556,
              "#d8576b"
             ],
             [
              0.6666666666666666,
              "#ed7953"
             ],
             [
              0.7777777777777778,
              "#fb9f3a"
             ],
             [
              0.8888888888888888,
              "#fdca26"
             ],
             [
              1,
              "#f0f921"
             ]
            ],
            "type": "histogram2d"
           }
          ],
          "histogram2dcontour": [
           {
            "colorbar": {
             "outlinewidth": 0,
             "ticks": ""
            },
            "colorscale": [
             [
              0,
              "#0d0887"
             ],
             [
              0.1111111111111111,
              "#46039f"
             ],
             [
              0.2222222222222222,
              "#7201a8"
             ],
             [
              0.3333333333333333,
              "#9c179e"
             ],
             [
              0.4444444444444444,
              "#bd3786"
             ],
             [
              0.5555555555555556,
              "#d8576b"
             ],
             [
              0.6666666666666666,
              "#ed7953"
             ],
             [
              0.7777777777777778,
              "#fb9f3a"
             ],
             [
              0.8888888888888888,
              "#fdca26"
             ],
             [
              1,
              "#f0f921"
             ]
            ],
            "type": "histogram2dcontour"
           }
          ],
          "mesh3d": [
           {
            "colorbar": {
             "outlinewidth": 0,
             "ticks": ""
            },
            "type": "mesh3d"
           }
          ],
          "parcoords": [
           {
            "line": {
             "colorbar": {
              "outlinewidth": 0,
              "ticks": ""
             }
            },
            "type": "parcoords"
           }
          ],
          "pie": [
           {
            "automargin": true,
            "type": "pie"
           }
          ],
          "scatter": [
           {
            "fillpattern": {
             "fillmode": "overlay",
             "size": 10,
             "solidity": 0.2
            },
            "type": "scatter"
           }
          ],
          "scatter3d": [
           {
            "line": {
             "colorbar": {
              "outlinewidth": 0,
              "ticks": ""
             }
            },
            "marker": {
             "colorbar": {
              "outlinewidth": 0,
              "ticks": ""
             }
            },
            "type": "scatter3d"
           }
          ],
          "scattercarpet": [
           {
            "marker": {
             "colorbar": {
              "outlinewidth": 0,
              "ticks": ""
             }
            },
            "type": "scattercarpet"
           }
          ],
          "scattergeo": [
           {
            "marker": {
             "colorbar": {
              "outlinewidth": 0,
              "ticks": ""
             }
            },
            "type": "scattergeo"
           }
          ],
          "scattergl": [
           {
            "marker": {
             "colorbar": {
              "outlinewidth": 0,
              "ticks": ""
             }
            },
            "type": "scattergl"
           }
          ],
          "scattermapbox": [
           {
            "marker": {
             "colorbar": {
              "outlinewidth": 0,
              "ticks": ""
             }
            },
            "type": "scattermapbox"
           }
          ],
          "scatterpolar": [
           {
            "marker": {
             "colorbar": {
              "outlinewidth": 0,
              "ticks": ""
             }
            },
            "type": "scatterpolar"
           }
          ],
          "scatterpolargl": [
           {
            "marker": {
             "colorbar": {
              "outlinewidth": 0,
              "ticks": ""
             }
            },
            "type": "scatterpolargl"
           }
          ],
          "scatterternary": [
           {
            "marker": {
             "colorbar": {
              "outlinewidth": 0,
              "ticks": ""
             }
            },
            "type": "scatterternary"
           }
          ],
          "surface": [
           {
            "colorbar": {
             "outlinewidth": 0,
             "ticks": ""
            },
            "colorscale": [
             [
              0,
              "#0d0887"
             ],
             [
              0.1111111111111111,
              "#46039f"
             ],
             [
              0.2222222222222222,
              "#7201a8"
             ],
             [
              0.3333333333333333,
              "#9c179e"
             ],
             [
              0.4444444444444444,
              "#bd3786"
             ],
             [
              0.5555555555555556,
              "#d8576b"
             ],
             [
              0.6666666666666666,
              "#ed7953"
             ],
             [
              0.7777777777777778,
              "#fb9f3a"
             ],
             [
              0.8888888888888888,
              "#fdca26"
             ],
             [
              1,
              "#f0f921"
             ]
            ],
            "type": "surface"
           }
          ],
          "table": [
           {
            "cells": {
             "fill": {
              "color": "#EBF0F8"
             },
             "line": {
              "color": "white"
             }
            },
            "header": {
             "fill": {
              "color": "#C8D4E3"
             },
             "line": {
              "color": "white"
             }
            },
            "type": "table"
           }
          ]
         },
         "layout": {
          "annotationdefaults": {
           "arrowcolor": "#2a3f5f",
           "arrowhead": 0,
           "arrowwidth": 1
          },
          "autotypenumbers": "strict",
          "coloraxis": {
           "colorbar": {
            "outlinewidth": 0,
            "ticks": ""
           }
          },
          "colorscale": {
           "diverging": [
            [
             0,
             "#8e0152"
            ],
            [
             0.1,
             "#c51b7d"
            ],
            [
             0.2,
             "#de77ae"
            ],
            [
             0.3,
             "#f1b6da"
            ],
            [
             0.4,
             "#fde0ef"
            ],
            [
             0.5,
             "#f7f7f7"
            ],
            [
             0.6,
             "#e6f5d0"
            ],
            [
             0.7,
             "#b8e186"
            ],
            [
             0.8,
             "#7fbc41"
            ],
            [
             0.9,
             "#4d9221"
            ],
            [
             1,
             "#276419"
            ]
           ],
           "sequential": [
            [
             0,
             "#0d0887"
            ],
            [
             0.1111111111111111,
             "#46039f"
            ],
            [
             0.2222222222222222,
             "#7201a8"
            ],
            [
             0.3333333333333333,
             "#9c179e"
            ],
            [
             0.4444444444444444,
             "#bd3786"
            ],
            [
             0.5555555555555556,
             "#d8576b"
            ],
            [
             0.6666666666666666,
             "#ed7953"
            ],
            [
             0.7777777777777778,
             "#fb9f3a"
            ],
            [
             0.8888888888888888,
             "#fdca26"
            ],
            [
             1,
             "#f0f921"
            ]
           ],
           "sequentialminus": [
            [
             0,
             "#0d0887"
            ],
            [
             0.1111111111111111,
             "#46039f"
            ],
            [
             0.2222222222222222,
             "#7201a8"
            ],
            [
             0.3333333333333333,
             "#9c179e"
            ],
            [
             0.4444444444444444,
             "#bd3786"
            ],
            [
             0.5555555555555556,
             "#d8576b"
            ],
            [
             0.6666666666666666,
             "#ed7953"
            ],
            [
             0.7777777777777778,
             "#fb9f3a"
            ],
            [
             0.8888888888888888,
             "#fdca26"
            ],
            [
             1,
             "#f0f921"
            ]
           ]
          },
          "colorway": [
           "#636efa",
           "#EF553B",
           "#00cc96",
           "#ab63fa",
           "#FFA15A",
           "#19d3f3",
           "#FF6692",
           "#B6E880",
           "#FF97FF",
           "#FECB52"
          ],
          "font": {
           "color": "#2a3f5f"
          },
          "geo": {
           "bgcolor": "white",
           "lakecolor": "white",
           "landcolor": "#E5ECF6",
           "showlakes": true,
           "showland": true,
           "subunitcolor": "white"
          },
          "hoverlabel": {
           "align": "left"
          },
          "hovermode": "closest",
          "mapbox": {
           "style": "light"
          },
          "paper_bgcolor": "white",
          "plot_bgcolor": "#E5ECF6",
          "polar": {
           "angularaxis": {
            "gridcolor": "white",
            "linecolor": "white",
            "ticks": ""
           },
           "bgcolor": "#E5ECF6",
           "radialaxis": {
            "gridcolor": "white",
            "linecolor": "white",
            "ticks": ""
           }
          },
          "scene": {
           "xaxis": {
            "backgroundcolor": "#E5ECF6",
            "gridcolor": "white",
            "gridwidth": 2,
            "linecolor": "white",
            "showbackground": true,
            "ticks": "",
            "zerolinecolor": "white"
           },
           "yaxis": {
            "backgroundcolor": "#E5ECF6",
            "gridcolor": "white",
            "gridwidth": 2,
            "linecolor": "white",
            "showbackground": true,
            "ticks": "",
            "zerolinecolor": "white"
           },
           "zaxis": {
            "backgroundcolor": "#E5ECF6",
            "gridcolor": "white",
            "gridwidth": 2,
            "linecolor": "white",
            "showbackground": true,
            "ticks": "",
            "zerolinecolor": "white"
           }
          },
          "shapedefaults": {
           "line": {
            "color": "#2a3f5f"
           }
          },
          "ternary": {
           "aaxis": {
            "gridcolor": "white",
            "linecolor": "white",
            "ticks": ""
           },
           "baxis": {
            "gridcolor": "white",
            "linecolor": "white",
            "ticks": ""
           },
           "bgcolor": "#E5ECF6",
           "caxis": {
            "gridcolor": "white",
            "linecolor": "white",
            "ticks": ""
           }
          },
          "title": {
           "x": 0.05
          },
          "xaxis": {
           "automargin": true,
           "gridcolor": "white",
           "linecolor": "white",
           "ticks": "",
           "title": {
            "standoff": 15
           },
           "zerolinecolor": "white",
           "zerolinewidth": 2
          },
          "yaxis": {
           "automargin": true,
           "gridcolor": "white",
           "linecolor": "white",
           "ticks": "",
           "title": {
            "standoff": 15
           },
           "zerolinecolor": "white",
           "zerolinewidth": 2
          }
         }
        },
        "title": {
         "text": "CO2 emissions comparison 2019 versus 2020"
        },
        "updatemenus": [
         {
          "buttons": [
           {
            "args": [
             {
              "visible": [
               true,
               true,
               false,
               false,
               false,
               false,
               false,
               false,
               false,
               false,
               false,
               false,
               false,
               false,
               false,
               false,
               false,
               false,
               false,
               false,
               false,
               false
              ]
             },
             {
              "title": "CO2 emissions comparison 2019 versus 2020 by sector in UK"
             }
            ],
            "label": "UK",
            "method": "update"
           },
           {
            "args": [
             {
              "visible": [
               false,
               false,
               true,
               true,
               false,
               false,
               false,
               false,
               false,
               false,
               false,
               false,
               false,
               false,
               false,
               false,
               false,
               false,
               false,
               false,
               false,
               false
              ]
             },
             {
              "title": "CO2 emissions comparison 2019 versus 2020 by sector in US"
             }
            ],
            "label": "US",
            "method": "update"
           },
           {
            "args": [
             {
              "visible": [
               false,
               false,
               false,
               false,
               true,
               true,
               false,
               false,
               false,
               false,
               false,
               false,
               false,
               false,
               false,
               false,
               false,
               false,
               false,
               false,
               false,
               false
              ]
             },
             {
              "title": "CO2 emissions comparison 2019 versus 2020 by sector in China"
             }
            ],
            "label": "China",
            "method": "update"
           },
           {
            "args": [
             {
              "visible": [
               false,
               false,
               false,
               false,
               false,
               false,
               true,
               true,
               false,
               false,
               false,
               false,
               false,
               false,
               false,
               false,
               false,
               false,
               false,
               false,
               false,
               false
              ]
             },
             {
              "title": "CO2 emissions comparison 2019 versus 2020 by sector in EU27 & UK"
             }
            ],
            "label": "EU27 & UK",
            "method": "update"
           },
           {
            "args": [
             {
              "visible": [
               false,
               false,
               false,
               false,
               false,
               false,
               false,
               false,
               true,
               true,
               false,
               false,
               false,
               false,
               false,
               false,
               false,
               false,
               false,
               false,
               false,
               false
              ]
             },
             {
              "title": "CO2 emissions comparison 2019 versus 2020 by sector in France"
             }
            ],
            "label": "France",
            "method": "update"
           },
           {
            "args": [
             {
              "visible": [
               false,
               false,
               false,
               false,
               false,
               false,
               false,
               false,
               false,
               false,
               true,
               true,
               false,
               false,
               false,
               false,
               false,
               false,
               false,
               false,
               false,
               false
              ]
             },
             {
              "title": "CO2 emissions comparison 2019 versus 2020 by sector in Germany"
             }
            ],
            "label": "Germany",
            "method": "update"
           },
           {
            "args": [
             {
              "visible": [
               false,
               false,
               false,
               false,
               false,
               false,
               false,
               false,
               false,
               false,
               false,
               false,
               true,
               true,
               false,
               false,
               false,
               false,
               false,
               false,
               false,
               false
              ]
             },
             {
              "title": "CO2 emissions comparison 2019 versus 2020 by sector in India"
             }
            ],
            "label": "India",
            "method": "update"
           },
           {
            "args": [
             {
              "visible": [
               false,
               false,
               false,
               false,
               false,
               false,
               false,
               false,
               false,
               false,
               false,
               false,
               false,
               false,
               true,
               true,
               false,
               false,
               false,
               false,
               false,
               false
              ]
             },
             {
              "title": "CO2 emissions comparison 2019 versus 2020 by sector in Italy"
             }
            ],
            "label": "Italy",
            "method": "update"
           },
           {
            "args": [
             {
              "visible": [
               false,
               false,
               false,
               false,
               false,
               false,
               false,
               false,
               false,
               false,
               false,
               false,
               false,
               false,
               false,
               false,
               true,
               true,
               false,
               false,
               false,
               false
              ]
             },
             {
              "title": "CO2 emissions comparison 2019 versus 2020 by sector in Japan"
             }
            ],
            "label": "Japan",
            "method": "update"
           },
           {
            "args": [
             {
              "visible": [
               false,
               false,
               false,
               false,
               false,
               false,
               false,
               false,
               false,
               false,
               false,
               false,
               false,
               false,
               false,
               false,
               false,
               false,
               true,
               true,
               false,
               false
              ]
             },
             {
              "title": "CO2 emissions comparison 2019 versus 2020 by sector in Russia"
             }
            ],
            "label": "Russia",
            "method": "update"
           },
           {
            "args": [
             {
              "visible": [
               false,
               false,
               false,
               false,
               false,
               false,
               false,
               false,
               false,
               false,
               false,
               false,
               false,
               false,
               false,
               false,
               false,
               false,
               false,
               false,
               true,
               true
              ]
             },
             {
              "title": "CO2 emissions comparison 2019 versus 2020 by sector in Spain"
             }
            ],
            "label": "Spain",
            "method": "update"
           }
          ],
          "direction": "down",
          "pad": {
           "r": 10,
           "t": 10
          },
          "showactive": true,
          "x": 0,
          "xanchor": "left",
          "y": 1.04,
          "yanchor": "top"
         }
        ],
        "xaxis": {
         "anchor": "y",
         "domain": [
          0,
          1
         ],
         "tickformat": "%d-%B",
         "title": {
          "text": "Date"
         }
        },
        "xaxis2": {
         "anchor": "y2",
         "domain": [
          0,
          1
         ],
         "tickformat": "%d-%B",
         "title": {
          "text": "Date"
         }
        },
        "xaxis3": {
         "anchor": "y3",
         "domain": [
          0,
          1
         ],
         "tickformat": "%d-%B",
         "title": {
          "text": "Date"
         }
        },
        "xaxis4": {
         "anchor": "y4",
         "domain": [
          0,
          1
         ],
         "tickformat": "%d-%B",
         "title": {
          "text": "Date"
         }
        },
        "yaxis": {
         "anchor": "x",
         "domain": [
          0.84375,
          1
         ],
         "title": {
          "text": "CO2 emissions x 1000 (ppm)"
         }
        },
        "yaxis2": {
         "anchor": "x2",
         "domain": [
          0.5625,
          0.71875
         ],
         "title": {
          "text": "CO2 emissions x 1000 (ppm)"
         }
        },
        "yaxis3": {
         "anchor": "x3",
         "domain": [
          0.28125,
          0.4375
         ],
         "title": {
          "text": "CO2 emissions x 1000 (ppm)"
         }
        },
        "yaxis4": {
         "anchor": "x4",
         "domain": [
          0,
          0.15625
         ],
         "title": {
          "text": "CO2 emissions x 1000 (ppm)"
         }
        }
       }
      }
     },
     "metadata": {},
     "output_type": "display_data"
    }
   ],
   "source": [
    "# filter dataset on Transport sectors: 'International Shipping' or 'International Aviation' or 'Domestic Aviation' or 'Ground Transport'\n",
    "sectors = ['International Shipping', 'International Aviation', 'Domestic Aviation', 'Ground Transport']\n",
    "Transport_Sector =  df_filt[df_filt.sector.isin(sectors)]\n",
    "\n",
    "Transport_not_World = Transport_Sector[Transport_Sector.country != 'WORLD'].groupby(['country', 'date']).sum()\n",
    "\n",
    "#reset index for optimal dataset and split date into years\n",
    "\n",
    "abc = Transport_not_World.reset_index(['country', 'date'])\n",
    "abc[[\"year\", \"month\", \"day\"]] = abc[\"date\"].str.split(\"-\", expand = True)\n",
    "abc['Date2'] = '2019' + '-' + abc['month'].astype(str) + '-' + abc['day']\n",
    "\n",
    "fig = go.Figure()\n",
    "# add trace\n",
    "Years = ['2019', '2020']\n",
    "Countries = ['UK', 'US', 'China', 'EU27 & UK', 'France', 'Germany', 'India', 'Italy', 'Japan', 'Russia', 'Spain']\n",
    "months = list(abc.month.unique())\n",
    "\n",
    "for k in Countries:\n",
    "    for i in Years:\n",
    "        z = abc[(abc.country == k) & (abc.year == i)]\n",
    "        lop = fig.add_trace(\n",
    "                go.Scatter(x=list(z.Date2),\n",
    "                        y=list(z.co2),\n",
    "                        name= k + i,\n",
    "                        visible =True))\n",
    "\n",
    "\n",
    "list_updatemenus = []\n",
    "\n",
    "for n, country in enumerate(Countries):\n",
    "    visible = [False] * 2 * len(Countries)\n",
    "    visible[2*n] = True\n",
    "    visible[2*n + 1] = True\n",
    "    temp_dict = dict(label = str(country),\n",
    "                 method = 'update',\n",
    "                 args = [{'visible': visible},\n",
    "                         {'title': ('CO2 emissions comparison 2019 versus 2020 in %s'% country)}])\n",
    "    list_updatemenus.append(temp_dict)\n",
    "    \n",
    "Transport_not_World = Transport_Sector[Transport_Sector.country != 'WORLD'].groupby(['country', 'date']).sum()\n",
    "#reset index for optimal dataset and split date into years\n",
    "\n",
    "abc = Transport_not_World.reset_index(['country', 'date'])\n",
    "abc[[\"year\", \"month\", \"day\"]] = abc[\"date\"].str.split(\"-\", expand = True)\n",
    "\n",
    "# create dataframe for sector\n",
    "\n",
    "Transport_Sector[[\"year\", \"month\", \"day\"]] = Transport_Sector[\"date\"].str.split(\"-\", expand = True)\n",
    "Transport_Sector['Date2'] = '2019' + '-' + Transport_Sector['month'].astype(str) + '-' + Transport_Sector['day']\n",
    "Transport_Sector2 = Transport_Sector[(Transport_Sector.year == '2019') | (Transport_Sector.year == '2020')]\n",
    "\n",
    "Transport_not_World = Transport_Sector[Transport_Sector.country != 'WORLD'].groupby(['country', 'date']).sum()\n",
    "\n",
    "#reset index for optimal dataset and split date into years\n",
    "\n",
    "abc = Transport_not_World.reset_index(['country', 'date'])\n",
    "abc[[\"year\", \"month\", \"day\"]] = abc[\"date\"].str.split(\"-\", expand = True)\n",
    "abc['Date2'] = '2019' + '-' + abc['month'].astype(str) + '-' + abc['day']\n",
    "\n",
    "# add trace\n",
    "Years = ['2019', '2020']\n",
    "Countries = ['UK', 'US', 'China', 'EU27 & UK', 'France', 'Germany', 'India', 'Italy', 'Japan', 'Russia', 'Spain']\n",
    "sectors = ['International Aviation', 'Domestic Aviation', 'Ground Transport']\n",
    "\n",
    "fig = make_subplots(rows = 4, \n",
    "                    cols = 1,\n",
    "                    subplot_titles = ('Total', 'International Aviation', 'Domestic Aviation', 'Ground Transport'))\n",
    "\n",
    "for k in Countries:\n",
    "    for i in Years:\n",
    "        z = abc[(abc.country == k) & (abc.year == i)]\n",
    "        Int_Av = Transport_Sector2[(Transport_Sector2.country == k) & (Transport_Sector2.year == i) & (Transport_Sector2.sector == 'International Aviation')]\n",
    "        Do_Av = Transport_Sector2[(Transport_Sector2.country == k) & (Transport_Sector2.year == i) & (Transport_Sector2.sector == 'Domestic Aviation')]\n",
    "        Gr_Trans = Transport_Sector2[(Transport_Sector2.country == k) & (Transport_Sector2.year == i) & (Transport_Sector2.sector == 'Ground Transport')]\n",
    "        lop = fig.add_traces(\n",
    "                [\n",
    "                    go.Scatter(x=list(z.Date2),\n",
    "                        y=list(z.co2),\n",
    "                        name= k + i,\n",
    "                        visible = False),        \n",
    "                    go.Scatter(x=list(Int_Av.Date2),\n",
    "                            y=list(Int_Av.co2),\n",
    "                            name= 'International Aviation' + k + i,\n",
    "                            visible = False),\n",
    "                    go.Scatter(x=list(Do_Av.Date2),\n",
    "                            y=list(Do_Av.co2),\n",
    "                            name= 'Domestic Aviation' + k + i,\n",
    "                            visible = False),\n",
    "                    go.Scatter(x=list(Gr_Trans.Date2),\n",
    "                            y=list(Gr_Trans.co2),\n",
    "                            name= 'Ground Transport' + k + i,\n",
    "                            visible = False)\n",
    "                ], rows=list(range(1,5)), cols=[1, 1,1,1])\n",
    "\n",
    "fig.update_layout(\n",
    "    height = 1500\n",
    ")\n",
    "\n",
    "list_updatemenus = []\n",
    "\n",
    "\n",
    "for n, country in enumerate(Countries):\n",
    "    visible = [False] * 2 * len(Countries)\n",
    "    visible[2*n] = True\n",
    "    visible[2*n + 1] = True\n",
    "    temp_dict = dict(label = str(country),\n",
    "                 method = 'update',\n",
    "                 args = [{'visible': visible},\n",
    "                         {'title': ('CO2 emissions comparison 2019 versus 2020 by sector in %s'% country)}])\n",
    "    list_updatemenus.append(temp_dict)\n",
    "\n",
    "fig.update_layout(\n",
    "    updatemenus=[\n",
    "        dict(\n",
    "            direction=\"down\",\n",
    "            pad={\"r\": 10, \"t\": 10},\n",
    "            showactive=True,\n",
    "            x=0,\n",
    "            xanchor=\"left\",\n",
    "            y=1.04,\n",
    "            yanchor=\"top\"\n",
    "        ),\n",
    "    ]\n",
    ")\n",
    "fig.update_layout(updatemenus=list([dict(buttons= list_updatemenus)]), xaxis_title = 'Date', yaxis_title = 'CO2 emissions x 1000 (ppm)')\n",
    "fig.update_layout(title_text = 'CO2 emissions comparison 2019 versus 2020')\n",
    "fig.update_layout(xaxis=dict(tickformat=\"%d-%B\"),\n",
    "                 xaxis2=dict(tickformat=\"%d-%B\"),\n",
    "                 xaxis3=dict(tickformat=\"%d-%B\"),\n",
    "                 xaxis4=dict(tickformat=\"%d-%B\")\n",
    "                 )\n",
    "fig['layout']['yaxis2']['title']='CO2 emissions x 1000 (ppm)'\n",
    "fig['layout']['yaxis3']['title']='CO2 emissions x 1000 (ppm)'\n",
    "fig['layout']['yaxis4']['title']='CO2 emissions x 1000 (ppm)'\n",
    "fig['layout']['xaxis2']['title']='Date'\n",
    "fig['layout']['xaxis3']['title']='Date'\n",
    "fig['layout']['xaxis4']['title']='Date'\n",
    "\n",
    "\n",
    "fig.show()\n"
   ]
  }
 ],
 "metadata": {
  "kernelspec": {
   "display_name": "Python 3.10.6 ('TIL6022')",
   "language": "python",
   "name": "python3"
  },
  "language_info": {
   "codemirror_mode": {
    "name": "ipython",
    "version": 3
   },
   "file_extension": ".py",
   "mimetype": "text/x-python",
   "name": "python",
   "nbconvert_exporter": "python",
   "pygments_lexer": "ipython3",
   "version": "3.10.6"
  },
  "orig_nbformat": 4,
  "vscode": {
   "interpreter": {
    "hash": "912e563e9dcba4627191cc3d93bbeccfd6aeff90cb759bc69d8ed01eba93c0fe"
   }
  }
 },
 "nbformat": 4,
 "nbformat_minor": 2
}
