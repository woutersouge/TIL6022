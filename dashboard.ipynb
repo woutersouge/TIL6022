{
 "cells": [
  {
   "cell_type": "code",
   "execution_count": 36,
   "metadata": {},
   "outputs": [
    {
     "data": {
      "text/plain": [
       "country     object\n",
       "sector      object\n",
       "date        object\n",
       "co2        float64\n",
       "dtype: object"
      ]
     },
     "execution_count": 36,
     "metadata": {},
     "output_type": "execute_result"
    }
   ],
   "source": [
    "import streamlit as st\n",
    "import json\n",
    "import plotly.express as px\n",
    "import pandas as pd\n",
    "import geopandas as gpd\n",
    "import geojson\n",
    "import folium\n",
    "import numpy as np\n",
    "import datetime\n",
    "from shapely.geometry import Polygon, mapping\n",
    "\n",
    "dataset = 'TILL6022_Emission_Dataset.csv'\n",
    "df = pd.read_csv(dataset, delimiter=',', encoding='ISO-8859-1') #,parse_dates = ['date']\n",
    "country_bb = pd.read_csv('country_bb.csv', delimiter=',', encoding='ISO-8859-1')\n",
    "# country_bb.set_index('country', inplace=True)\n",
    "#df.set_index('country', inplace=True)\n",
    "#sf = df[df.date == '2019-01-01']\n",
    "# vf = df[df.sector == 'Total']\n",
    "df.date = pd.to_datetime(df.date)\n",
    "df_filt = df.groupby(['country','sector']).resample('MS',on='date').sum()    #D for Day, MS for month, QS to quarter, Y for year\n",
    "df_filt = df_filt.reset_index()\n",
    "df_filt.date = np.datetime_as_string(df_filt.date, unit='D')\n",
    "df_filt.dtypes\n"
   ]
  },
  {
   "cell_type": "markdown",
   "metadata": {},
   "source": [
    "Useful commands for geopandas\n",
    "#ar = gdf[gdf.ADMIN == 'Aruba'] #To find the country Aruba\n",
    "#print(ar.area)                 #Print area of country Aruba\n",
    "# gdf.ADMIN['Aruba']\n",
    "#counties['features'][3]['geometry'] access coordinates and type"
   ]
  },
  {
   "cell_type": "code",
   "execution_count": 2,
   "metadata": {},
   "outputs": [],
   "source": [
    "# with open(\"B:\\Documenten\\TU_Delft\\Master\\Module_1\\Python\\Assignment\\TIL6022\\countries.geojson\") as f:\n",
    "#     counties = geojson.load(f)\n",
    "# gdf = gpd.GeoDataFrame.from_features(counties[\"features\"], crs=4326)\n",
    "# mask = gdf.area >2    # Function to remove smaller countries to speed up \n",
    "# gdf_selec = gdf.loc[mask]\n",
    "# gdf_selec.head()\n",
    "# ar = gdf[gdf.ADMIN == 'China']['geometry'] # access geometry data of China\n",
    "\n",
    "#counties['features'][3]['geometry'] access coordinates and type\n",
    "#counties['features']['properties']\n",
    "with open(\"B:\\Documenten\\TU_Delft\\Master\\Module_1\\Python\\Assignment\\TIL6022\\countries_simp.geojson\") as f:\n",
    "    counties = json.load(f)\n",
    "with open(\"B:\\Documenten\\TU_Delft\\Master\\Module_1\\Python\\Assignment\\TIL6022\\countries_simp.geojson\") as f:\n",
    "    counties = json.load(f)\n",
    "# gdf = gpd.GeoDataFrame.from_features(counties[\"features\"], crs=4326)\n"
   ]
  },
  {
   "cell_type": "code",
   "execution_count": 3,
   "metadata": {},
   "outputs": [
    {
     "data": {
      "text/plain": [
       "{'type': 'Feature',\n",
       " 'geometry': None,\n",
       " 'properties': {'ADMIN': 'Aruba', 'ISO_A3': 'ABW'}}"
      ]
     },
     "execution_count": 3,
     "metadata": {},
     "output_type": "execute_result"
    }
   ],
   "source": [
    "# dept_geo = [0]*len(counties['features'])\n",
    "\n",
    "# Get data from dataset (using json.loads to transform string into dict for geoshape column)\n",
    "# cd_depts = gdf.ADMIN.tolist()\n",
    "# dept_geo[0] = counties['features'][0]['geometry']['coordinates']\n",
    "counties['features'][0]"
   ]
  },
  {
   "cell_type": "code",
   "execution_count": 40,
   "metadata": {},
   "outputs": [],
   "source": [
    "shapes = [0]*len(counties['features'])\n",
    "for feature in range(len(counties['features'])):\n",
    "  shapes[feature] = counties['features'][feature]['geometry']['coordinates']\n",
    "  # for cood in range(len(feature['geometry']['coordinates'])):\n",
    "    # shapes[cood] = feature['geometry'][cood]['coordinates']\n",
    "cd_depts = gdf.ADMIN.tolist()\n",
    "for cd_dept, shape in zip(cd_depts, shapes):\n",
    "    \n",
    "    # Mapping information from data to GeoJSON file\n",
    "    dept_geo.append({\n",
    "        'type': 'Feature',\n",
    "        'geometry': shape,\n",
    "        'id':cd_dept\n",
    "    })\n",
    "\n",
    "# Encapsulate dept_geo in a real GeoJSON formatted file\n",
    "dept_geo_ok = {'type': 'FeatureCollection', 'features': dept_geo}"
   ]
  },
  {
   "cell_type": "code",
   "execution_count": 24,
   "metadata": {},
   "outputs": [],
   "source": [
    "# import pandas as pd\n",
    "# import plotly\n",
    "# import numpy as np\n",
    "\n",
    "\n",
    "# from urllib.request import urlopen\n",
    "# import json\n",
    "# with urlopen('https://opendata.arcgis.com/datasets/c572ffec290b42768f80e43d31ac53a6_0.geojson') as response:\n",
    "#     counties = json.load(response)\n",
    "    \n",
    "# df = pd.read_excel('testdata.xlsx',dtype={\"cty19cd\": str})\n",
    "# df.columns=['CODE','NAME','VALUE']\n",
    "\n",
    "# import plotly.express as px\n",
    "\n",
    "# fig = px.choropleth(df, geojson=counties, locations='CODE', featureidkey=\"properties.cty19cd\", color='VALUE',\n",
    "#                            color_continuous_scale=\"Inferno\",\n",
    "#                             scope=\"europe\")\n",
    "\n",
    "# fig.update_geos( fitbounds=\"locations\", visible=True)\n",
    "# fig.write_html('maptest.html',auto_open=True)"
   ]
  },
  {
   "cell_type": "code",
   "execution_count": 25,
   "metadata": {},
   "outputs": [
    {
     "ename": "NameError",
     "evalue": "name 'gdf' is not defined",
     "output_type": "error",
     "traceback": [
      "\u001b[1;31m---------------------------------------------------------------------------\u001b[0m",
      "\u001b[1;31mNameError\u001b[0m                                 Traceback (most recent call last)",
      "Cell \u001b[1;32mIn [25], line 18\u001b[0m\n\u001b[0;32m     15\u001b[0m dept_geo \u001b[39m=\u001b[39m []\n\u001b[0;32m     17\u001b[0m \u001b[39m# Get data from dataset (using json.loads to transform string into dict for geoshape column)\u001b[39;00m\n\u001b[1;32m---> 18\u001b[0m cd_depts \u001b[39m=\u001b[39m gdf\u001b[39m.\u001b[39mADMIN\u001b[39m.\u001b[39mtolist()\n\u001b[0;32m     19\u001b[0m shapes \u001b[39m=\u001b[39m gdf\u001b[39m.\u001b[39mgeometry\n\u001b[0;32m     20\u001b[0m cd \u001b[39m=\u001b[39m mapping(shapes)\n",
      "\u001b[1;31mNameError\u001b[0m: name 'gdf' is not defined"
     ]
    }
   ],
   "source": [
    "# map = folium.Map(\n",
    "#     location=[\n",
    "#         gdf_selec.geometry.bounds.miny.mean(),\n",
    "#         gdf_selec.geometry.bounds.minx.mean()\n",
    "#     ],\n",
    "#     zoom_start=1\n",
    "# )\n",
    "\n",
    "# gjson = folium.features.GeoJson(\n",
    "#     gdf_selec,\n",
    "# ).add_to(map)\n",
    "# map\n",
    "\n",
    "# Encapsulate dept_geo in a real GeoJSON formatted file\n",
    "dept_geo = []\n",
    "\n",
    "# Get data from dataset (using json.loads to transform string into dict for geoshape column)\n",
    "cd_depts = gdf.ADMIN.tolist()\n",
    "shapes = gdf.geometry\n",
    "cd = mapping(shapes)\n",
    "# # Iterate over lines\n",
    "for cd_dept, shape in zip(cd_depts, shapes):\n",
    "    \n",
    "    # Mapping information from data to GeoJSON file\n",
    "    dept_geo.append({\n",
    "        'type': 'Feature',\n",
    "        'geometry': shape,\n",
    "        'id':cd_dept\n",
    "    })\n",
    "\n",
    "# Encapsulate dept_geo in a real GeoJSON formatted file\n",
    "dept_geo_ok = {'type': 'FeatureCollection', 'features': dept_geo}\n"
   ]
  },
  {
   "cell_type": "code",
   "execution_count": 62,
   "metadata": {},
   "outputs": [],
   "source": [
    "# fig = px.choropleth(vf, geojson=gdf_selec, color=\"co2\",\n",
    "#                     locations=\"ISO-A3\", featureidkey=\"properties.district\",\n",
    "#                     projection=\"mercator\"\n",
    "#                    )\n",
    "# fig.update_geos(fitbounds=\"locations\", visible=False)\n",
    "# fig.update_layout(margin={\"r\":0,\"t\":0,\"l\":0,\"b\":0})\n",
    "# fig.show()\n",
    "given_time = st.selectbox('Select time period to visualise', ['Day','Month','Quartile','Year'])\n",
    "if given_time == 'Day':\n",
    "    date_filt = 'D'\n",
    "elif given_time == 'Month':\n",
    "    date_filt = 'MS'\n",
    "elif given_time == 'Quartile':\n",
    "    date_filt = 'QS'\n",
    "elif given_time == 'Year':\n",
    "    date_filt = 'Y'\n",
    "\n",
    "given_sector = st.selectbox('Select sector to visualise', df.sector.unique())\n",
    "\n",
    "default_country = int(np.where(df['country'].unique() == 'WORLD')[0])\n",
    "given_country = st.selectbox('Select country to visualise', df.country.unique(), index = default_country)\n",
    "# given_country = \"China\"\n",
    "# country_bb.country.index(given_country)\n",
    "# country_bb.country[(country_bb.country.values==given_country).any(0)]\n",
    "if (given_country == 'WORLD' or given_country == 'ROW' or given_country == 'EU27 & UK'):\n",
    "    latrange = [-90,90]\n",
    "    lonrange = [-180,180]\n",
    "elif given_country == 'US':\n",
    "    given_country == 'United States'\n",
    "    given_country_bb = country_bb[country_bb.country == given_country]\n",
    "    latrange = [float(given_country_bb['latmin']),float(given_country_bb['latmax'])]\n",
    "    lonrange = [float(given_country_bb['lonmin']),float(given_country_bb['lonmax'])]\n",
    "else:\n",
    "    given_country_bb = country_bb[country_bb.country == given_country]\n",
    "    latrange = [float(given_country_bb['latmin']),float(given_country_bb['latmax'])]\n",
    "    lonrange = [float(given_country_bb['lonmin']),float(given_country_bb['lonmax'])]\n"
   ]
  },
  {
   "cell_type": "code",
   "execution_count": 63,
   "metadata": {},
   "outputs": [
    {
     "data": {
      "application/vnd.plotly.v1+json": {
       "config": {
        "plotlyServerURL": "https://plot.ly"
       },
       "data": [
        {
         "coloraxis": "coloraxis",
         "geo": "geo",
         "hovertemplate": "date=2019-01-01<br>country=%{location}<br>co2=%{z}<extra></extra>",
         "locationmode": "country names",
         "locations": [
          "Brazil",
          "China",
          "EU27 & UK",
          "France",
          "Germany",
          "India",
          "Italy",
          "Japan",
          "ROW",
          "Russia",
          "Spain",
          "UK",
          "US",
          "WORLD"
         ],
         "name": "",
         "type": "choropleth",
         "z": [
          969.1311007996613,
          5173.596226729851,
          1242.040163760114,
          166.6263142004127,
          164.27783879284178,
          620.86386540866,
          139.50385885411106,
          745.1512317831314,
          5495.8694038893445,
          1097.6482301539577,
          428.99873652014264,
          180.15168216363995,
          13465,
          28809.30022252472
         ]
        }
       ],
       "frames": [
        {
         "data": [
          {
           "coloraxis": "coloraxis",
           "geo": "geo",
           "hovertemplate": "date=2019-01-01<br>country=%{location}<br>co2=%{z}<extra></extra>",
           "locationmode": "country names",
           "locations": [
            "Brazil",
            "China",
            "EU27 & UK",
            "France",
            "Germany",
            "India",
            "Italy",
            "Japan",
            "ROW",
            "Russia",
            "Spain",
            "UK",
            "US",
            "WORLD"
           ],
           "name": "",
           "type": "choropleth",
           "z": [
            969.1311007996613,
            5173.596226729851,
            1242.040163760114,
            166.6263142004127,
            164.27783879284178,
            620.86386540866,
            139.50385885411106,
            745.1512317831314,
            5495.8694038893445,
            1097.6482301539577,
            428.99873652014264,
            180.15168216363995,
            13465,
            28809.30022252472
           ]
          }
         ],
         "name": "2019-01-01"
        },
        {
         "data": [
          {
           "coloraxis": "coloraxis",
           "geo": "geo",
           "hovertemplate": "date=2019-02-01<br>country=%{location}<br>co2=%{z}<extra></extra>",
           "locationmode": "country names",
           "locations": [
            "Brazil",
            "China",
            "EU27 & UK",
            "France",
            "Germany",
            "India",
            "Italy",
            "Japan",
            "ROW",
            "Russia",
            "Spain",
            "UK",
            "US",
            "WORLD"
           ],
           "name": "",
           "type": "choropleth",
           "z": [
            801.9697155680803,
            4984.036258242458,
            1176.8919939259813,
            156.7423414372052,
            168.65501755353628,
            547.9238006242825,
            128.52488149574103,
            681.8095550565797,
            5031.201829794408,
            1002.321560572613,
            390.5047386185069,
            174.4162150407279,
            12865.126100000001,
            27091.2808137844
           ]
          }
         ],
         "name": "2019-02-01"
        },
        {
         "data": [
          {
           "coloraxis": "coloraxis",
           "geo": "geo",
           "hovertemplate": "date=2019-03-01<br>country=%{location}<br>co2=%{z}<extra></extra>",
           "locationmode": "country names",
           "locations": [
            "Brazil",
            "China",
            "EU27 & UK",
            "France",
            "Germany",
            "India",
            "Italy",
            "Japan",
            "ROW",
            "Russia",
            "Spain",
            "UK",
            "US",
            "WORLD"
           ],
           "name": "",
           "type": "choropleth",
           "z": [
            834.111739644869,
            5069.367289760297,
            1337.2736221630676,
            184.33321779280348,
            184.17756053205025,
            580.0547858607384,
            139.63812088686427,
            761.3973251198382,
            5607.1761130971345,
            1134.670855923412,
            449.40094499500645,
            198.77591149782904,
            14441.1034,
            29765.155131569358
           ]
          }
         ],
         "name": "2019-03-01"
        },
        {
         "data": [
          {
           "coloraxis": "coloraxis",
           "geo": "geo",
           "hovertemplate": "date=2019-04-01<br>country=%{location}<br>co2=%{z}<extra></extra>",
           "locationmode": "country names",
           "locations": [
            "Brazil",
            "China",
            "EU27 & UK",
            "France",
            "Germany",
            "India",
            "Italy",
            "Japan",
            "ROW",
            "Russia",
            "Spain",
            "UK",
            "US",
            "WORLD"
           ],
           "name": "",
           "type": "choropleth",
           "z": [
            769.1311541734417,
            4945.75957964285,
            1368.8930362742888,
            201.503386519656,
            175.28661932653407,
            539.330745240222,
            150.78829727199607,
            722.2927464092868,
            5508.984034769992,
            1155.7668832784725,
            465.77366014966464,
            205.2520333223381,
            14169.612000000001,
            29179.770179788553
           ]
          }
         ],
         "name": "2019-04-01"
        },
        {
         "data": [
          {
           "coloraxis": "coloraxis",
           "geo": "geo",
           "hovertemplate": "date=2019-05-01<br>country=%{location}<br>co2=%{z}<extra></extra>",
           "locationmode": "country names",
           "locations": [
            "Brazil",
            "China",
            "EU27 & UK",
            "France",
            "Germany",
            "India",
            "Italy",
            "Japan",
            "ROW",
            "Russia",
            "Spain",
            "UK",
            "US",
            "WORLD"
           ],
           "name": "",
           "type": "choropleth",
           "z": [
            739.4297033411129,
            5179.669162199067,
            1456.900691757414,
            213.8082748727345,
            192.95682082695228,
            592.986862579746,
            163.02742589042182,
            773.4861068680526,
            5740.749621228939,
            1284.7675172046972,
            478.97143971837454,
            219.9459748479561,
            15004.2215,
            30772.21116517903
           ]
          }
         ],
         "name": "2019-05-01"
        },
        {
         "data": [
          {
           "coloraxis": "coloraxis",
           "geo": "geo",
           "hovertemplate": "date=2019-06-01<br>country=%{location}<br>co2=%{z}<extra></extra>",
           "locationmode": "country names",
           "locations": [
            "Brazil",
            "China",
            "EU27 & UK",
            "France",
            "Germany",
            "India",
            "Italy",
            "Japan",
            "ROW",
            "Russia",
            "Spain",
            "UK",
            "US",
            "WORLD"
           ],
           "name": "",
           "type": "choropleth",
           "z": [
            729.056357778609,
            5026.1876510234815,
            1485.4747139127617,
            225.77043559984142,
            180.15739589201328,
            593.7345730729864,
            179.9268568619469,
            737.9133409731355,
            5819.991749594444,
            1406.0761390519517,
            494.5641957629226,
            206.54242590347752,
            14949.3358,
            30747.77032540737
           ]
          }
         ],
         "name": "2019-06-01"
        },
        {
         "data": [
          {
           "coloraxis": "coloraxis",
           "geo": "geo",
           "hovertemplate": "date=2019-07-01<br>country=%{location}<br>co2=%{z}<extra></extra>",
           "locationmode": "country names",
           "locations": [
            "Brazil",
            "China",
            "EU27 & UK",
            "France",
            "Germany",
            "India",
            "Italy",
            "Japan",
            "ROW",
            "Russia",
            "Spain",
            "UK",
            "US",
            "WORLD"
           ],
           "name": "",
           "type": "choropleth",
           "z": [
            889.694623887632,
            5539.1823028500185,
            1521.789668519476,
            224.1475325515553,
            180.19312917396294,
            603.1027497127017,
            189.46701735532534,
            785.5667345663765,
            6268.985418010685,
            1534.9148264603991,
            528.5763666002964,
            215.10705314672998,
            14965.6699,
            32108.90622400729
           ]
          }
         ],
         "name": "2019-07-01"
        },
        {
         "data": [
          {
           "coloraxis": "coloraxis",
           "geo": "geo",
           "hovertemplate": "date=2019-08-01<br>country=%{location}<br>co2=%{z}<extra></extra>",
           "locationmode": "country names",
           "locations": [
            "Brazil",
            "China",
            "EU27 & UK",
            "France",
            "Germany",
            "India",
            "Italy",
            "Japan",
            "ROW",
            "Russia",
            "Spain",
            "UK",
            "US",
            "WORLD"
           ],
           "name": "",
           "type": "choropleth",
           "z": [
            827.4042287362929,
            5496.928872148235,
            1486.1317467453925,
            197.35675207688845,
            172.78600267843194,
            604.8384516627523,
            185.4282671009769,
            787.622637417952,
            6209.045006282196,
            1561.9715675056398,
            523.431641020531,
            212.19797670346796,
            14964.2533,
            31938.19581049846
           ]
          }
         ],
         "name": "2019-08-01"
        },
        {
         "data": [
          {
           "coloraxis": "coloraxis",
           "geo": "geo",
           "hovertemplate": "date=2019-09-01<br>country=%{location}<br>co2=%{z}<extra></extra>",
           "locationmode": "country names",
           "locations": [
            "Brazil",
            "China",
            "EU27 & UK",
            "France",
            "Germany",
            "India",
            "Italy",
            "Japan",
            "ROW",
            "Russia",
            "Spain",
            "UK",
            "US",
            "WORLD"
           ],
           "name": "",
           "type": "choropleth",
           "z": [
            808.1470447849696,
            5222.114868073998,
            1479.5866096535037,
            212.17065151924635,
            189.37353597954922,
            586.9901410042474,
            173.35954421307216,
            740.4347021261781,
            5798.7828801838505,
            1441.438971481967,
            492.98164003197377,
            206.45574172963822,
            14197.3322,
            30274.827417308716
           ]
          }
         ],
         "name": "2019-09-01"
        },
        {
         "data": [
          {
           "coloraxis": "coloraxis",
           "geo": "geo",
           "hovertemplate": "date=2019-10-01<br>country=%{location}<br>co2=%{z}<extra></extra>",
           "locationmode": "country names",
           "locations": [
            "Brazil",
            "China",
            "EU27 & UK",
            "France",
            "Germany",
            "India",
            "Italy",
            "Japan",
            "ROW",
            "Russia",
            "Spain",
            "UK",
            "US",
            "WORLD"
           ],
           "name": "",
           "type": "choropleth",
           "z": [
            868.900519036459,
            5393.463265704746,
            1421.1134370121301,
            200.1711280999232,
            188.44980471676195,
            646.758621576971,
            154.00558958556957,
            748.9663230773406,
            6027.946550735385,
            1307.8230568879537,
            483.6710469543237,
            215.65225861843726,
            14665.015800000001,
            31079.987574030987
           ]
          }
         ],
         "name": "2019-10-01"
        },
        {
         "data": [
          {
           "coloraxis": "coloraxis",
           "geo": "geo",
           "hovertemplate": "date=2019-11-01<br>country=%{location}<br>co2=%{z}<extra></extra>",
           "locationmode": "country names",
           "locations": [
            "Brazil",
            "China",
            "EU27 & UK",
            "France",
            "Germany",
            "India",
            "Italy",
            "Japan",
            "ROW",
            "Russia",
            "Spain",
            "UK",
            "US",
            "WORLD"
           ],
           "name": "",
           "type": "choropleth",
           "z": [
            865.0132326113562,
            5186.241026542991,
            1264.0603121004256,
            172.3765924041097,
            168.00438654596115,
            632.0850737192615,
            137.7863486129808,
            743.752728891769,
            5753.915031461458,
            1219.3933780135994,
            437.6464214841727,
            191.89401125909905,
            14414.584,
            30079.04478334086
           ]
          }
         ],
         "name": "2019-11-01"
        },
        {
         "data": [
          {
           "coloraxis": "coloraxis",
           "geo": "geo",
           "hovertemplate": "date=2019-12-01<br>country=%{location}<br>co2=%{z}<extra></extra>",
           "locationmode": "country names",
           "locations": [
            "Brazil",
            "China",
            "EU27 & UK",
            "France",
            "Germany",
            "India",
            "Italy",
            "Japan",
            "ROW",
            "Russia",
            "Spain",
            "UK",
            "US",
            "WORLD"
           ],
           "name": "",
           "type": "choropleth",
           "z": [
            978.2771796375163,
            5241.963497081976,
            1274.8991641754399,
            171.8900229256243,
            159.77671798140435,
            647.0793295374285,
            145.77456787099527,
            785.5440877103683,
            6027.966060952195,
            1274.7170834653461,
            460.7187581440896,
            185.4182317666602,
            15625.4059,
            31855.85230256027
           ]
          }
         ],
         "name": "2019-12-01"
        },
        {
         "data": [
          {
           "coloraxis": "coloraxis",
           "geo": "geo",
           "hovertemplate": "date=2020-01-01<br>country=%{location}<br>co2=%{z}<extra></extra>",
           "locationmode": "country names",
           "locations": [
            "Brazil",
            "China",
            "EU27 & UK",
            "France",
            "Germany",
            "India",
            "Italy",
            "Japan",
            "ROW",
            "Russia",
            "Spain",
            "UK",
            "US",
            "WORLD"
           ],
           "name": "",
           "type": "choropleth",
           "z": [
            1031.4145497466732,
            5299.035816583657,
            1231.0784794846209,
            175.24991816548248,
            156.65965423311994,
            648.2444298771632,
            139.13102946918676,
            799.1672169066073,
            5935.974938981084,
            1255.8631017704472,
            424.56024750800685,
            176.51541344030818,
            14733.1882,
            30933.96673335025
           ]
          }
         ],
         "name": "2020-01-01"
        },
        {
         "data": [
          {
           "coloraxis": "coloraxis",
           "geo": "geo",
           "hovertemplate": "date=2020-02-01<br>country=%{location}<br>co2=%{z}<extra></extra>",
           "locationmode": "country names",
           "locations": [
            "Brazil",
            "China",
            "EU27 & UK",
            "France",
            "Germany",
            "India",
            "Italy",
            "Japan",
            "ROW",
            "Russia",
            "Spain",
            "UK",
            "US",
            "WORLD"
           ],
           "name": "",
           "type": "choropleth",
           "z": [
            878.4751283592323,
            1437.4243868460019,
            1180.110203248379,
            166.49725510219372,
            154.86024519718455,
            611.3241945378887,
            127.37920268668586,
            752.0618241992453,
            5494.229304977762,
            1133.224443325793,
            402.8900287074251,
            171.6147507078206,
            14050.9979,
            25537.847385494304
           ]
          }
         ],
         "name": "2020-02-01"
        },
        {
         "data": [
          {
           "coloraxis": "coloraxis",
           "geo": "geo",
           "hovertemplate": "date=2020-03-01<br>country=%{location}<br>co2=%{z}<extra></extra>",
           "locationmode": "country names",
           "locations": [
            "Brazil",
            "China",
            "EU27 & UK",
            "France",
            "Germany",
            "India",
            "Italy",
            "Japan",
            "ROW",
            "Russia",
            "Spain",
            "UK",
            "US",
            "WORLD"
           ],
           "name": "",
           "type": "choropleth",
           "z": [
            681.1874763395148,
            2212.123485306455,
            740.5385881014016,
            107.61845328072849,
            99.35867747249065,
            470.86757600945054,
            48.55203004475534,
            731.0915504205117,
            4471.175224758042,
            1204.3659603994963,
            264.73205523514633,
            120.15771583731559,
            13448.1819,
            23959.531761334874
           ]
          }
         ],
         "name": "2020-03-01"
        },
        {
         "data": [
          {
           "coloraxis": "coloraxis",
           "geo": "geo",
           "hovertemplate": "date=2020-04-01<br>country=%{location}<br>co2=%{z}<extra></extra>",
           "locationmode": "country names",
           "locations": [
            "Brazil",
            "China",
            "EU27 & UK",
            "France",
            "Germany",
            "India",
            "Italy",
            "Japan",
            "ROW",
            "Russia",
            "Spain",
            "UK",
            "US",
            "WORLD"
           ],
           "name": "",
           "type": "choropleth",
           "z": [
            94.22729490698018,
            2387.6772064219767,
            124.30151239128578,
            7.991698131692513,
            23.072648186496426,
            7.697581235434468,
            11.441511322828445,
            380.6609997205392,
            1082.3121144563488,
            397.5937870451974,
            35.85551581294045,
            19.615777256887657,
            5562.6848,
            10037.155296177763
           ]
          }
         ],
         "name": "2020-04-01"
        },
        {
         "data": [
          {
           "coloraxis": "coloraxis",
           "geo": "geo",
           "hovertemplate": "date=2020-05-01<br>country=%{location}<br>co2=%{z}<extra></extra>",
           "locationmode": "country names",
           "locations": [
            "Brazil",
            "China",
            "EU27 & UK",
            "France",
            "Germany",
            "India",
            "Italy",
            "Japan",
            "ROW",
            "Russia",
            "Spain",
            "UK",
            "US",
            "WORLD"
           ],
           "name": "",
           "type": "choropleth",
           "z": [
            124.49206276979852,
            3373.2793208812627,
            175.79867946567202,
            17.128248934624953,
            40.132811667483516,
            37.24912710360787,
            15.402283113820442,
            191.0028054815116,
            1278.9418806008027,
            461.4525164285465,
            38.12395670619106,
            23.884449318769615,
            5584.8199,
            11227.036292731202
           ]
          }
         ],
         "name": "2020-05-01"
        },
        {
         "data": [
          {
           "coloraxis": "coloraxis",
           "geo": "geo",
           "hovertemplate": "date=2020-06-01<br>country=%{location}<br>co2=%{z}<extra></extra>",
           "locationmode": "country names",
           "locations": [
            "Brazil",
            "China",
            "EU27 & UK",
            "France",
            "Germany",
            "India",
            "Italy",
            "Japan",
            "ROW",
            "Russia",
            "Spain",
            "UK",
            "US",
            "WORLD"
           ],
           "name": "",
           "type": "choropleth",
           "z": [
            174.63802364749353,
            3791.823125996744,
            349.64579628300487,
            58.54967721912686,
            63.137356692274864,
            173.41561612761834,
            36.633956128528844,
            287.7500378058864,
            2079.0462514557234,
            892.8427524987719,
            74.72850533833665,
            35.36321442827432,
            7623.4887,
            15372.650303815242
           ]
          }
         ],
         "name": "2020-06-01"
        },
        {
         "data": [
          {
           "coloraxis": "coloraxis",
           "geo": "geo",
           "hovertemplate": "date=2020-07-01<br>country=%{location}<br>co2=%{z}<extra></extra>",
           "locationmode": "country names",
           "locations": [
            "Brazil",
            "China",
            "EU27 & UK",
            "France",
            "Germany",
            "India",
            "Italy",
            "Japan",
            "ROW",
            "Russia",
            "Spain",
            "UK",
            "US",
            "WORLD"
           ],
           "name": "",
           "type": "choropleth",
           "z": [
            281.5268773240114,
            4904.03090538486,
            812.5276268694347,
            139.79485824781696,
            82.20024588526437,
            186.2133882308672,
            105.74077501695129,
            513.7936670382901,
            2990.3658952709434,
            1436.7947951808062,
            302.61633379150703,
            70.5345042560392,
            9819.2537,
            20944.506855299212
           ]
          }
         ],
         "name": "2020-07-01"
        },
        {
         "data": [
          {
           "coloraxis": "coloraxis",
           "geo": "geo",
           "hovertemplate": "date=2020-08-01<br>country=%{location}<br>co2=%{z}<extra></extra>",
           "locationmode": "country names",
           "locations": [
            "Brazil",
            "China",
            "EU27 & UK",
            "France",
            "Germany",
            "India",
            "Italy",
            "Japan",
            "ROW",
            "Russia",
            "Spain",
            "UK",
            "US",
            "WORLD"
           ],
           "name": "",
           "type": "choropleth",
           "z": [
            362.1798160060784,
            5512.5736814759875,
            1052.9001929234814,
            168.94589430724352,
            90.87442676693931,
            218.81657851806557,
            142.68013526027445,
            659.2494570374372,
            3064.038849279193,
            1673.5998801333108,
            432.7878131158567,
            89.49792921286857,
            9951.288700000001,
            22494.647155373554
           ]
          }
         ],
         "name": "2020-08-01"
        },
        {
         "data": [
          {
           "coloraxis": "coloraxis",
           "geo": "geo",
           "hovertemplate": "date=2020-09-01<br>country=%{location}<br>co2=%{z}<extra></extra>",
           "locationmode": "country names",
           "locations": [
            "Brazil",
            "China",
            "EU27 & UK",
            "France",
            "Germany",
            "India",
            "Italy",
            "Japan",
            "ROW",
            "Russia",
            "Spain",
            "UK",
            "US",
            "WORLD"
           ],
           "name": "",
           "type": "choropleth",
           "z": [
            441.06749380729906,
            5519.030170649894,
            950.537482805817,
            160.406867595223,
            106.25027523619674,
            301.32971033122556,
            121.47345845487988,
            436.53409573829816,
            3140.1842421067076,
            1487.9065986646324,
            324.47290034595267,
            104.68040860889333,
            9075.9784,
            21352.568194103875
           ]
          }
         ],
         "name": "2020-09-01"
        },
        {
         "data": [
          {
           "coloraxis": "coloraxis",
           "geo": "geo",
           "hovertemplate": "date=2020-10-01<br>country=%{location}<br>co2=%{z}<extra></extra>",
           "locationmode": "country names",
           "locations": [
            "Brazil",
            "China",
            "EU27 & UK",
            "France",
            "Germany",
            "India",
            "Italy",
            "Japan",
            "ROW",
            "Russia",
            "Spain",
            "UK",
            "US",
            "WORLD"
           ],
           "name": "",
           "type": "choropleth",
           "z": [
            587.9893062460721,
            5812.960423504907,
            835.6727809135871,
            135.91712390017793,
            89.6515072077627,
            376.61646801036113,
            111.5871938875458,
            519.014116864228,
            3427.671253994446,
            1272.1292869068184,
            274.10582683274754,
            99.33781148963877,
            9879.6117,
            22711.66533644042
           ]
          }
         ],
         "name": "2020-10-01"
        },
        {
         "data": [
          {
           "coloraxis": "coloraxis",
           "geo": "geo",
           "hovertemplate": "date=2020-11-01<br>country=%{location}<br>co2=%{z}<extra></extra>",
           "locationmode": "country names",
           "locations": [
            "Brazil",
            "China",
            "EU27 & UK",
            "France",
            "Germany",
            "India",
            "Italy",
            "Japan",
            "ROW",
            "Russia",
            "Spain",
            "UK",
            "US",
            "WORLD"
           ],
           "name": "",
           "type": "choropleth",
           "z": [
            634.3071461437172,
            5596.110406619437,
            533.6771571098263,
            60.22018400639605,
            61.62561472157646,
            405.52255054615,
            70.7215819809562,
            593.3559512535353,
            3566.0720051935887,
            1067.2690042091342,
            190.8900730571488,
            57.8819726959802,
            10170.0201,
            22566.33432107539
           ]
          }
         ],
         "name": "2020-11-01"
        },
        {
         "data": [
          {
           "coloraxis": "coloraxis",
           "geo": "geo",
           "hovertemplate": "date=2020-12-01<br>country=%{location}<br>co2=%{z}<extra></extra>",
           "locationmode": "country names",
           "locations": [
            "Brazil",
            "China",
            "EU27 & UK",
            "France",
            "Germany",
            "India",
            "Italy",
            "Japan",
            "ROW",
            "Russia",
            "Spain",
            "UK",
            "US",
            "WORLD"
           ],
           "name": "",
           "type": "choropleth",
           "z": [
            781.8844711702511,
            5706.341958971545,
            607.8898046879647,
            94.58210066604008,
            50.953918767502586,
            470.3684931696315,
            71.30452616611193,
            644.1870226684013,
            4117.749167192139,
            1133.1450179218016,
            247.36373633649458,
            69.58766452033566,
            11084.8442,
            24546.410135781734
           ]
          }
         ],
         "name": "2020-12-01"
        },
        {
         "data": [
          {
           "coloraxis": "coloraxis",
           "geo": "geo",
           "hovertemplate": "date=2021-01-01<br>country=%{location}<br>co2=%{z}<extra></extra>",
           "locationmode": "country names",
           "locations": [
            "Brazil",
            "China",
            "EU27 & UK",
            "France",
            "Germany",
            "India",
            "Italy",
            "Japan",
            "ROW",
            "Russia",
            "Spain",
            "UK",
            "US",
            "WORLD"
           ],
           "name": "",
           "type": "choropleth",
           "z": [
            833.0577731508106,
            4547.049462366624,
            524.352526457069,
            97.69882654402288,
            42.31884523896508,
            492.6630946380644,
            58.081184326873405,
            464.55152476488865,
            3676.0153016993395,
            1156.2627658758986,
            195.06995798839137,
            47.02427349382689,
            9643.3633,
            21337.315748952693
           ]
          }
         ],
         "name": "2021-01-01"
        },
        {
         "data": [
          {
           "coloraxis": "coloraxis",
           "geo": "geo",
           "hovertemplate": "date=2021-02-01<br>country=%{location}<br>co2=%{z}<extra></extra>",
           "locationmode": "country names",
           "locations": [
            "Brazil",
            "China",
            "EU27 & UK",
            "France",
            "Germany",
            "India",
            "Italy",
            "Japan",
            "ROW",
            "Russia",
            "Spain",
            "UK",
            "US",
            "WORLD"
           ],
           "name": "",
           "type": "choropleth",
           "z": [
            617.2165115487966,
            3511.804957017311,
            433.6820944402664,
            87.44173575023237,
            44.03564994126796,
            463.8396284717929,
            39.97530508407685,
            274.32298836808326,
            3258.3030666825157,
            1017.8603873712357,
            145.3710817092589,
            41.45557941842208,
            9058.125900000001,
            18635.1555339
           ]
          }
         ],
         "name": "2021-02-01"
        },
        {
         "data": [
          {
           "coloraxis": "coloraxis",
           "geo": "geo",
           "hovertemplate": "date=2021-03-01<br>country=%{location}<br>co2=%{z}<extra></extra>",
           "locationmode": "country names",
           "locations": [
            "Brazil",
            "China",
            "EU27 & UK",
            "France",
            "Germany",
            "India",
            "Italy",
            "Japan",
            "ROW",
            "Russia",
            "Spain",
            "UK",
            "US",
            "WORLD"
           ],
           "name": "",
           "type": "choropleth",
           "z": [
            545.3396621852968,
            6071.403992392145,
            521.8625344058701,
            93.4762388654837,
            55.1984534988948,
            513.4136342540763,
            51.96849520957997,
            472.3561093339515,
            3992.336004649288,
            1212.7811344396816,
            187.69369316933953,
            51.251795686246766,
            12474.1679,
            25803.66097166031
           ]
          }
         ],
         "name": "2021-03-01"
        },
        {
         "data": [
          {
           "coloraxis": "coloraxis",
           "geo": "geo",
           "hovertemplate": "date=2021-04-01<br>country=%{location}<br>co2=%{z}<extra></extra>",
           "locationmode": "country names",
           "locations": [
            "Brazil",
            "China",
            "EU27 & UK",
            "France",
            "Germany",
            "India",
            "Italy",
            "Japan",
            "ROW",
            "Russia",
            "Spain",
            "UK",
            "US",
            "WORLD"
           ],
           "name": "",
           "type": "choropleth",
           "z": [
            394.25994101087366,
            6239.1537370319675,
            605.0866397834683,
            89.4565140400683,
            58.97372084114923,
            432.8841060328875,
            72.9093746696502,
            565.2094896786037,
            4117.050569825634,
            1350.334804354721,
            227.0614274276628,
            62.17343494698927,
            12686.3693,
            26390.348587718156
           ]
          }
         ],
         "name": "2021-04-01"
        },
        {
         "data": [
          {
           "coloraxis": "coloraxis",
           "geo": "geo",
           "hovertemplate": "date=2021-05-01<br>country=%{location}<br>co2=%{z}<extra></extra>",
           "locationmode": "country names",
           "locations": [
            "Brazil",
            "China",
            "EU27 & UK",
            "France",
            "Germany",
            "India",
            "Italy",
            "Japan",
            "ROW",
            "Russia",
            "Spain",
            "UK",
            "US",
            "WORLD"
           ],
           "name": "",
           "type": "choropleth",
           "z": [
            507.3329088499362,
            6127.600805993208,
            756.8982156952792,
            129.25033466345593,
            63.10869488938814,
            211.04494824804388,
            84.6693934316389,
            484.2542861411564,
            3800.813515600648,
            1654.9122707041126,
            289.66945589215436,
            85.71974924558283,
            13273.920399999999,
            26816.777351232384
           ]
          }
         ],
         "name": "2021-05-01"
        },
        {
         "data": [
          {
           "coloraxis": "coloraxis",
           "geo": "geo",
           "hovertemplate": "date=2021-06-01<br>country=%{location}<br>co2=%{z}<extra></extra>",
           "locationmode": "country names",
           "locations": [
            "Brazil",
            "China",
            "EU27 & UK",
            "France",
            "Germany",
            "India",
            "Italy",
            "Japan",
            "ROW",
            "Russia",
            "Spain",
            "UK",
            "US",
            "WORLD"
           ],
           "name": "",
           "type": "choropleth",
           "z": [
            600.88521870821,
            5152.575456831419,
            1045.2214773808873,
            163.94558925758724,
            80.45327679615949,
            235.11037634680838,
            143.6067505893385,
            457.62508640198365,
            3924.97669509193,
            1949.4324998821437,
            386.60803025956363,
            120.0897242336754,
            14126.0669,
            27491.89371064338
           ]
          }
         ],
         "name": "2021-06-01"
        },
        {
         "data": [
          {
           "coloraxis": "coloraxis",
           "geo": "geo",
           "hovertemplate": "date=2021-07-01<br>country=%{location}<br>co2=%{z}<extra></extra>",
           "locationmode": "country names",
           "locations": [
            "Brazil",
            "China",
            "EU27 & UK",
            "France",
            "Germany",
            "India",
            "Italy",
            "Japan",
            "ROW",
            "Russia",
            "Spain",
            "UK",
            "US",
            "WORLD"
           ],
           "name": "",
           "type": "choropleth",
           "z": [
            807.9637414167039,
            5866.631419871319,
            1334.920280788927,
            206.55587897466137,
            88.99102004852294,
            342.20524710770576,
            192.49039971526113,
            571.6521875990014,
            4052.317996959765,
            2010.730343289151,
            547.3567396344968,
            140.99500240206052,
            14987.223899999999,
            29973.645117032574
           ]
          }
         ],
         "name": "2021-07-01"
        },
        {
         "data": [
          {
           "coloraxis": "coloraxis",
           "geo": "geo",
           "hovertemplate": "date=2021-08-01<br>country=%{location}<br>co2=%{z}<extra></extra>",
           "locationmode": "country names",
           "locations": [
            "Brazil",
            "China",
            "EU27 & UK",
            "France",
            "Germany",
            "India",
            "Italy",
            "Japan",
            "ROW",
            "Russia",
            "Spain",
            "UK",
            "US",
            "WORLD"
           ],
           "name": "",
           "type": "choropleth",
           "z": [
            777.0398473449417,
            3550.375426634137,
            1389.1530562731452,
            200.07495714081915,
            87.90799888895755,
            406.5930035630215,
            211.24415610057565,
            676.9927070058296,
            4046.8736430329113,
            2024.3907967628154,
            568.2801979304412,
            146.08625612149356,
            14673.8327,
            27545.251180616804
           ]
          }
         ],
         "name": "2021-08-01"
        },
        {
         "data": [
          {
           "coloraxis": "coloraxis",
           "geo": "geo",
           "hovertemplate": "date=2021-09-01<br>country=%{location}<br>co2=%{z}<extra></extra>",
           "locationmode": "country names",
           "locations": [
            "Brazil",
            "China",
            "EU27 & UK",
            "France",
            "Germany",
            "India",
            "Italy",
            "Japan",
            "ROW",
            "Russia",
            "Spain",
            "UK",
            "US",
            "WORLD"
           ],
           "name": "",
           "type": "choropleth",
           "z": [
            802.4749158756949,
            4898.925456232326,
            1281.5243009958856,
            184.40202417087391,
            106.39213035210616,
            421.7227118071098,
            174.56511705833387,
            562.637230746024,
            4105.717944640466,
            1846.3878389292997,
            495.77912102415047,
            148.89079039847732,
            14173.3165,
            28092.706899226807
           ]
          }
         ],
         "name": "2021-09-01"
        },
        {
         "data": [
          {
           "coloraxis": "coloraxis",
           "geo": "geo",
           "hovertemplate": "date=2021-10-01<br>country=%{location}<br>co2=%{z}<extra></extra>",
           "locationmode": "country names",
           "locations": [
            "Brazil",
            "China",
            "EU27 & UK",
            "France",
            "Germany",
            "India",
            "Italy",
            "Japan",
            "ROW",
            "Russia",
            "Spain",
            "UK",
            "US",
            "WORLD"
           ],
           "name": "",
           "type": "choropleth",
           "z": [
            844.9252879266033,
            5032.584455095436,
            1201.9128152963262,
            173.45460720142646,
            108.83799160053266,
            500.90730253905775,
            150.94717110922443,
            594.6085207980168,
            4435.25746691588,
            1586.4337647587868,
            472.69562840559473,
            150.31229236767055,
            14490.7991,
            28687.428713330108
           ]
          }
         ],
         "name": "2021-10-01"
        },
        {
         "data": [
          {
           "coloraxis": "coloraxis",
           "geo": "geo",
           "hovertemplate": "date=2021-11-01<br>country=%{location}<br>co2=%{z}<extra></extra>",
           "locationmode": "country names",
           "locations": [
            "Brazil",
            "China",
            "EU27 & UK",
            "France",
            "Germany",
            "India",
            "Italy",
            "Japan",
            "ROW",
            "Russia",
            "Spain",
            "UK",
            "US",
            "WORLD"
           ],
           "name": "",
           "type": "choropleth",
           "z": [
            891.769010215845,
            3088.1635112480717,
            1066.3694143260443,
            144.87220135237462,
            99.88663705757925,
            560.3905142877745,
            140.3513707712786,
            664.9891982970009,
            4538.418655993922,
            1366.63112175841,
            399.35456686981706,
            144.72568171347993,
            14118.6555,
            26295.38692612707
           ]
          }
         ],
         "name": "2021-11-01"
        },
        {
         "data": [
          {
           "coloraxis": "coloraxis",
           "geo": "geo",
           "hovertemplate": "date=2021-12-01<br>country=%{location}<br>co2=%{z}<extra></extra>",
           "locationmode": "country names",
           "locations": [
            "Brazil",
            "China",
            "EU27 & UK",
            "France",
            "Germany",
            "India",
            "Italy",
            "Japan",
            "ROW",
            "Russia",
            "Spain",
            "UK",
            "US",
            "WORLD"
           ],
           "name": "",
           "type": "choropleth",
           "z": [
            1027.990996634277,
            3753.655754941319,
            1105.1094977558769,
            154.02050326847734,
            81.11969506414012,
            598.9523518656215,
            148.3170824682944,
            757.9982753548729,
            5094.400412532934,
            1390.9663186178732,
            452.02669537553396,
            134.50510657687846,
            15190.5989,
            28919.672507702773
           ]
          }
         ],
         "name": "2021-12-01"
        },
        {
         "data": [
          {
           "coloraxis": "coloraxis",
           "geo": "geo",
           "hovertemplate": "date=2022-01-01<br>country=%{location}<br>co2=%{z}<extra></extra>",
           "locationmode": "country names",
           "locations": [
            "Brazil",
            "China",
            "EU27 & UK",
            "France",
            "Germany",
            "India",
            "Italy",
            "Japan",
            "ROW",
            "Russia",
            "Spain",
            "UK",
            "US",
            "WORLD"
           ],
           "name": "",
           "type": "choropleth",
           "z": [
            996.8547198585906,
            4265.2069957920585,
            933.5214664155835,
            123.79869433372625,
            70.16644064825242,
            424.67042628668787,
            127.36720680390839,
            743.2861327617609,
            4749.641953059202,
            1358.4120130105377,
            382.44227191728345,
            109.11197940463164,
            13515.0212,
            26986.61490718442
           ]
          }
         ],
         "name": "2022-01-01"
        },
        {
         "data": [
          {
           "coloraxis": "coloraxis",
           "geo": "geo",
           "hovertemplate": "date=2022-02-01<br>country=%{location}<br>co2=%{z}<extra></extra>",
           "locationmode": "country names",
           "locations": [
            "Brazil",
            "China",
            "EU27 & UK",
            "France",
            "Germany",
            "India",
            "Italy",
            "Japan",
            "ROW",
            "Russia",
            "Spain",
            "UK",
            "US",
            "WORLD"
           ],
           "name": "",
           "type": "choropleth",
           "z": [
            759.477441774239,
            4199.579333929239,
            870.5944379960176,
            124.73013535336494,
            67.98112553935972,
            391.5704096581798,
            113.26134523257788,
            513.8475514660029,
            4285.556484583547,
            1105.1492607093958,
            342.4107626344605,
            110.53286683549173,
            12224.9968,
            24350.771720116623
           ]
          }
         ],
         "name": "2022-02-01"
        },
        {
         "data": [
          {
           "coloraxis": "coloraxis",
           "geo": "geo",
           "hovertemplate": "date=2022-03-01<br>country=%{location}<br>co2=%{z}<extra></extra>",
           "locationmode": "country names",
           "locations": [
            "Brazil",
            "China",
            "EU27 & UK",
            "France",
            "Germany",
            "India",
            "Italy",
            "Japan",
            "ROW",
            "Russia",
            "Spain",
            "UK",
            "US",
            "WORLD"
           ],
           "name": "",
           "type": "choropleth",
           "z": [
            852.2449374571443,
            2266.2188478772114,
            1097.859961217245,
            151.59592236122938,
            91.37594320642297,
            546.6403176110585,
            142.3334203658552,
            707.224127252726,
            4981.2415843247745,
            1070.7430738940825,
            431.1043151286097,
            144.57900853486422,
            13514.379500000001,
            25036.552349634243
           ]
          }
         ],
         "name": "2022-03-01"
        },
        {
         "data": [
          {
           "coloraxis": "coloraxis",
           "geo": "geo",
           "hovertemplate": "date=2022-04-01<br>country=%{location}<br>co2=%{z}<extra></extra>",
           "locationmode": "country names",
           "locations": [
            "Brazil",
            "China",
            "EU27 & UK",
            "France",
            "Germany",
            "India",
            "Italy",
            "Japan",
            "ROW",
            "Russia",
            "Spain",
            "UK",
            "US",
            "WORLD"
           ],
           "name": "",
           "type": "choropleth",
           "z": [
            822.5445344988476,
            1244.3390637442565,
            1229.8952598328128,
            161.9782513529727,
            98.7986342172159,
            561.2368372473659,
            165.94287634895292,
            717.1364542920938,
            5199.687769798923,
            1045.4874378313536,
            497.12241058138926,
            152.24004379974917,
            12603.134990328532,
            23423.462347574186
           ]
          }
         ],
         "name": "2022-04-01"
        },
        {
         "data": [
          {
           "coloraxis": "coloraxis",
           "geo": "geo",
           "hovertemplate": "date=2022-05-01<br>country=%{location}<br>co2=%{z}<extra></extra>",
           "locationmode": "country names",
           "locations": [
            "Brazil",
            "China",
            "EU27 & UK",
            "France",
            "Germany",
            "India",
            "Italy",
            "Japan",
            "ROW",
            "Russia",
            "Spain",
            "UK",
            "US",
            "WORLD"
           ],
           "name": "",
           "type": "choropleth",
           "z": [
            883.2719282158721,
            1837.7011864265385,
            1339.9504695587414,
            186.03312359441142,
            114.12408641890288,
            595.6590059900025,
            179.10261003932234,
            794.2032980326919,
            5766.94138600004,
            1329.5748550574442,
            516.9991079057852,
            165.52833693876477,
            12908.906869741832,
            25456.20899902316
           ]
          }
         ],
         "name": "2022-05-01"
        }
       ],
       "layout": {
        "coloraxis": {
         "colorbar": {
          "title": {
           "text": "co2"
          }
         },
         "colorscale": [
          [
           0,
           "#0d0887"
          ],
          [
           0.1111111111111111,
           "#46039f"
          ],
          [
           0.2222222222222222,
           "#7201a8"
          ],
          [
           0.3333333333333333,
           "#9c179e"
          ],
          [
           0.4444444444444444,
           "#bd3786"
          ],
          [
           0.5555555555555556,
           "#d8576b"
          ],
          [
           0.6666666666666666,
           "#ed7953"
          ],
          [
           0.7777777777777778,
           "#fb9f3a"
          ],
          [
           0.8888888888888888,
           "#fdca26"
          ],
          [
           1,
           "#f0f921"
          ]
         ]
        },
        "geo": {
         "center": {},
         "domain": {
          "x": [
           0,
           1
          ],
          "y": [
           0,
           1
          ]
         },
         "lataxis": {
          "range": [
           -90,
           90
          ]
         },
         "lonaxis": {
          "range": [
           -180,
           180
          ]
         },
         "projection": {
          "type": "equirectangular"
         },
         "showcoastlines": true,
         "showframe": false
        },
        "height": 1000,
        "legend": {
         "tracegroupgap": 0
        },
        "margin": {
         "t": 60
        },
        "sliders": [
         {
          "active": 0,
          "currentvalue": {
           "prefix": "date="
          },
          "len": 0.9,
          "pad": {
           "b": 10,
           "t": 60
          },
          "steps": [
           {
            "args": [
             [
              "2019-01-01"
             ],
             {
              "frame": {
               "duration": 0,
               "redraw": true
              },
              "fromcurrent": true,
              "mode": "immediate",
              "transition": {
               "duration": 0,
               "easing": "linear"
              }
             }
            ],
            "label": "2019-01-01",
            "method": "animate"
           },
           {
            "args": [
             [
              "2019-02-01"
             ],
             {
              "frame": {
               "duration": 0,
               "redraw": true
              },
              "fromcurrent": true,
              "mode": "immediate",
              "transition": {
               "duration": 0,
               "easing": "linear"
              }
             }
            ],
            "label": "2019-02-01",
            "method": "animate"
           },
           {
            "args": [
             [
              "2019-03-01"
             ],
             {
              "frame": {
               "duration": 0,
               "redraw": true
              },
              "fromcurrent": true,
              "mode": "immediate",
              "transition": {
               "duration": 0,
               "easing": "linear"
              }
             }
            ],
            "label": "2019-03-01",
            "method": "animate"
           },
           {
            "args": [
             [
              "2019-04-01"
             ],
             {
              "frame": {
               "duration": 0,
               "redraw": true
              },
              "fromcurrent": true,
              "mode": "immediate",
              "transition": {
               "duration": 0,
               "easing": "linear"
              }
             }
            ],
            "label": "2019-04-01",
            "method": "animate"
           },
           {
            "args": [
             [
              "2019-05-01"
             ],
             {
              "frame": {
               "duration": 0,
               "redraw": true
              },
              "fromcurrent": true,
              "mode": "immediate",
              "transition": {
               "duration": 0,
               "easing": "linear"
              }
             }
            ],
            "label": "2019-05-01",
            "method": "animate"
           },
           {
            "args": [
             [
              "2019-06-01"
             ],
             {
              "frame": {
               "duration": 0,
               "redraw": true
              },
              "fromcurrent": true,
              "mode": "immediate",
              "transition": {
               "duration": 0,
               "easing": "linear"
              }
             }
            ],
            "label": "2019-06-01",
            "method": "animate"
           },
           {
            "args": [
             [
              "2019-07-01"
             ],
             {
              "frame": {
               "duration": 0,
               "redraw": true
              },
              "fromcurrent": true,
              "mode": "immediate",
              "transition": {
               "duration": 0,
               "easing": "linear"
              }
             }
            ],
            "label": "2019-07-01",
            "method": "animate"
           },
           {
            "args": [
             [
              "2019-08-01"
             ],
             {
              "frame": {
               "duration": 0,
               "redraw": true
              },
              "fromcurrent": true,
              "mode": "immediate",
              "transition": {
               "duration": 0,
               "easing": "linear"
              }
             }
            ],
            "label": "2019-08-01",
            "method": "animate"
           },
           {
            "args": [
             [
              "2019-09-01"
             ],
             {
              "frame": {
               "duration": 0,
               "redraw": true
              },
              "fromcurrent": true,
              "mode": "immediate",
              "transition": {
               "duration": 0,
               "easing": "linear"
              }
             }
            ],
            "label": "2019-09-01",
            "method": "animate"
           },
           {
            "args": [
             [
              "2019-10-01"
             ],
             {
              "frame": {
               "duration": 0,
               "redraw": true
              },
              "fromcurrent": true,
              "mode": "immediate",
              "transition": {
               "duration": 0,
               "easing": "linear"
              }
             }
            ],
            "label": "2019-10-01",
            "method": "animate"
           },
           {
            "args": [
             [
              "2019-11-01"
             ],
             {
              "frame": {
               "duration": 0,
               "redraw": true
              },
              "fromcurrent": true,
              "mode": "immediate",
              "transition": {
               "duration": 0,
               "easing": "linear"
              }
             }
            ],
            "label": "2019-11-01",
            "method": "animate"
           },
           {
            "args": [
             [
              "2019-12-01"
             ],
             {
              "frame": {
               "duration": 0,
               "redraw": true
              },
              "fromcurrent": true,
              "mode": "immediate",
              "transition": {
               "duration": 0,
               "easing": "linear"
              }
             }
            ],
            "label": "2019-12-01",
            "method": "animate"
           },
           {
            "args": [
             [
              "2020-01-01"
             ],
             {
              "frame": {
               "duration": 0,
               "redraw": true
              },
              "fromcurrent": true,
              "mode": "immediate",
              "transition": {
               "duration": 0,
               "easing": "linear"
              }
             }
            ],
            "label": "2020-01-01",
            "method": "animate"
           },
           {
            "args": [
             [
              "2020-02-01"
             ],
             {
              "frame": {
               "duration": 0,
               "redraw": true
              },
              "fromcurrent": true,
              "mode": "immediate",
              "transition": {
               "duration": 0,
               "easing": "linear"
              }
             }
            ],
            "label": "2020-02-01",
            "method": "animate"
           },
           {
            "args": [
             [
              "2020-03-01"
             ],
             {
              "frame": {
               "duration": 0,
               "redraw": true
              },
              "fromcurrent": true,
              "mode": "immediate",
              "transition": {
               "duration": 0,
               "easing": "linear"
              }
             }
            ],
            "label": "2020-03-01",
            "method": "animate"
           },
           {
            "args": [
             [
              "2020-04-01"
             ],
             {
              "frame": {
               "duration": 0,
               "redraw": true
              },
              "fromcurrent": true,
              "mode": "immediate",
              "transition": {
               "duration": 0,
               "easing": "linear"
              }
             }
            ],
            "label": "2020-04-01",
            "method": "animate"
           },
           {
            "args": [
             [
              "2020-05-01"
             ],
             {
              "frame": {
               "duration": 0,
               "redraw": true
              },
              "fromcurrent": true,
              "mode": "immediate",
              "transition": {
               "duration": 0,
               "easing": "linear"
              }
             }
            ],
            "label": "2020-05-01",
            "method": "animate"
           },
           {
            "args": [
             [
              "2020-06-01"
             ],
             {
              "frame": {
               "duration": 0,
               "redraw": true
              },
              "fromcurrent": true,
              "mode": "immediate",
              "transition": {
               "duration": 0,
               "easing": "linear"
              }
             }
            ],
            "label": "2020-06-01",
            "method": "animate"
           },
           {
            "args": [
             [
              "2020-07-01"
             ],
             {
              "frame": {
               "duration": 0,
               "redraw": true
              },
              "fromcurrent": true,
              "mode": "immediate",
              "transition": {
               "duration": 0,
               "easing": "linear"
              }
             }
            ],
            "label": "2020-07-01",
            "method": "animate"
           },
           {
            "args": [
             [
              "2020-08-01"
             ],
             {
              "frame": {
               "duration": 0,
               "redraw": true
              },
              "fromcurrent": true,
              "mode": "immediate",
              "transition": {
               "duration": 0,
               "easing": "linear"
              }
             }
            ],
            "label": "2020-08-01",
            "method": "animate"
           },
           {
            "args": [
             [
              "2020-09-01"
             ],
             {
              "frame": {
               "duration": 0,
               "redraw": true
              },
              "fromcurrent": true,
              "mode": "immediate",
              "transition": {
               "duration": 0,
               "easing": "linear"
              }
             }
            ],
            "label": "2020-09-01",
            "method": "animate"
           },
           {
            "args": [
             [
              "2020-10-01"
             ],
             {
              "frame": {
               "duration": 0,
               "redraw": true
              },
              "fromcurrent": true,
              "mode": "immediate",
              "transition": {
               "duration": 0,
               "easing": "linear"
              }
             }
            ],
            "label": "2020-10-01",
            "method": "animate"
           },
           {
            "args": [
             [
              "2020-11-01"
             ],
             {
              "frame": {
               "duration": 0,
               "redraw": true
              },
              "fromcurrent": true,
              "mode": "immediate",
              "transition": {
               "duration": 0,
               "easing": "linear"
              }
             }
            ],
            "label": "2020-11-01",
            "method": "animate"
           },
           {
            "args": [
             [
              "2020-12-01"
             ],
             {
              "frame": {
               "duration": 0,
               "redraw": true
              },
              "fromcurrent": true,
              "mode": "immediate",
              "transition": {
               "duration": 0,
               "easing": "linear"
              }
             }
            ],
            "label": "2020-12-01",
            "method": "animate"
           },
           {
            "args": [
             [
              "2021-01-01"
             ],
             {
              "frame": {
               "duration": 0,
               "redraw": true
              },
              "fromcurrent": true,
              "mode": "immediate",
              "transition": {
               "duration": 0,
               "easing": "linear"
              }
             }
            ],
            "label": "2021-01-01",
            "method": "animate"
           },
           {
            "args": [
             [
              "2021-02-01"
             ],
             {
              "frame": {
               "duration": 0,
               "redraw": true
              },
              "fromcurrent": true,
              "mode": "immediate",
              "transition": {
               "duration": 0,
               "easing": "linear"
              }
             }
            ],
            "label": "2021-02-01",
            "method": "animate"
           },
           {
            "args": [
             [
              "2021-03-01"
             ],
             {
              "frame": {
               "duration": 0,
               "redraw": true
              },
              "fromcurrent": true,
              "mode": "immediate",
              "transition": {
               "duration": 0,
               "easing": "linear"
              }
             }
            ],
            "label": "2021-03-01",
            "method": "animate"
           },
           {
            "args": [
             [
              "2021-04-01"
             ],
             {
              "frame": {
               "duration": 0,
               "redraw": true
              },
              "fromcurrent": true,
              "mode": "immediate",
              "transition": {
               "duration": 0,
               "easing": "linear"
              }
             }
            ],
            "label": "2021-04-01",
            "method": "animate"
           },
           {
            "args": [
             [
              "2021-05-01"
             ],
             {
              "frame": {
               "duration": 0,
               "redraw": true
              },
              "fromcurrent": true,
              "mode": "immediate",
              "transition": {
               "duration": 0,
               "easing": "linear"
              }
             }
            ],
            "label": "2021-05-01",
            "method": "animate"
           },
           {
            "args": [
             [
              "2021-06-01"
             ],
             {
              "frame": {
               "duration": 0,
               "redraw": true
              },
              "fromcurrent": true,
              "mode": "immediate",
              "transition": {
               "duration": 0,
               "easing": "linear"
              }
             }
            ],
            "label": "2021-06-01",
            "method": "animate"
           },
           {
            "args": [
             [
              "2021-07-01"
             ],
             {
              "frame": {
               "duration": 0,
               "redraw": true
              },
              "fromcurrent": true,
              "mode": "immediate",
              "transition": {
               "duration": 0,
               "easing": "linear"
              }
             }
            ],
            "label": "2021-07-01",
            "method": "animate"
           },
           {
            "args": [
             [
              "2021-08-01"
             ],
             {
              "frame": {
               "duration": 0,
               "redraw": true
              },
              "fromcurrent": true,
              "mode": "immediate",
              "transition": {
               "duration": 0,
               "easing": "linear"
              }
             }
            ],
            "label": "2021-08-01",
            "method": "animate"
           },
           {
            "args": [
             [
              "2021-09-01"
             ],
             {
              "frame": {
               "duration": 0,
               "redraw": true
              },
              "fromcurrent": true,
              "mode": "immediate",
              "transition": {
               "duration": 0,
               "easing": "linear"
              }
             }
            ],
            "label": "2021-09-01",
            "method": "animate"
           },
           {
            "args": [
             [
              "2021-10-01"
             ],
             {
              "frame": {
               "duration": 0,
               "redraw": true
              },
              "fromcurrent": true,
              "mode": "immediate",
              "transition": {
               "duration": 0,
               "easing": "linear"
              }
             }
            ],
            "label": "2021-10-01",
            "method": "animate"
           },
           {
            "args": [
             [
              "2021-11-01"
             ],
             {
              "frame": {
               "duration": 0,
               "redraw": true
              },
              "fromcurrent": true,
              "mode": "immediate",
              "transition": {
               "duration": 0,
               "easing": "linear"
              }
             }
            ],
            "label": "2021-11-01",
            "method": "animate"
           },
           {
            "args": [
             [
              "2021-12-01"
             ],
             {
              "frame": {
               "duration": 0,
               "redraw": true
              },
              "fromcurrent": true,
              "mode": "immediate",
              "transition": {
               "duration": 0,
               "easing": "linear"
              }
             }
            ],
            "label": "2021-12-01",
            "method": "animate"
           },
           {
            "args": [
             [
              "2022-01-01"
             ],
             {
              "frame": {
               "duration": 0,
               "redraw": true
              },
              "fromcurrent": true,
              "mode": "immediate",
              "transition": {
               "duration": 0,
               "easing": "linear"
              }
             }
            ],
            "label": "2022-01-01",
            "method": "animate"
           },
           {
            "args": [
             [
              "2022-02-01"
             ],
             {
              "frame": {
               "duration": 0,
               "redraw": true
              },
              "fromcurrent": true,
              "mode": "immediate",
              "transition": {
               "duration": 0,
               "easing": "linear"
              }
             }
            ],
            "label": "2022-02-01",
            "method": "animate"
           },
           {
            "args": [
             [
              "2022-03-01"
             ],
             {
              "frame": {
               "duration": 0,
               "redraw": true
              },
              "fromcurrent": true,
              "mode": "immediate",
              "transition": {
               "duration": 0,
               "easing": "linear"
              }
             }
            ],
            "label": "2022-03-01",
            "method": "animate"
           },
           {
            "args": [
             [
              "2022-04-01"
             ],
             {
              "frame": {
               "duration": 0,
               "redraw": true
              },
              "fromcurrent": true,
              "mode": "immediate",
              "transition": {
               "duration": 0,
               "easing": "linear"
              }
             }
            ],
            "label": "2022-04-01",
            "method": "animate"
           },
           {
            "args": [
             [
              "2022-05-01"
             ],
             {
              "frame": {
               "duration": 0,
               "redraw": true
              },
              "fromcurrent": true,
              "mode": "immediate",
              "transition": {
               "duration": 0,
               "easing": "linear"
              }
             }
            ],
            "label": "2022-05-01",
            "method": "animate"
           }
          ],
          "x": 0.1,
          "xanchor": "left",
          "y": 0,
          "yanchor": "top"
         }
        ],
        "template": {
         "data": {
          "bar": [
           {
            "error_x": {
             "color": "#2a3f5f"
            },
            "error_y": {
             "color": "#2a3f5f"
            },
            "marker": {
             "line": {
              "color": "#E5ECF6",
              "width": 0.5
             },
             "pattern": {
              "fillmode": "overlay",
              "size": 10,
              "solidity": 0.2
             }
            },
            "type": "bar"
           }
          ],
          "barpolar": [
           {
            "marker": {
             "line": {
              "color": "#E5ECF6",
              "width": 0.5
             },
             "pattern": {
              "fillmode": "overlay",
              "size": 10,
              "solidity": 0.2
             }
            },
            "type": "barpolar"
           }
          ],
          "carpet": [
           {
            "aaxis": {
             "endlinecolor": "#2a3f5f",
             "gridcolor": "white",
             "linecolor": "white",
             "minorgridcolor": "white",
             "startlinecolor": "#2a3f5f"
            },
            "baxis": {
             "endlinecolor": "#2a3f5f",
             "gridcolor": "white",
             "linecolor": "white",
             "minorgridcolor": "white",
             "startlinecolor": "#2a3f5f"
            },
            "type": "carpet"
           }
          ],
          "choropleth": [
           {
            "colorbar": {
             "outlinewidth": 0,
             "ticks": ""
            },
            "type": "choropleth"
           }
          ],
          "contour": [
           {
            "colorbar": {
             "outlinewidth": 0,
             "ticks": ""
            },
            "colorscale": [
             [
              0,
              "#0d0887"
             ],
             [
              0.1111111111111111,
              "#46039f"
             ],
             [
              0.2222222222222222,
              "#7201a8"
             ],
             [
              0.3333333333333333,
              "#9c179e"
             ],
             [
              0.4444444444444444,
              "#bd3786"
             ],
             [
              0.5555555555555556,
              "#d8576b"
             ],
             [
              0.6666666666666666,
              "#ed7953"
             ],
             [
              0.7777777777777778,
              "#fb9f3a"
             ],
             [
              0.8888888888888888,
              "#fdca26"
             ],
             [
              1,
              "#f0f921"
             ]
            ],
            "type": "contour"
           }
          ],
          "contourcarpet": [
           {
            "colorbar": {
             "outlinewidth": 0,
             "ticks": ""
            },
            "type": "contourcarpet"
           }
          ],
          "heatmap": [
           {
            "colorbar": {
             "outlinewidth": 0,
             "ticks": ""
            },
            "colorscale": [
             [
              0,
              "#0d0887"
             ],
             [
              0.1111111111111111,
              "#46039f"
             ],
             [
              0.2222222222222222,
              "#7201a8"
             ],
             [
              0.3333333333333333,
              "#9c179e"
             ],
             [
              0.4444444444444444,
              "#bd3786"
             ],
             [
              0.5555555555555556,
              "#d8576b"
             ],
             [
              0.6666666666666666,
              "#ed7953"
             ],
             [
              0.7777777777777778,
              "#fb9f3a"
             ],
             [
              0.8888888888888888,
              "#fdca26"
             ],
             [
              1,
              "#f0f921"
             ]
            ],
            "type": "heatmap"
           }
          ],
          "heatmapgl": [
           {
            "colorbar": {
             "outlinewidth": 0,
             "ticks": ""
            },
            "colorscale": [
             [
              0,
              "#0d0887"
             ],
             [
              0.1111111111111111,
              "#46039f"
             ],
             [
              0.2222222222222222,
              "#7201a8"
             ],
             [
              0.3333333333333333,
              "#9c179e"
             ],
             [
              0.4444444444444444,
              "#bd3786"
             ],
             [
              0.5555555555555556,
              "#d8576b"
             ],
             [
              0.6666666666666666,
              "#ed7953"
             ],
             [
              0.7777777777777778,
              "#fb9f3a"
             ],
             [
              0.8888888888888888,
              "#fdca26"
             ],
             [
              1,
              "#f0f921"
             ]
            ],
            "type": "heatmapgl"
           }
          ],
          "histogram": [
           {
            "marker": {
             "pattern": {
              "fillmode": "overlay",
              "size": 10,
              "solidity": 0.2
             }
            },
            "type": "histogram"
           }
          ],
          "histogram2d": [
           {
            "colorbar": {
             "outlinewidth": 0,
             "ticks": ""
            },
            "colorscale": [
             [
              0,
              "#0d0887"
             ],
             [
              0.1111111111111111,
              "#46039f"
             ],
             [
              0.2222222222222222,
              "#7201a8"
             ],
             [
              0.3333333333333333,
              "#9c179e"
             ],
             [
              0.4444444444444444,
              "#bd3786"
             ],
             [
              0.5555555555555556,
              "#d8576b"
             ],
             [
              0.6666666666666666,
              "#ed7953"
             ],
             [
              0.7777777777777778,
              "#fb9f3a"
             ],
             [
              0.8888888888888888,
              "#fdca26"
             ],
             [
              1,
              "#f0f921"
             ]
            ],
            "type": "histogram2d"
           }
          ],
          "histogram2dcontour": [
           {
            "colorbar": {
             "outlinewidth": 0,
             "ticks": ""
            },
            "colorscale": [
             [
              0,
              "#0d0887"
             ],
             [
              0.1111111111111111,
              "#46039f"
             ],
             [
              0.2222222222222222,
              "#7201a8"
             ],
             [
              0.3333333333333333,
              "#9c179e"
             ],
             [
              0.4444444444444444,
              "#bd3786"
             ],
             [
              0.5555555555555556,
              "#d8576b"
             ],
             [
              0.6666666666666666,
              "#ed7953"
             ],
             [
              0.7777777777777778,
              "#fb9f3a"
             ],
             [
              0.8888888888888888,
              "#fdca26"
             ],
             [
              1,
              "#f0f921"
             ]
            ],
            "type": "histogram2dcontour"
           }
          ],
          "mesh3d": [
           {
            "colorbar": {
             "outlinewidth": 0,
             "ticks": ""
            },
            "type": "mesh3d"
           }
          ],
          "parcoords": [
           {
            "line": {
             "colorbar": {
              "outlinewidth": 0,
              "ticks": ""
             }
            },
            "type": "parcoords"
           }
          ],
          "pie": [
           {
            "automargin": true,
            "type": "pie"
           }
          ],
          "scatter": [
           {
            "fillpattern": {
             "fillmode": "overlay",
             "size": 10,
             "solidity": 0.2
            },
            "type": "scatter"
           }
          ],
          "scatter3d": [
           {
            "line": {
             "colorbar": {
              "outlinewidth": 0,
              "ticks": ""
             }
            },
            "marker": {
             "colorbar": {
              "outlinewidth": 0,
              "ticks": ""
             }
            },
            "type": "scatter3d"
           }
          ],
          "scattercarpet": [
           {
            "marker": {
             "colorbar": {
              "outlinewidth": 0,
              "ticks": ""
             }
            },
            "type": "scattercarpet"
           }
          ],
          "scattergeo": [
           {
            "marker": {
             "colorbar": {
              "outlinewidth": 0,
              "ticks": ""
             }
            },
            "type": "scattergeo"
           }
          ],
          "scattergl": [
           {
            "marker": {
             "colorbar": {
              "outlinewidth": 0,
              "ticks": ""
             }
            },
            "type": "scattergl"
           }
          ],
          "scattermapbox": [
           {
            "marker": {
             "colorbar": {
              "outlinewidth": 0,
              "ticks": ""
             }
            },
            "type": "scattermapbox"
           }
          ],
          "scatterpolar": [
           {
            "marker": {
             "colorbar": {
              "outlinewidth": 0,
              "ticks": ""
             }
            },
            "type": "scatterpolar"
           }
          ],
          "scatterpolargl": [
           {
            "marker": {
             "colorbar": {
              "outlinewidth": 0,
              "ticks": ""
             }
            },
            "type": "scatterpolargl"
           }
          ],
          "scatterternary": [
           {
            "marker": {
             "colorbar": {
              "outlinewidth": 0,
              "ticks": ""
             }
            },
            "type": "scatterternary"
           }
          ],
          "surface": [
           {
            "colorbar": {
             "outlinewidth": 0,
             "ticks": ""
            },
            "colorscale": [
             [
              0,
              "#0d0887"
             ],
             [
              0.1111111111111111,
              "#46039f"
             ],
             [
              0.2222222222222222,
              "#7201a8"
             ],
             [
              0.3333333333333333,
              "#9c179e"
             ],
             [
              0.4444444444444444,
              "#bd3786"
             ],
             [
              0.5555555555555556,
              "#d8576b"
             ],
             [
              0.6666666666666666,
              "#ed7953"
             ],
             [
              0.7777777777777778,
              "#fb9f3a"
             ],
             [
              0.8888888888888888,
              "#fdca26"
             ],
             [
              1,
              "#f0f921"
             ]
            ],
            "type": "surface"
           }
          ],
          "table": [
           {
            "cells": {
             "fill": {
              "color": "#EBF0F8"
             },
             "line": {
              "color": "white"
             }
            },
            "header": {
             "fill": {
              "color": "#C8D4E3"
             },
             "line": {
              "color": "white"
             }
            },
            "type": "table"
           }
          ]
         },
         "layout": {
          "annotationdefaults": {
           "arrowcolor": "#2a3f5f",
           "arrowhead": 0,
           "arrowwidth": 1
          },
          "autotypenumbers": "strict",
          "coloraxis": {
           "colorbar": {
            "outlinewidth": 0,
            "ticks": ""
           }
          },
          "colorscale": {
           "diverging": [
            [
             0,
             "#8e0152"
            ],
            [
             0.1,
             "#c51b7d"
            ],
            [
             0.2,
             "#de77ae"
            ],
            [
             0.3,
             "#f1b6da"
            ],
            [
             0.4,
             "#fde0ef"
            ],
            [
             0.5,
             "#f7f7f7"
            ],
            [
             0.6,
             "#e6f5d0"
            ],
            [
             0.7,
             "#b8e186"
            ],
            [
             0.8,
             "#7fbc41"
            ],
            [
             0.9,
             "#4d9221"
            ],
            [
             1,
             "#276419"
            ]
           ],
           "sequential": [
            [
             0,
             "#0d0887"
            ],
            [
             0.1111111111111111,
             "#46039f"
            ],
            [
             0.2222222222222222,
             "#7201a8"
            ],
            [
             0.3333333333333333,
             "#9c179e"
            ],
            [
             0.4444444444444444,
             "#bd3786"
            ],
            [
             0.5555555555555556,
             "#d8576b"
            ],
            [
             0.6666666666666666,
             "#ed7953"
            ],
            [
             0.7777777777777778,
             "#fb9f3a"
            ],
            [
             0.8888888888888888,
             "#fdca26"
            ],
            [
             1,
             "#f0f921"
            ]
           ],
           "sequentialminus": [
            [
             0,
             "#0d0887"
            ],
            [
             0.1111111111111111,
             "#46039f"
            ],
            [
             0.2222222222222222,
             "#7201a8"
            ],
            [
             0.3333333333333333,
             "#9c179e"
            ],
            [
             0.4444444444444444,
             "#bd3786"
            ],
            [
             0.5555555555555556,
             "#d8576b"
            ],
            [
             0.6666666666666666,
             "#ed7953"
            ],
            [
             0.7777777777777778,
             "#fb9f3a"
            ],
            [
             0.8888888888888888,
             "#fdca26"
            ],
            [
             1,
             "#f0f921"
            ]
           ]
          },
          "colorway": [
           "#636efa",
           "#EF553B",
           "#00cc96",
           "#ab63fa",
           "#FFA15A",
           "#19d3f3",
           "#FF6692",
           "#B6E880",
           "#FF97FF",
           "#FECB52"
          ],
          "font": {
           "color": "#2a3f5f"
          },
          "geo": {
           "bgcolor": "white",
           "lakecolor": "white",
           "landcolor": "#E5ECF6",
           "showlakes": true,
           "showland": true,
           "subunitcolor": "white"
          },
          "hoverlabel": {
           "align": "left"
          },
          "hovermode": "closest",
          "mapbox": {
           "style": "light"
          },
          "paper_bgcolor": "white",
          "plot_bgcolor": "#E5ECF6",
          "polar": {
           "angularaxis": {
            "gridcolor": "white",
            "linecolor": "white",
            "ticks": ""
           },
           "bgcolor": "#E5ECF6",
           "radialaxis": {
            "gridcolor": "white",
            "linecolor": "white",
            "ticks": ""
           }
          },
          "scene": {
           "xaxis": {
            "backgroundcolor": "#E5ECF6",
            "gridcolor": "white",
            "gridwidth": 2,
            "linecolor": "white",
            "showbackground": true,
            "ticks": "",
            "zerolinecolor": "white"
           },
           "yaxis": {
            "backgroundcolor": "#E5ECF6",
            "gridcolor": "white",
            "gridwidth": 2,
            "linecolor": "white",
            "showbackground": true,
            "ticks": "",
            "zerolinecolor": "white"
           },
           "zaxis": {
            "backgroundcolor": "#E5ECF6",
            "gridcolor": "white",
            "gridwidth": 2,
            "linecolor": "white",
            "showbackground": true,
            "ticks": "",
            "zerolinecolor": "white"
           }
          },
          "shapedefaults": {
           "line": {
            "color": "#2a3f5f"
           }
          },
          "ternary": {
           "aaxis": {
            "gridcolor": "white",
            "linecolor": "white",
            "ticks": ""
           },
           "baxis": {
            "gridcolor": "white",
            "linecolor": "white",
            "ticks": ""
           },
           "bgcolor": "#E5ECF6",
           "caxis": {
            "gridcolor": "white",
            "linecolor": "white",
            "ticks": ""
           }
          },
          "title": {
           "x": 0.05
          },
          "xaxis": {
           "automargin": true,
           "gridcolor": "white",
           "linecolor": "white",
           "ticks": "",
           "title": {
            "standoff": 15
           },
           "zerolinecolor": "white",
           "zerolinewidth": 2
          },
          "yaxis": {
           "automargin": true,
           "gridcolor": "white",
           "linecolor": "white",
           "ticks": "",
           "title": {
            "standoff": 15
           },
           "zerolinecolor": "white",
           "zerolinewidth": 2
          }
         }
        },
        "title": {
         "text": "CO2 emmissions transport sector"
        },
        "updatemenus": [
         {
          "buttons": [
           {
            "args": [
             null,
             {
              "frame": {
               "duration": 500,
               "redraw": true
              },
              "fromcurrent": true,
              "mode": "immediate",
              "transition": {
               "duration": 500,
               "easing": "linear"
              }
             }
            ],
            "label": "&#9654;",
            "method": "animate"
           },
           {
            "args": [
             [
              null
             ],
             {
              "frame": {
               "duration": 0,
               "redraw": true
              },
              "fromcurrent": true,
              "mode": "immediate",
              "transition": {
               "duration": 0,
               "easing": "linear"
              }
             }
            ],
            "label": "&#9724;",
            "method": "animate"
           }
          ],
          "direction": "left",
          "pad": {
           "r": 10,
           "t": 70
          },
          "showactive": false,
          "type": "buttons",
          "x": 0.1,
          "xanchor": "right",
          "y": 0,
          "yanchor": "top"
         }
        ],
        "width": 1080
       }
      }
     },
     "metadata": {},
     "output_type": "display_data"
    }
   ],
   "source": [
    "fig = px.choropleth(df_filt[df_filt.sector =='Domestic Aviation'], \n",
    "                    # geojson= counties,\n",
    "                    # featureidkey='ISO_A3',\n",
    "                    locations= 'country',\n",
    "                    locationmode= \"country names\",\n",
    "                    color='co2',\n",
    "                    #hover_name=\"country\",\n",
    "                    animation_frame= 'date'\n",
    "                    #zoom=2,\n",
    ")\n",
    "fig.update_geos(lataxis_range=latrange, lonaxis_range=lonrange)  \n",
    "fig.update_layout(\n",
    "    title_text = \"CO2 emmissions transport sector\",\n",
    "    geo = dict(\n",
    "        showframe = False,\n",
    "        showcoastlines = True,\n",
    "        projection_type = \"equirectangular\",\n",
    "    ),\n",
    "    \n",
    "                    #color_continuous_scale=\"Blues_r\n",
    "    height=1000,\n",
    "    width  = 1080\n",
    "    #margin={\"r\":0,\"t\":0,\"l\":0,\"b\":0},\n",
    ")\n",
    "\n",
    "fig.show()"
   ]
  },
  {
   "cell_type": "code",
   "execution_count": null,
   "metadata": {},
   "outputs": [
    {
     "data": {
      "application/vnd.plotly.v1+json": {
       "config": {
        "plotlyServerURL": "https://plot.ly"
       },
       "data": [
        {
         "alignmentgroup": "True",
         "hovertemplate": "continent=%{x}<br>pop=%{y}<extra></extra>",
         "legendgroup": "Africa",
         "marker": {
          "color": "#636efa",
          "pattern": {
           "shape": ""
          }
         },
         "name": "Africa",
         "offsetgroup": "Africa",
         "orientation": "v",
         "showlegend": true,
         "textposition": "auto",
         "type": "bar",
         "x": [
          "Africa"
         ],
         "xaxis": "x",
         "y": [
          237640501
         ],
         "yaxis": "y"
        },
        {
         "alignmentgroup": "True",
         "hovertemplate": "continent=%{x}<br>pop=%{y}<extra></extra>",
         "legendgroup": "Americas",
         "marker": {
          "color": "#EF553B",
          "pattern": {
           "shape": ""
          }
         },
         "name": "Americas",
         "offsetgroup": "Americas",
         "orientation": "v",
         "showlegend": true,
         "textposition": "auto",
         "type": "bar",
         "x": [
          "Americas"
         ],
         "xaxis": "x",
         "y": [
          345152446
         ],
         "yaxis": "y"
        },
        {
         "alignmentgroup": "True",
         "hovertemplate": "continent=%{x}<br>pop=%{y}<extra></extra>",
         "legendgroup": "Asia",
         "marker": {
          "color": "#00cc96",
          "pattern": {
           "shape": ""
          }
         },
         "name": "Asia",
         "offsetgroup": "Asia",
         "orientation": "v",
         "showlegend": true,
         "textposition": "auto",
         "type": "bar",
         "x": [
          "Asia"
         ],
         "xaxis": "x",
         "y": [
          1395357351
         ],
         "yaxis": "y"
        },
        {
         "alignmentgroup": "True",
         "hovertemplate": "continent=%{x}<br>pop=%{y}<extra></extra>",
         "legendgroup": "Europe",
         "marker": {
          "color": "#ab63fa",
          "pattern": {
           "shape": ""
          }
         },
         "name": "Europe",
         "offsetgroup": "Europe",
         "orientation": "v",
         "showlegend": true,
         "textposition": "auto",
         "type": "bar",
         "x": [
          "Europe"
         ],
         "xaxis": "x",
         "y": [
          418120846
         ],
         "yaxis": "y"
        },
        {
         "alignmentgroup": "True",
         "hovertemplate": "continent=%{x}<br>pop=%{y}<extra></extra>",
         "legendgroup": "Oceania",
         "marker": {
          "color": "#FFA15A",
          "pattern": {
           "shape": ""
          }
         },
         "name": "Oceania",
         "offsetgroup": "Oceania",
         "orientation": "v",
         "showlegend": true,
         "textposition": "auto",
         "type": "bar",
         "x": [
          "Oceania"
         ],
         "xaxis": "x",
         "y": [
          10686006
         ],
         "yaxis": "y"
        }
       ],
       "layout": {
        "barmode": "relative",
        "legend": {
         "title": {
          "text": "continent"
         },
         "tracegroupgap": 0
        },
        "margin": {
         "t": 60
        },
        "template": {
         "data": {
          "bar": [
           {
            "error_x": {
             "color": "#2a3f5f"
            },
            "error_y": {
             "color": "#2a3f5f"
            },
            "marker": {
             "line": {
              "color": "#E5ECF6",
              "width": 0.5
             },
             "pattern": {
              "fillmode": "overlay",
              "size": 10,
              "solidity": 0.2
             }
            },
            "type": "bar"
           }
          ],
          "barpolar": [
           {
            "marker": {
             "line": {
              "color": "#E5ECF6",
              "width": 0.5
             },
             "pattern": {
              "fillmode": "overlay",
              "size": 10,
              "solidity": 0.2
             }
            },
            "type": "barpolar"
           }
          ],
          "carpet": [
           {
            "aaxis": {
             "endlinecolor": "#2a3f5f",
             "gridcolor": "white",
             "linecolor": "white",
             "minorgridcolor": "white",
             "startlinecolor": "#2a3f5f"
            },
            "baxis": {
             "endlinecolor": "#2a3f5f",
             "gridcolor": "white",
             "linecolor": "white",
             "minorgridcolor": "white",
             "startlinecolor": "#2a3f5f"
            },
            "type": "carpet"
           }
          ],
          "choropleth": [
           {
            "colorbar": {
             "outlinewidth": 0,
             "ticks": ""
            },
            "type": "choropleth"
           }
          ],
          "contour": [
           {
            "colorbar": {
             "outlinewidth": 0,
             "ticks": ""
            },
            "colorscale": [
             [
              0,
              "#0d0887"
             ],
             [
              0.1111111111111111,
              "#46039f"
             ],
             [
              0.2222222222222222,
              "#7201a8"
             ],
             [
              0.3333333333333333,
              "#9c179e"
             ],
             [
              0.4444444444444444,
              "#bd3786"
             ],
             [
              0.5555555555555556,
              "#d8576b"
             ],
             [
              0.6666666666666666,
              "#ed7953"
             ],
             [
              0.7777777777777778,
              "#fb9f3a"
             ],
             [
              0.8888888888888888,
              "#fdca26"
             ],
             [
              1,
              "#f0f921"
             ]
            ],
            "type": "contour"
           }
          ],
          "contourcarpet": [
           {
            "colorbar": {
             "outlinewidth": 0,
             "ticks": ""
            },
            "type": "contourcarpet"
           }
          ],
          "heatmap": [
           {
            "colorbar": {
             "outlinewidth": 0,
             "ticks": ""
            },
            "colorscale": [
             [
              0,
              "#0d0887"
             ],
             [
              0.1111111111111111,
              "#46039f"
             ],
             [
              0.2222222222222222,
              "#7201a8"
             ],
             [
              0.3333333333333333,
              "#9c179e"
             ],
             [
              0.4444444444444444,
              "#bd3786"
             ],
             [
              0.5555555555555556,
              "#d8576b"
             ],
             [
              0.6666666666666666,
              "#ed7953"
             ],
             [
              0.7777777777777778,
              "#fb9f3a"
             ],
             [
              0.8888888888888888,
              "#fdca26"
             ],
             [
              1,
              "#f0f921"
             ]
            ],
            "type": "heatmap"
           }
          ],
          "heatmapgl": [
           {
            "colorbar": {
             "outlinewidth": 0,
             "ticks": ""
            },
            "colorscale": [
             [
              0,
              "#0d0887"
             ],
             [
              0.1111111111111111,
              "#46039f"
             ],
             [
              0.2222222222222222,
              "#7201a8"
             ],
             [
              0.3333333333333333,
              "#9c179e"
             ],
             [
              0.4444444444444444,
              "#bd3786"
             ],
             [
              0.5555555555555556,
              "#d8576b"
             ],
             [
              0.6666666666666666,
              "#ed7953"
             ],
             [
              0.7777777777777778,
              "#fb9f3a"
             ],
             [
              0.8888888888888888,
              "#fdca26"
             ],
             [
              1,
              "#f0f921"
             ]
            ],
            "type": "heatmapgl"
           }
          ],
          "histogram": [
           {
            "marker": {
             "pattern": {
              "fillmode": "overlay",
              "size": 10,
              "solidity": 0.2
             }
            },
            "type": "histogram"
           }
          ],
          "histogram2d": [
           {
            "colorbar": {
             "outlinewidth": 0,
             "ticks": ""
            },
            "colorscale": [
             [
              0,
              "#0d0887"
             ],
             [
              0.1111111111111111,
              "#46039f"
             ],
             [
              0.2222222222222222,
              "#7201a8"
             ],
             [
              0.3333333333333333,
              "#9c179e"
             ],
             [
              0.4444444444444444,
              "#bd3786"
             ],
             [
              0.5555555555555556,
              "#d8576b"
             ],
             [
              0.6666666666666666,
              "#ed7953"
             ],
             [
              0.7777777777777778,
              "#fb9f3a"
             ],
             [
              0.8888888888888888,
              "#fdca26"
             ],
             [
              1,
              "#f0f921"
             ]
            ],
            "type": "histogram2d"
           }
          ],
          "histogram2dcontour": [
           {
            "colorbar": {
             "outlinewidth": 0,
             "ticks": ""
            },
            "colorscale": [
             [
              0,
              "#0d0887"
             ],
             [
              0.1111111111111111,
              "#46039f"
             ],
             [
              0.2222222222222222,
              "#7201a8"
             ],
             [
              0.3333333333333333,
              "#9c179e"
             ],
             [
              0.4444444444444444,
              "#bd3786"
             ],
             [
              0.5555555555555556,
              "#d8576b"
             ],
             [
              0.6666666666666666,
              "#ed7953"
             ],
             [
              0.7777777777777778,
              "#fb9f3a"
             ],
             [
              0.8888888888888888,
              "#fdca26"
             ],
             [
              1,
              "#f0f921"
             ]
            ],
            "type": "histogram2dcontour"
           }
          ],
          "mesh3d": [
           {
            "colorbar": {
             "outlinewidth": 0,
             "ticks": ""
            },
            "type": "mesh3d"
           }
          ],
          "parcoords": [
           {
            "line": {
             "colorbar": {
              "outlinewidth": 0,
              "ticks": ""
             }
            },
            "type": "parcoords"
           }
          ],
          "pie": [
           {
            "automargin": true,
            "type": "pie"
           }
          ],
          "scatter": [
           {
            "fillpattern": {
             "fillmode": "overlay",
             "size": 10,
             "solidity": 0.2
            },
            "type": "scatter"
           }
          ],
          "scatter3d": [
           {
            "line": {
             "colorbar": {
              "outlinewidth": 0,
              "ticks": ""
             }
            },
            "marker": {
             "colorbar": {
              "outlinewidth": 0,
              "ticks": ""
             }
            },
            "type": "scatter3d"
           }
          ],
          "scattercarpet": [
           {
            "marker": {
             "colorbar": {
              "outlinewidth": 0,
              "ticks": ""
             }
            },
            "type": "scattercarpet"
           }
          ],
          "scattergeo": [
           {
            "marker": {
             "colorbar": {
              "outlinewidth": 0,
              "ticks": ""
             }
            },
            "type": "scattergeo"
           }
          ],
          "scattergl": [
           {
            "marker": {
             "colorbar": {
              "outlinewidth": 0,
              "ticks": ""
             }
            },
            "type": "scattergl"
           }
          ],
          "scattermapbox": [
           {
            "marker": {
             "colorbar": {
              "outlinewidth": 0,
              "ticks": ""
             }
            },
            "type": "scattermapbox"
           }
          ],
          "scatterpolar": [
           {
            "marker": {
             "colorbar": {
              "outlinewidth": 0,
              "ticks": ""
             }
            },
            "type": "scatterpolar"
           }
          ],
          "scatterpolargl": [
           {
            "marker": {
             "colorbar": {
              "outlinewidth": 0,
              "ticks": ""
             }
            },
            "type": "scatterpolargl"
           }
          ],
          "scatterternary": [
           {
            "marker": {
             "colorbar": {
              "outlinewidth": 0,
              "ticks": ""
             }
            },
            "type": "scatterternary"
           }
          ],
          "surface": [
           {
            "colorbar": {
             "outlinewidth": 0,
             "ticks": ""
            },
            "colorscale": [
             [
              0,
              "#0d0887"
             ],
             [
              0.1111111111111111,
              "#46039f"
             ],
             [
              0.2222222222222222,
              "#7201a8"
             ],
             [
              0.3333333333333333,
              "#9c179e"
             ],
             [
              0.4444444444444444,
              "#bd3786"
             ],
             [
              0.5555555555555556,
              "#d8576b"
             ],
             [
              0.6666666666666666,
              "#ed7953"
             ],
             [
              0.7777777777777778,
              "#fb9f3a"
             ],
             [
              0.8888888888888888,
              "#fdca26"
             ],
             [
              1,
              "#f0f921"
             ]
            ],
            "type": "surface"
           }
          ],
          "table": [
           {
            "cells": {
             "fill": {
              "color": "#EBF0F8"
             },
             "line": {
              "color": "white"
             }
            },
            "header": {
             "fill": {
              "color": "#C8D4E3"
             },
             "line": {
              "color": "white"
             }
            },
            "type": "table"
           }
          ]
         },
         "layout": {
          "annotationdefaults": {
           "arrowcolor": "#2a3f5f",
           "arrowhead": 0,
           "arrowwidth": 1
          },
          "autotypenumbers": "strict",
          "coloraxis": {
           "colorbar": {
            "outlinewidth": 0,
            "ticks": ""
           }
          },
          "colorscale": {
           "diverging": [
            [
             0,
             "#8e0152"
            ],
            [
             0.1,
             "#c51b7d"
            ],
            [
             0.2,
             "#de77ae"
            ],
            [
             0.3,
             "#f1b6da"
            ],
            [
             0.4,
             "#fde0ef"
            ],
            [
             0.5,
             "#f7f7f7"
            ],
            [
             0.6,
             "#e6f5d0"
            ],
            [
             0.7,
             "#b8e186"
            ],
            [
             0.8,
             "#7fbc41"
            ],
            [
             0.9,
             "#4d9221"
            ],
            [
             1,
             "#276419"
            ]
           ],
           "sequential": [
            [
             0,
             "#0d0887"
            ],
            [
             0.1111111111111111,
             "#46039f"
            ],
            [
             0.2222222222222222,
             "#7201a8"
            ],
            [
             0.3333333333333333,
             "#9c179e"
            ],
            [
             0.4444444444444444,
             "#bd3786"
            ],
            [
             0.5555555555555556,
             "#d8576b"
            ],
            [
             0.6666666666666666,
             "#ed7953"
            ],
            [
             0.7777777777777778,
             "#fb9f3a"
            ],
            [
             0.8888888888888888,
             "#fdca26"
            ],
            [
             1,
             "#f0f921"
            ]
           ],
           "sequentialminus": [
            [
             0,
             "#0d0887"
            ],
            [
             0.1111111111111111,
             "#46039f"
            ],
            [
             0.2222222222222222,
             "#7201a8"
            ],
            [
             0.3333333333333333,
             "#9c179e"
            ],
            [
             0.4444444444444444,
             "#bd3786"
            ],
            [
             0.5555555555555556,
             "#d8576b"
            ],
            [
             0.6666666666666666,
             "#ed7953"
            ],
            [
             0.7777777777777778,
             "#fb9f3a"
            ],
            [
             0.8888888888888888,
             "#fdca26"
            ],
            [
             1,
             "#f0f921"
            ]
           ]
          },
          "colorway": [
           "#636efa",
           "#EF553B",
           "#00cc96",
           "#ab63fa",
           "#FFA15A",
           "#19d3f3",
           "#FF6692",
           "#B6E880",
           "#FF97FF",
           "#FECB52"
          ],
          "font": {
           "color": "#2a3f5f"
          },
          "geo": {
           "bgcolor": "white",
           "lakecolor": "white",
           "landcolor": "#E5ECF6",
           "showlakes": true,
           "showland": true,
           "subunitcolor": "white"
          },
          "hoverlabel": {
           "align": "left"
          },
          "hovermode": "closest",
          "mapbox": {
           "style": "light"
          },
          "paper_bgcolor": "white",
          "plot_bgcolor": "#E5ECF6",
          "polar": {
           "angularaxis": {
            "gridcolor": "white",
            "linecolor": "white",
            "ticks": ""
           },
           "bgcolor": "#E5ECF6",
           "radialaxis": {
            "gridcolor": "white",
            "linecolor": "white",
            "ticks": ""
           }
          },
          "scene": {
           "xaxis": {
            "backgroundcolor": "#E5ECF6",
            "gridcolor": "white",
            "gridwidth": 2,
            "linecolor": "white",
            "showbackground": true,
            "ticks": "",
            "zerolinecolor": "white"
           },
           "yaxis": {
            "backgroundcolor": "#E5ECF6",
            "gridcolor": "white",
            "gridwidth": 2,
            "linecolor": "white",
            "showbackground": true,
            "ticks": "",
            "zerolinecolor": "white"
           },
           "zaxis": {
            "backgroundcolor": "#E5ECF6",
            "gridcolor": "white",
            "gridwidth": 2,
            "linecolor": "white",
            "showbackground": true,
            "ticks": "",
            "zerolinecolor": "white"
           }
          },
          "shapedefaults": {
           "line": {
            "color": "#2a3f5f"
           }
          },
          "ternary": {
           "aaxis": {
            "gridcolor": "white",
            "linecolor": "white",
            "ticks": ""
           },
           "baxis": {
            "gridcolor": "white",
            "linecolor": "white",
            "ticks": ""
           },
           "bgcolor": "#E5ECF6",
           "caxis": {
            "gridcolor": "white",
            "linecolor": "white",
            "ticks": ""
           }
          },
          "title": {
           "x": 0.05
          },
          "xaxis": {
           "automargin": true,
           "gridcolor": "white",
           "linecolor": "white",
           "ticks": "",
           "title": {
            "standoff": 15
           },
           "zerolinecolor": "white",
           "zerolinewidth": 2
          },
          "yaxis": {
           "automargin": true,
           "gridcolor": "white",
           "linecolor": "white",
           "ticks": "",
           "title": {
            "standoff": 15
           },
           "zerolinecolor": "white",
           "zerolinewidth": 2
          }
         }
        },
        "xaxis": {
         "anchor": "y",
         "categoryarray": [
          "Africa",
          "Americas",
          "Asia",
          "Europe",
          "Oceania"
         ],
         "categoryorder": "array",
         "domain": [
          0,
          1
         ],
         "title": {
          "text": "continent"
         }
        },
        "yaxis": {
         "anchor": "x",
         "domain": [
          0,
          1
         ],
         "range": [
          0,
          4000000000
         ],
         "title": {
          "text": "pop"
         }
        }
       }
      }
     },
     "metadata": {},
     "output_type": "display_data"
    }
   ],
   "source": []
  }
 ],
 "metadata": {
  "kernelspec": {
   "display_name": "Python 3.10.6 ('TIL6022')",
   "language": "python",
   "name": "python3"
  },
  "language_info": {
   "codemirror_mode": {
    "name": "ipython",
    "version": 3
   },
   "file_extension": ".py",
   "mimetype": "text/x-python",
   "name": "python",
   "nbconvert_exporter": "python",
   "pygments_lexer": "ipython3",
   "version": "3.10.6"
  },
  "orig_nbformat": 4,
  "vscode": {
   "interpreter": {
    "hash": "912e563e9dcba4627191cc3d93bbeccfd6aeff90cb759bc69d8ed01eba93c0fe"
   }
  }
 },
 "nbformat": 4,
 "nbformat_minor": 2
}
