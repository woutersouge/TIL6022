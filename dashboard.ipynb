{
 "cells": [
  {
   "cell_type": "code",
   "execution_count": 89,
   "metadata": {},
   "outputs": [
    {
     "ename": "TypeError",
     "evalue": "to_datetime() missing 1 required positional argument: 'arg'",
     "output_type": "error",
     "traceback": [
      "\u001b[1;31m---------------------------------------------------------------------------\u001b[0m",
      "\u001b[1;31mTypeError\u001b[0m                                 Traceback (most recent call last)",
      "Cell \u001b[1;32mIn [89], line 17\u001b[0m\n\u001b[0;32m     15\u001b[0m df_filt \u001b[39m=\u001b[39m df\u001b[39m.\u001b[39mgroupby([\u001b[39m'\u001b[39m\u001b[39mcountry\u001b[39m\u001b[39m'\u001b[39m,\u001b[39m'\u001b[39m\u001b[39msector\u001b[39m\u001b[39m'\u001b[39m])\u001b[39m.\u001b[39mresample(\u001b[39m'\u001b[39m\u001b[39mMS\u001b[39m\u001b[39m'\u001b[39m,on\u001b[39m=\u001b[39m\u001b[39m'\u001b[39m\u001b[39mdate\u001b[39m\u001b[39m'\u001b[39m)\u001b[39m.\u001b[39msum()    \u001b[39m#D for Day, MS for month, QS to quarter, Y for year\u001b[39;00m\n\u001b[0;32m     16\u001b[0m df_filt \u001b[39m=\u001b[39m df_filt\u001b[39m.\u001b[39mreset_index\n\u001b[1;32m---> 17\u001b[0m df_filt\u001b[39m.\u001b[39mdate \u001b[39m=\u001b[39m pd\u001b[39m.\u001b[39;49mto_datetime()\n",
      "\u001b[1;31mTypeError\u001b[0m: to_datetime() missing 1 required positional argument: 'arg'"
     ]
    }
   ],
   "source": [
    "import streamlit as st\n",
    "import json\n",
    "import plotly.express as px\n",
    "import pandas as pd\n",
    "import geopandas as gpd\n",
    "import geojson\n",
    "import folium\n",
    "import numpy as np\n",
    "\n",
    "dataset = 'TILL6022_Emission_Dataset.csv'\n",
    "df = pd.read_csv(dataset, delimiter=',', encoding='ISO-8859-1',parse_dates = ['date'])\n",
    "#df.set_index('country', inplace=True)\n",
    "#sf = df[df.date == '2019-01-01']\n",
    "# vf = df[df.sector == 'Total']\n",
    "df_filt = df.groupby(['country','sector']).resample('MS',on='date').sum()    #D for Day, MS for month, QS to quarter, Y for year\n",
    "df_filt = df_filt.reset_index\n",
    "df_filt.date = pd.to_datetime()\n",
    "\n"
   ]
  },
  {
   "cell_type": "markdown",
   "metadata": {},
   "source": [
    "Useful commands for geopandas\n",
    "#ar = gdf[gdf.ADMIN == 'Aruba'] #To find the country Aruba\n",
    "#print(ar.area)                 #Print area of country Aruba\n",
    "# gdf.ADMIN['Aruba']"
   ]
  },
  {
   "cell_type": "code",
   "execution_count": 37,
   "metadata": {},
   "outputs": [
    {
     "name": "stderr",
     "output_type": "stream",
     "text": [
      "C:\\Users\\timtr\\AppData\\Local\\Temp\\ipykernel_13688\\777596988.py:4: UserWarning:\n",
      "\n",
      "Geometry is in a geographic CRS. Results from 'area' are likely incorrect. Use 'GeoSeries.to_crs()' to re-project geometries to a projected CRS before this operation.\n",
      "\n",
      "\n"
     ]
    },
    {
     "data": {
      "text/html": [
       "<div>\n",
       "<style scoped>\n",
       "    .dataframe tbody tr th:only-of-type {\n",
       "        vertical-align: middle;\n",
       "    }\n",
       "\n",
       "    .dataframe tbody tr th {\n",
       "        vertical-align: top;\n",
       "    }\n",
       "\n",
       "    .dataframe thead th {\n",
       "        text-align: right;\n",
       "    }\n",
       "</style>\n",
       "<table border=\"1\" class=\"dataframe\">\n",
       "  <thead>\n",
       "    <tr style=\"text-align: right;\">\n",
       "      <th></th>\n",
       "      <th>geometry</th>\n",
       "      <th>ADMIN</th>\n",
       "      <th>ISO_A3</th>\n",
       "    </tr>\n",
       "  </thead>\n",
       "  <tbody>\n",
       "    <tr>\n",
       "      <th>1</th>\n",
       "      <td>POLYGON ((71.04980 38.40866, 71.05714 38.40903...</td>\n",
       "      <td>Afghanistan</td>\n",
       "      <td>AFG</td>\n",
       "    </tr>\n",
       "    <tr>\n",
       "      <th>2</th>\n",
       "      <td>MULTIPOLYGON (((11.73752 -16.69258, 11.73851 -...</td>\n",
       "      <td>Angola</td>\n",
       "      <td>AGO</td>\n",
       "    </tr>\n",
       "    <tr>\n",
       "      <th>4</th>\n",
       "      <td>POLYGON ((19.74777 42.57890, 19.74601 42.57993...</td>\n",
       "      <td>Albania</td>\n",
       "      <td>ALB</td>\n",
       "    </tr>\n",
       "    <tr>\n",
       "      <th>7</th>\n",
       "      <td>MULTIPOLYGON (((53.86305 24.23469, 53.88860 24...</td>\n",
       "      <td>United Arab Emirates</td>\n",
       "      <td>ARE</td>\n",
       "    </tr>\n",
       "    <tr>\n",
       "      <th>8</th>\n",
       "      <td>MULTIPOLYGON (((-68.65412 -54.88624, -68.65413...</td>\n",
       "      <td>Argentina</td>\n",
       "      <td>ARG</td>\n",
       "    </tr>\n",
       "  </tbody>\n",
       "</table>\n",
       "</div>"
      ],
      "text/plain": [
       "                                            geometry                 ADMIN  \\\n",
       "1  POLYGON ((71.04980 38.40866, 71.05714 38.40903...           Afghanistan   \n",
       "2  MULTIPOLYGON (((11.73752 -16.69258, 11.73851 -...                Angola   \n",
       "4  POLYGON ((19.74777 42.57890, 19.74601 42.57993...               Albania   \n",
       "7  MULTIPOLYGON (((53.86305 24.23469, 53.88860 24...  United Arab Emirates   \n",
       "8  MULTIPOLYGON (((-68.65412 -54.88624, -68.65413...             Argentina   \n",
       "\n",
       "  ISO_A3  \n",
       "1    AFG  \n",
       "2    AGO  \n",
       "4    ALB  \n",
       "7    ARE  \n",
       "8    ARG  "
      ]
     },
     "execution_count": 37,
     "metadata": {},
     "output_type": "execute_result"
    }
   ],
   "source": [
    "with open(\"B:\\Documenten\\TU_Delft\\Master\\Module_1\\Python\\Assignment\\TIL6022\\countries.geojson\") as f:\n",
    "    counties = geojson.load(f)\n",
    "gdf = gpd.GeoDataFrame.from_features(counties[\"features\"], crs=4326)\n",
    "mask = gdf.area >2    # Function to remove smaller countries to speed up \n",
    "gdf_selec = gdf.loc[mask]\n",
    "gdf_selec.head()"
   ]
  },
  {
   "cell_type": "code",
   "execution_count": 14,
   "metadata": {},
   "outputs": [],
   "source": [
    "# map = folium.Map(\n",
    "#     location=[\n",
    "#         gdf_selec.geometry.bounds.miny.mean(),\n",
    "#         gdf_selec.geometry.bounds.minx.mean()\n",
    "#     ],\n",
    "#     zoom_start=1\n",
    "# )\n",
    "\n",
    "# gjson = folium.features.GeoJson(\n",
    "#     gdf_selec,\n",
    "# ).add_to(map)\n",
    "# map"
   ]
  },
  {
   "cell_type": "code",
   "execution_count": 71,
   "metadata": {},
   "outputs": [],
   "source": [
    "# fig = px.choropleth(vf, geojson=gdf_selec, color=\"co2\",\n",
    "#                     locations=\"ISO-A3\", featureidkey=\"properties.district\",\n",
    "#                     projection=\"mercator\"\n",
    "#                    )\n",
    "# fig.update_geos(fitbounds=\"locations\", visible=False)\n",
    "# fig.update_layout(margin={\"r\":0,\"t\":0,\"l\":0,\"b\":0})\n",
    "# fig.show()\n"
   ]
  },
  {
   "cell_type": "code",
   "execution_count": 66,
   "metadata": {},
   "outputs": [
    {
     "ename": "KeyError",
     "evalue": "Timestamp('2019-01-01 00:00:00')",
     "output_type": "error",
     "traceback": [
      "\u001b[1;31m---------------------------------------------------------------------------\u001b[0m",
      "\u001b[1;31mKeyError\u001b[0m                                  Traceback (most recent call last)",
      "Cell \u001b[1;32mIn [66], line 1\u001b[0m\n\u001b[1;32m----> 1\u001b[0m fig \u001b[39m=\u001b[39m px\u001b[39m.\u001b[39;49mchoropleth(df_filt[df_filt\u001b[39m.\u001b[39;49msector \u001b[39m==\u001b[39;49m\u001b[39m'\u001b[39;49m\u001b[39mDomestic Aviation\u001b[39;49m\u001b[39m'\u001b[39;49m], locations\u001b[39m=\u001b[39;49m \u001b[39m'\u001b[39;49m\u001b[39mcountry\u001b[39;49m\u001b[39m'\u001b[39;49m,\n\u001b[0;32m      2\u001b[0m                     locationmode\u001b[39m=\u001b[39;49m \u001b[39m\"\u001b[39;49m\u001b[39mcountry names\u001b[39;49m\u001b[39m\"\u001b[39;49m,\n\u001b[0;32m      3\u001b[0m                     color\u001b[39m=\u001b[39;49m\u001b[39m'\u001b[39;49m\u001b[39mco2\u001b[39;49m\u001b[39m'\u001b[39;49m,\n\u001b[0;32m      4\u001b[0m                     \u001b[39m#hover_name=\"country\",\u001b[39;49;00m\n\u001b[0;32m      5\u001b[0m                     animation_frame\u001b[39m=\u001b[39;49m \u001b[39m'\u001b[39;49m\u001b[39mdate\u001b[39;49m\u001b[39m'\u001b[39;49m\n\u001b[0;32m      6\u001b[0m                     \u001b[39m#color_continuous_scale=\"Blues_r\"\u001b[39;49;00m\n\u001b[0;32m      7\u001b[0m                     )\n\u001b[0;32m      8\u001b[0m fig\u001b[39m.\u001b[39mupdate_layout(\n\u001b[0;32m      9\u001b[0m     title_text \u001b[39m=\u001b[39m \u001b[39m\"\u001b[39m\u001b[39mCO2 emmissions transport sector\u001b[39m\u001b[39m\"\u001b[39m,\n\u001b[0;32m     10\u001b[0m     geo \u001b[39m=\u001b[39m \u001b[39mdict\u001b[39m(\n\u001b[1;32m   (...)\u001b[0m\n\u001b[0;32m     14\u001b[0m     )\n\u001b[0;32m     15\u001b[0m )\n\u001b[0;32m     16\u001b[0m fig\u001b[39m.\u001b[39mshow()\n",
      "File \u001b[1;32mc:\\Users\\timtr\\anaconda3\\envs\\TIL6022\\lib\\site-packages\\plotly\\express\\_chart_types.py:1091\u001b[0m, in \u001b[0;36mchoropleth\u001b[1;34m(data_frame, lat, lon, locations, locationmode, geojson, featureidkey, color, facet_row, facet_col, facet_col_wrap, facet_row_spacing, facet_col_spacing, hover_name, hover_data, custom_data, animation_frame, animation_group, category_orders, labels, color_discrete_sequence, color_discrete_map, color_continuous_scale, range_color, color_continuous_midpoint, projection, scope, center, fitbounds, basemap_visible, title, template, width, height)\u001b[0m\n\u001b[0;32m   1051\u001b[0m \u001b[39mdef\u001b[39;00m \u001b[39mchoropleth\u001b[39m(\n\u001b[0;32m   1052\u001b[0m     data_frame\u001b[39m=\u001b[39m\u001b[39mNone\u001b[39;00m,\n\u001b[0;32m   1053\u001b[0m     lat\u001b[39m=\u001b[39m\u001b[39mNone\u001b[39;00m,\n\u001b[1;32m   (...)\u001b[0m\n\u001b[0;32m   1085\u001b[0m     height\u001b[39m=\u001b[39m\u001b[39mNone\u001b[39;00m,\n\u001b[0;32m   1086\u001b[0m ) \u001b[39m-\u001b[39m\u001b[39m>\u001b[39m go\u001b[39m.\u001b[39mFigure:\n\u001b[0;32m   1087\u001b[0m     \u001b[39m\"\"\"\u001b[39;00m\n\u001b[0;32m   1088\u001b[0m \u001b[39m    In a choropleth map, each row of `data_frame` is represented by a\u001b[39;00m\n\u001b[0;32m   1089\u001b[0m \u001b[39m    colored region mark on a map.\u001b[39;00m\n\u001b[0;32m   1090\u001b[0m \u001b[39m    \"\"\"\u001b[39;00m\n\u001b[1;32m-> 1091\u001b[0m     \u001b[39mreturn\u001b[39;00m make_figure(\n\u001b[0;32m   1092\u001b[0m         args\u001b[39m=\u001b[39;49m\u001b[39mlocals\u001b[39;49m(),\n\u001b[0;32m   1093\u001b[0m         constructor\u001b[39m=\u001b[39;49mgo\u001b[39m.\u001b[39;49mChoropleth,\n\u001b[0;32m   1094\u001b[0m         trace_patch\u001b[39m=\u001b[39;49m\u001b[39mdict\u001b[39;49m(locationmode\u001b[39m=\u001b[39;49mlocationmode),\n\u001b[0;32m   1095\u001b[0m     )\n",
      "File \u001b[1;32mc:\\Users\\timtr\\anaconda3\\envs\\TIL6022\\lib\\site-packages\\plotly\\express\\_core.py:2079\u001b[0m, in \u001b[0;36mmake_figure\u001b[1;34m(args, constructor, trace_patch, layout_patch)\u001b[0m\n\u001b[0;32m   2077\u001b[0m val \u001b[39m=\u001b[39m group_name[i]\n\u001b[0;32m   2078\u001b[0m \u001b[39mtry\u001b[39;00m:\n\u001b[1;32m-> 2079\u001b[0m     m\u001b[39m.\u001b[39mupdater(trace, m\u001b[39m.\u001b[39;49mval_map[val])  \u001b[39m# covers most cases\u001b[39;00m\n\u001b[0;32m   2080\u001b[0m \u001b[39mexcept\u001b[39;00m \u001b[39mValueError\u001b[39;00m:\n\u001b[0;32m   2081\u001b[0m     \u001b[39m# this catches some odd cases like marginals\u001b[39;00m\n\u001b[0;32m   2082\u001b[0m     \u001b[39mif\u001b[39;00m (\n\u001b[0;32m   2083\u001b[0m         trace_spec \u001b[39m!=\u001b[39m trace_specs[\u001b[39m0\u001b[39m]\n\u001b[0;32m   2084\u001b[0m         \u001b[39mand\u001b[39;00m (\n\u001b[1;32m   (...)\u001b[0m\n\u001b[0;32m   2091\u001b[0m         )\n\u001b[0;32m   2092\u001b[0m     ):\n",
      "\u001b[1;31mKeyError\u001b[0m: Timestamp('2019-01-01 00:00:00')"
     ]
    }
   ],
   "source": [
    "fig = px.choropleth(df_filt[df_filt.sector =='Domestic Aviation'], locations= 'country',\n",
    "                    locationmode= \"country names\",\n",
    "                    color='co2',\n",
    "                    #hover_name=\"country\",\n",
    "                    animation_frame= 'date'\n",
    "                    #color_continuous_scale=\"Blues_r\"\n",
    "                    )\n",
    "fig.update_layout(\n",
    "    title_text = \"CO2 emmissions transport sector\",\n",
    "    geo = dict(\n",
    "        showframe = False,\n",
    "        showcoastlines = True,\n",
    "        projection_type = \"equirectangular\"\n",
    "    )\n",
    ")\n",
    "fig.show()"
   ]
  }
 ],
 "metadata": {
  "kernelspec": {
   "display_name": "Python 3.10.6 ('TIL6022')",
   "language": "python",
   "name": "python3"
  },
  "language_info": {
   "codemirror_mode": {
    "name": "ipython",
    "version": 3
   },
   "file_extension": ".py",
   "mimetype": "text/x-python",
   "name": "python",
   "nbconvert_exporter": "python",
   "pygments_lexer": "ipython3",
   "version": "3.10.6"
  },
  "orig_nbformat": 4,
  "vscode": {
   "interpreter": {
    "hash": "912e563e9dcba4627191cc3d93bbeccfd6aeff90cb759bc69d8ed01eba93c0fe"
   }
  }
 },
 "nbformat": 4,
 "nbformat_minor": 2
}
