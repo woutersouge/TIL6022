{
 "cells": [
  {
   "cell_type": "markdown",
   "metadata": {},
   "source": [
    "# Project Group - 4\n",
    "\n",
    "Members: Tim Traas, Max Hendriks, Wouter Sougé\n",
    "\n",
    "Student numbers: 4653823, 4694333, 4957830"
   ]
  },
  {
   "cell_type": "markdown",
   "metadata": {},
   "source": [
    "# Research Objective\n",
    "\n",
    "We will research the following question: \"What is the effect of COVID-19 on different transport sectors, looking at CO2 emissions?\"\n",
    "\n",
    "To answer this research question we will look into the dataset found [1]. This dataset shows emissions for different sectors, including transport sectors for major countries worldwide. Using this dataset we would like to visualize an online interactive dashboard including:\n",
    "\n",
    "A world map visualizing the emissions per country with a drop-down menu to select dates and specific countries.\n",
    "Bar graphs visualizing emissions per country on a fixed time period.\n",
    "Sectorial effects per country group\n",
    "Analysis of peaks and comparing this to measures taken by governments\n",
    "The major transport sectors that can be found are aviation, ground transport and shipping.\n",
    "\n",
    "References: \n",
    "1. Liu, Z., Ciais, P., Deng, Z. et al. Near-real-time monitoring of global CO2 emissions reveals the effects of the COVID-19 pandemic. Nat Commun 11, 5172 (2020). https://doi.org/10.1038/s41467-020-18922-7 \n",
    "2. https://datahub.io/core/geo-countries#resource-countries"
   ]
  },
  {
   "cell_type": "markdown",
   "metadata": {},
   "source": []
  },
  {
   "cell_type": "markdown",
   "metadata": {},
   "source": [
    "# Contribution Statement\n",
    "\n",
    "*Be specific. Some of the tasks can be coding (expect everyone to do this), background research, conceptualisation, visualisation, data analysis, data modelling*"
   ]
  },
  {
   "cell_type": "markdown",
   "metadata": {},
   "source": [
    "**Tim Traas**:\n",
    "\n",
    "**Max Hendriks**:\n",
    "\n",
    "**Wouter Sougé**:"
   ]
  },
  {
   "cell_type": "markdown",
   "metadata": {},
   "source": [
    "# Data Used"
   ]
  },
  {
   "cell_type": "markdown",
   "metadata": {},
   "source": []
  },
  {
   "cell_type": "markdown",
   "metadata": {},
   "source": [
    "# Data Pipeline"
   ]
  },
  {
   "cell_type": "markdown",
   "metadata": {},
   "source": []
  }
 ],
 "metadata": {
  "kernelspec": {
   "display_name": "Python 3",
   "language": "python",
   "name": "python3"
  },
  "language_info": {
   "name": "python",
   "version": "3.8.2"
  },
  "orig_nbformat": 4,
  "vscode": {
   "interpreter": {
    "hash": "31f2aee4e71d21fbe5cf8b01ff0e069b9275f58929596ceb00d14d90e3e16cd6"
   }
  }
 },
 "nbformat": 4,
 "nbformat_minor": 2
}
